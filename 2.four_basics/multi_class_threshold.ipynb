{
 "cells": [
  {
   "cell_type": "code",
   "execution_count": 15,
   "metadata": {},
   "outputs": [],
   "source": [
    "import numpy as np\n",
    "from sklearn.datasets import make_classification\n",
    "from sklearn.model_selection import train_test_split\n",
    "from sklearn.ensemble import RandomForestClassifier\n",
    "\n",
    "# 예제 데이터 생성\n",
    "X, y = make_classification(n_samples=1000, n_features=20, n_informative=20, n_redundant=0, n_classes=3, random_state=42)\n",
    "X_train, X_test, y_train, y_test = train_test_split(X, y, test_size=0.2, random_state=42)\n",
    "\n",
    "# 모델 학습\n",
    "model = RandomForestClassifier(random_state=42)\n",
    "model.fit(X_train, y_train)\n",
    "\n",
    "# 클래스별 예측 확률 계산\n",
    "probabilities = model.predict_proba(X_test)\n",
    "\n",
    "# 클래스별 Threshold 설정\n",
    "thresholds = [0.7, 0.6, 0.5]\n",
    "\n",
    "# Threshold 적용하여 예측\n",
    "predictions = []\n",
    "for prob in probabilities:\n",
    "    prediction = np.where(prob >= thresholds)[0]\n",
    "    if len(prediction) == 0:\n",
    "        predictions.append(np.argmax(prob))  # 가장 높은 확률의 클래스\n",
    "    else:\n",
    "        predictions.append(prediction[0])  # Threshold를 충족하는 첫 번째 클래스\n",
    "\n",
    "# 예측 결과\n",
    "predictions = np.array(predictions)\n"
   ]
  },
  {
   "cell_type": "code",
   "execution_count": 23,
   "metadata": {},
   "outputs": [
    {
     "data": {
      "text/plain": [
       "array([0, 1, 2])"
      ]
     },
     "execution_count": 23,
     "metadata": {},
     "output_type": "execute_result"
    }
   ],
   "source": [
    "np.unique(y)"
   ]
  },
  {
   "cell_type": "code",
   "execution_count": null,
   "metadata": {},
   "outputs": [],
   "source": []
  }
 ],
 "metadata": {
  "kernelspec": {
   "display_name": "yeardream",
   "language": "python",
   "name": "python3"
  },
  "language_info": {
   "codemirror_mode": {
    "name": "ipython",
    "version": 3
   },
   "file_extension": ".py",
   "mimetype": "text/x-python",
   "name": "python",
   "nbconvert_exporter": "python",
   "pygments_lexer": "ipython3",
   "version": "3.9.16"
  }
 },
 "nbformat": 4,
 "nbformat_minor": 2
}
