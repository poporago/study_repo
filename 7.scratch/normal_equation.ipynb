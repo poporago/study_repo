{
 "cells": [
  {
   "cell_type": "code",
   "execution_count": 1,
   "metadata": {},
   "outputs": [
    {
     "data": {
      "text/plain": [
       "array([[1.03541264],\n",
       "       [2.00755475]])"
      ]
     },
     "execution_count": 1,
     "metadata": {},
     "output_type": "execute_result"
    }
   ],
   "source": [
    "import numpy as np\n",
    "\n",
    "# 다시 데이터 세트 생성\n",
    "np.random.seed(0)\n",
    "x = np.random.rand(10, 1)\n",
    "y = 2 * x + 1 + np.random.randn(10, 1) * 0.1  # 실제 관계는 y = 2x + 1\n",
    "\n",
    "# X 행렬에 1을 추가하여 절편(intercept, bias term)을 고려 (X0 = 1)\n",
    "X = np.hstack((np.ones((x.shape[0], 1)), x))\n",
    "\n",
    "# Normal equation을 사용한 선형 회귀\n",
    "# (X^T * X)^(-1) * X^T * y\n",
    "w = np.linalg.inv(X.T.dot(X)).dot(X.T).dot(y)\n",
    "\n",
    "# 결과 출력\n",
    "w\n",
    "\n"
   ]
  },
  {
   "cell_type": "code",
   "execution_count": null,
   "metadata": {},
   "outputs": [],
   "source": []
  }
 ],
 "metadata": {
  "kernelspec": {
   "display_name": "pyeardream",
   "language": "python",
   "name": "python3"
  },
  "language_info": {
   "codemirror_mode": {
    "name": "ipython",
    "version": 3
   },
   "file_extension": ".py",
   "mimetype": "text/x-python",
   "name": "python",
   "nbconvert_exporter": "python",
   "pygments_lexer": "ipython3",
   "version": "3.11.5"
  }
 },
 "nbformat": 4,
 "nbformat_minor": 2
}
