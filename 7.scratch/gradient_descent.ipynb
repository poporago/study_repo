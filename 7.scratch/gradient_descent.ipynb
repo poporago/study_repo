{
 "cells": [
  {
   "cell_type": "code",
   "execution_count": 1,
   "metadata": {},
   "outputs": [
    {
     "name": "stdout",
     "output_type": "stream",
     "text": [
      "Epoch 1, Loss: 5.3018, w: 0.2934, b: 0.4543\n",
      "Epoch 2, Loss: 2.7830, w: 0.5066, b: 0.7816\n",
      "Epoch 3, Loss: 1.4688, w: 0.6619, b: 1.0172\n",
      "Epoch 4, Loss: 0.7832, w: 0.7754, b: 1.1866\n",
      "Epoch 5, Loss: 0.4253, w: 0.8586, b: 1.3081\n",
      "Epoch 6, Loss: 0.2385, w: 0.9199, b: 1.3951\n",
      "Epoch 7, Loss: 0.1409, w: 0.9655, b: 1.4571\n",
      "Epoch 8, Loss: 0.0899, w: 0.9997, b: 1.5011\n",
      "Epoch 9, Loss: 0.0631, w: 1.0257, b: 1.5321\n",
      "Epoch 10, Loss: 0.0490, w: 1.0456, b: 1.5537\n",
      "Epoch 11, Loss: 0.0415, w: 1.0613, b: 1.5685\n",
      "Epoch 12, Loss: 0.0375, w: 1.0739, b: 1.5784\n",
      "Epoch 13, Loss: 0.0352, w: 1.0841, b: 1.5848\n",
      "Epoch 14, Loss: 0.0339, w: 1.0928, b: 1.5886\n",
      "Epoch 15, Loss: 0.0331, w: 1.1003, b: 1.5906\n",
      "Epoch 16, Loss: 0.0326, w: 1.1069, b: 1.5913\n",
      "Epoch 17, Loss: 0.0321, w: 1.1128, b: 1.5911\n",
      "Epoch 18, Loss: 0.0318, w: 1.1183, b: 1.5901\n",
      "Epoch 19, Loss: 0.0315, w: 1.1235, b: 1.5887\n",
      "Epoch 20, Loss: 0.0312, w: 1.1284, b: 1.5869\n"
     ]
    },
    {
     "data": {
      "text/plain": [
       "(1.128431501143897, 1.586909671026977)"
      ]
     },
     "execution_count": 1,
     "metadata": {},
     "output_type": "execute_result"
    }
   ],
   "source": [
    "import numpy as np\n",
    "\n",
    "# 간단한 데이터 세트 생성\n",
    "np.random.seed(0)\n",
    "x = np.random.rand(10)\n",
    "y = 2 * x + 1 + np.random.randn(10) * 0.1  # 실제 관계는 y = 2x + 1\n",
    "\n",
    "# 초기 파라미터 설정\n",
    "w = 0\n",
    "b = 0\n",
    "\n",
    "# 학습률과 에포크 설정\n",
    "learning_rate = 0.1\n",
    "epochs = 20\n",
    "\n",
    "# 경사 하강법을 통한 학습\n",
    "for epoch in range(epochs):\n",
    "    # 현재 예측값\n",
    "    y_pred = w * x + b\n",
    "\n",
    "    # MSE 계산\n",
    "    loss = np.mean((y - y_pred) ** 2)\n",
    "\n",
    "    # 손실 함수의 편미분 계산\n",
    "    dw = -2 * np.mean(x * (y - y_pred))\n",
    "    db = -2 * np.mean(y - y_pred)\n",
    "\n",
    "    # 파라미터 업데이트\n",
    "    w -= learning_rate * dw\n",
    "    b -= learning_rate * db\n",
    "\n",
    "    print(f\"Epoch {epoch+1}, Loss: {loss:.4f}, w: {w:.4f}, b: {b:.4f}\")\n",
    "\n",
    "# 최종 학습된 파라미터 값\n",
    "w, b"
   ]
  }
 ],
 "metadata": {
  "kernelspec": {
   "display_name": "pyeardream",
   "language": "python",
   "name": "python3"
  },
  "language_info": {
   "codemirror_mode": {
    "name": "ipython",
    "version": 3
   },
   "file_extension": ".py",
   "mimetype": "text/x-python",
   "name": "python",
   "nbconvert_exporter": "python",
   "pygments_lexer": "ipython3",
   "version": "3.11.5"
  }
 },
 "nbformat": 4,
 "nbformat_minor": 2
}
