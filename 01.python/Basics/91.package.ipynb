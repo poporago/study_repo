{
 "cells": [
  {
   "cell_type": "markdown",
   "metadata": {},
   "source": [
    "패키지\n",
    "- 모듈의 규모가 커졌을 때, 모듈을 나누는 방법\n",
    "모듈은 `관심사를 기반으로 함수와 변수를 나누는 것`\n",
    "- 그 관심사들을 더 크게 묶는 방법 -> 패키지\n",
    "\n",
    "1. 폴더 내부에 있는 모듈을 읽어 들이는 방법\n",
    "2. 폴더 자체를 모듈로 읽어 들이는 방법"
   ]
  }
 ],
 "metadata": {
  "language_info": {
   "name": "python"
  }
 },
 "nbformat": 4,
 "nbformat_minor": 2
}
