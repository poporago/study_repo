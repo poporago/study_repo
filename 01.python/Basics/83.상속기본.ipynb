{
 "cells": [
  {
   "cell_type": "code",
   "execution_count": 5,
   "metadata": {},
   "outputs": [],
   "source": [
    "class Circle:\n",
    "    def __init__(self, 반지름):\n",
    "        self.파이 = 3.14\n",
    "        self.반지름 = 반지름\n",
    "\n",
    "    def 넓이(self):\n",
    "        return self.반지름 * self.반지름 * self.파이\n",
    "    \n",
    "    def 출력(self):\n",
    "        print(\"=\" * 10)\n",
    "        print(\"=\" * 10)\n",
    "        print(\"=\" * 10)\n",
    "        print(f\"=\" * 10)\n",
    "        print(\"=\" * 10)\n",
    "        print(\"=\" * 10)\n",
    "        print(\"=\" * 10)\n",
    "\n",
    "\n",
    "class Square():\n",
    "    def __init__(self, 길이):\n",
    "        self.길이 = 길이\n",
    "\n",
    "    def 넓이(self):\n",
    "        return self.길이 **2\n",
    "    \n",
    "    def 출력(self):\n",
    "        pass"
   ]
  },
  {
   "cell_type": "code",
   "execution_count": null,
   "metadata": {},
   "outputs": [],
   "source": []
  }
 ],
 "metadata": {
  "kernelspec": {
   "display_name": "pyeardream",
   "language": "python",
   "name": "python3"
  },
  "language_info": {
   "codemirror_mode": {
    "name": "ipython",
    "version": 3
   },
   "file_extension": ".py",
   "mimetype": "text/x-python",
   "name": "python",
   "nbconvert_exporter": "python",
   "pygments_lexer": "ipython3",
   "version": "undefined.undefined.undefined"
  }
 },
 "nbformat": 4,
 "nbformat_minor": 2
}
