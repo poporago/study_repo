{
 "cells": [
  {
   "cell_type": "code",
   "execution_count": 1,
   "metadata": {},
   "outputs": [
    {
     "name": "stdout",
     "output_type": "stream",
     "text": [
      "원의 반지름 : 10\n",
      "원의 둘레 : 62.800000000000004\n",
      "원의 넓이 : 314.0\n"
     ]
    }
   ],
   "source": [
    "# 예외 발생 case를 떠올릴 수 있다면, 조건문을 사용해서 예외를 막을 수 있다.\n",
    "\n",
    "입력 = input(\"정수 입력 > \")\n",
    "\n",
    "if 입력.isdigit():\n",
    "    숫자입력 = int(입력)\n",
    "    print(f\"원의 반지름 : {숫자입력}\")\n",
    "    print(f\"원의 둘레 : {2 * 3.14 * 숫자입력}\")\n",
    "    print(f\"원의 넓이 : {3.14 * 숫자입력 * 숫자입력}\")\n",
    "else :\n",
    "    print(\"정수를 입력하지 않았습니다.\")"
   ]
  }
 ],
 "metadata": {
  "kernelspec": {
   "display_name": "pyeardream",
   "language": "python",
   "name": "python3"
  },
  "language_info": {
   "codemirror_mode": {
    "name": "ipython",
    "version": 3
   },
   "file_extension": ".py",
   "mimetype": "text/x-python",
   "name": "python",
   "nbconvert_exporter": "python",
   "pygments_lexer": "ipython3",
   "version": "3.11.5"
  }
 },
 "nbformat": 4,
 "nbformat_minor": 2
}
