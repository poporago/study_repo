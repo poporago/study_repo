{
 "cells": [
  {
   "cell_type": "code",
   "execution_count": 2,
   "metadata": {},
   "outputs": [
    {
     "name": "stdout",
     "output_type": "stream",
     "text": [
      "원의 반지름 : 10\n",
      "원의 둘레 : 62.800000000000004\n",
      "원의 넓이 : 314.0\n"
     ]
    }
   ],
   "source": [
    "# 예외는 예상가능 하지 않은 경우가 훨씬 더 많다. -> try / except구문\n",
    "# 이전 코드와 달리 여러 예외 상황을 다룰 수 있게 된다.\n",
    "\n",
    "입력 = input(\"정수 입력 > \")\n",
    "\n",
    "try :\n",
    "    숫자입력 = int(입력)\n",
    "    print(f\"원의 반지름 : {숫자입력}\")\n",
    "    print(f\"원의 둘레 : {2 * 3.14 * 숫자입력}\")\n",
    "    print(f\"원의 넓이 : {3.14 * 숫자입력 * 숫자입력}\")\n",
    "except :\n",
    "    print(\"정수를 입력하지 않았습니다.\")"
   ]
  },
  {
   "cell_type": "code",
   "execution_count": 3,
   "metadata": {},
   "outputs": [
    {
     "name": "stdout",
     "output_type": "stream",
     "text": [
      "[52.0, 273.0, 32.1, 103.0]\n"
     ]
    }
   ],
   "source": [
    "# except구문을 비워놓는 형태도 많이 활용한다.\n",
    "\n",
    "입력리스트 = [\"52\",\"273\",\"32.1\", \"103\", \"문자열\"]\n",
    "출력리스트 = []\n",
    "\n",
    "for 요소 in 입력리스트:\n",
    "    try :\n",
    "        출력리스트.append(float(요소))\n",
    "    except :\n",
    "        pass\n",
    "\n",
    "print(출력리스트)\n"
   ]
  },
  {
   "cell_type": "code",
   "execution_count": null,
   "metadata": {},
   "outputs": [],
   "source": [
    "# 기능을 명확히 하기 위해 함수에 이름을 붙여 기능을 함수화 하는 것도 가능하다.\n",
    "\n",
    "def isfloat(입력):\n",
    "    try :\n",
    "        float(입력)\n",
    "        return True\n",
    "    except :\n",
    "        return False\n",
    "\n",
    "입력리스트 = [\"52\",\"273\",\"32.1\", \"103\", \"문자열\"]\n",
    "출력리스트 = []\n",
    "\n",
    "for 요소 in 입력리스트:\n",
    "    if isfloat(요소):\n",
    "        출력리스트.append(float(요소))\n",
    "\n",
    "print(출력리스트)"
   ]
  }
 ],
 "metadata": {
  "kernelspec": {
   "display_name": "pyeardream",
   "language": "python",
   "name": "python3"
  },
  "language_info": {
   "codemirror_mode": {
    "name": "ipython",
    "version": 3
   },
   "file_extension": ".py",
   "mimetype": "text/x-python",
   "name": "python",
   "nbconvert_exporter": "python",
   "pygments_lexer": "ipython3",
   "version": "3.11.5"
  }
 },
 "nbformat": 4,
 "nbformat_minor": 2
}
