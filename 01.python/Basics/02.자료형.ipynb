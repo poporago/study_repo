{
 "cells": [
  {
   "cell_type": "markdown",
   "id": "2ae3deb8",
   "metadata": {},
   "source": [
    "## 문자열 다루기"
   ]
  },
  {
   "cell_type": "markdown",
   "id": "2575e8c1-c371-4471-b317-d65a92f81c6f",
   "metadata": {},
   "source": [
    "### print()함수"
   ]
  },
  {
   "cell_type": "code",
   "execution_count": 4,
   "id": "a93addda-c07b-4a54-8ca0-9eb7cd9869bf",
   "metadata": {
    "tags": []
   },
   "outputs": [
    {
     "name": "stdout",
     "output_type": "stream",
     "text": [
      "-----------------------------------\n",
      "print문은 default로 개행을 합니다.\n",
      "\n",
      "\n",
      "print문은 default로 개행을 합니다.\n",
      "-----------------------------------\n"
     ]
    }
   ],
   "source": [
    "print('-----------------------------------')\n",
    "print('print문은 default로 개행을 합니다.')\n",
    "print()\n",
    "print()\n",
    "print('print문은 default로 개행을 합니다.')\n",
    "print('-----------------------------------')"
   ]
  },
  {
   "cell_type": "code",
   "execution_count": 5,
   "id": "f421c2f4",
   "metadata": {},
   "outputs": [
    {
     "name": "stdout",
     "output_type": "stream",
     "text": [
      "--\n",
      "개행\n",
      "\n",
      "--\n"
     ]
    }
   ],
   "source": [
    "print('--')\n",
    "print('개행')\n",
    "print(end='\\n')\n",
    "print('--')"
   ]
  },
  {
   "cell_type": "code",
   "execution_count": 5,
   "id": "37ea0220-e828-4fe8-a8ca-5e9d2781d46f",
   "metadata": {
    "tags": []
   },
   "outputs": [
    {
     "name": "stdout",
     "output_type": "stream",
     "text": [
      "\"쌍따옴표를 출력하기\"\n"
     ]
    }
   ],
   "source": [
    "print('\"쌍따옴표를 출력하기\"')"
   ]
  },
  {
   "cell_type": "code",
   "execution_count": 6,
   "id": "8de4a2bf-fd78-45f6-9531-b1df95986b2c",
   "metadata": {
    "tags": []
   },
   "outputs": [
    {
     "name": "stdout",
     "output_type": "stream",
     "text": [
      "'따옴표를 출력하기'\n"
     ]
    }
   ],
   "source": [
    "print(\"'따옴표를 출력하기'\")"
   ]
  },
  {
   "cell_type": "code",
   "execution_count": 11,
   "id": "1b300657-505b-4aa4-91f0-657cd41a9901",
   "metadata": {
    "tags": []
   },
   "outputs": [
    {
     "name": "stdout",
     "output_type": "stream",
     "text": [
      "'이스케이프 문자를 통해 출력하기'\n"
     ]
    }
   ],
   "source": [
    "print('\\'이스케이프 문자를 통해 출력하기\\'')"
   ]
  },
  {
   "cell_type": "markdown",
   "id": "997db472-f82f-4129-9273-30115107ca55",
   "metadata": {},
   "source": [
    "이스케이프 문자란? 역슬래시기호와 함께 조합해서 사용하는 특수한 문자"
   ]
  },
  {
   "cell_type": "code",
   "execution_count": 12,
   "id": "cec68158-07b7-47cd-a597-65c448e2115d",
   "metadata": {
    "tags": []
   },
   "outputs": [
    {
     "name": "stdout",
     "output_type": "stream",
     "text": [
      "줄바꿈\n",
      "되었다.\n"
     ]
    }
   ],
   "source": [
    "print('줄바꿈\\n되었다.')"
   ]
  },
  {
   "cell_type": "code",
   "execution_count": 13,
   "id": "76d49a8f-37b9-4557-acb2-a1b80bbb8c73",
   "metadata": {
    "tags": []
   },
   "outputs": [
    {
     "name": "stdout",
     "output_type": "stream",
     "text": [
      "탭간격\t되었다.\n"
     ]
    }
   ],
   "source": [
    "print('탭간격\\t되었다.')"
   ]
  },
  {
   "cell_type": "markdown",
   "id": "cfc712c5",
   "metadata": {},
   "source": [
    "여러 줄 문자열"
   ]
  },
  {
   "cell_type": "code",
   "execution_count": 14,
   "id": "50d14e46-0d94-4fb4-abc8-99f46f3ffdc3",
   "metadata": {
    "tags": []
   },
   "outputs": [
    {
     "name": "stdout",
     "output_type": "stream",
     "text": [
      "줄바꿈\n",
      "확인을\n",
      "해봅니다\n",
      "\n"
     ]
    }
   ],
   "source": [
    "print('''줄바꿈\n",
    "확인을\n",
    "해봅니다\n",
    "''')"
   ]
  },
  {
   "cell_type": "code",
   "execution_count": 16,
   "id": "dc6c383b-5de2-40d6-bb35-5b1710498ca7",
   "metadata": {
    "tags": []
   },
   "outputs": [
    {
     "name": "stdout",
     "output_type": "stream",
     "text": [
      "\n",
      "맨 윗줄과 아랫줄을 띄우면\n",
      "의도하지 않은 줄바꿈이 들어갑니다.\n",
      "\n"
     ]
    }
   ],
   "source": [
    "print('''\n",
    "맨 윗줄과 아랫줄을 띄우면\n",
    "의도하지 않은 줄바꿈이 들어갑니다.\n",
    "''')"
   ]
  },
  {
   "cell_type": "code",
   "execution_count": 19,
   "id": "b0d7050e-7ad3-40e2-a52f-9c35dccf2162",
   "metadata": {
    "tags": []
   },
   "outputs": [
    {
     "name": "stdout",
     "output_type": "stream",
     "text": [
      "역슬래시 기호는 코드의 이어짐을 나타냅니다.\n"
     ]
    }
   ],
   "source": [
    "print('''\\\n",
    "역슬래시 기호는 코드의 이어짐을 나타냅니다.\\\n",
    "''')"
   ]
  },
  {
   "cell_type": "markdown",
   "id": "442bc371-4feb-4796-9372-bbfc78627373",
   "metadata": {},
   "source": [
    "Q. 표현식(repr)이 출력해주는데, print() 함수를 통해 출력해야만 하나요?\n",
    "> 인터렉티브 셸 환경은 값을 곧바로 출력하지만, 파일로 실행할 때는 반드시 print()함수를 사용해야 값을 출력한다. "
   ]
  },
  {
   "cell_type": "markdown",
   "id": "b1570534-6c4f-48e7-9456-4df9e87fa5d4",
   "metadata": {},
   "source": [
    "```python\n",
    "input() 함수의 출력은 'str'\n",
    "```"
   ]
  },
  {
   "cell_type": "markdown",
   "id": "a9d29ca9-32e7-491c-9891-5dff449f7a6e",
   "metadata": {
    "tags": []
   },
   "source": [
    "### 문자열을 숫자로 바꾸기"
   ]
  },
  {
   "cell_type": "code",
   "execution_count": 25,
   "id": "b26f9488-6f7f-437e-be63-aa593470c642",
   "metadata": {
    "tags": []
   },
   "outputs": [
    {
     "data": {
      "text/plain": [
       "52"
      ]
     },
     "execution_count": 25,
     "metadata": {},
     "output_type": "execute_result"
    }
   ],
   "source": [
    "int(\"52\")"
   ]
  },
  {
   "cell_type": "code",
   "execution_count": 27,
   "id": "369bda86-f648-4ab2-bb01-fbba06279705",
   "metadata": {
    "tags": []
   },
   "outputs": [
    {
     "ename": "ValueError",
     "evalue": "invalid literal for int() with base 10: '52.333'",
     "output_type": "error",
     "traceback": [
      "\u001b[1;31m---------------------------------------------------------------------------\u001b[0m",
      "\u001b[1;31mValueError\u001b[0m                                Traceback (most recent call last)",
      "Cell \u001b[1;32mIn[27], line 1\u001b[0m\n\u001b[1;32m----> 1\u001b[0m \u001b[38;5;28mint\u001b[39m(\u001b[38;5;124m\"\u001b[39m\u001b[38;5;124m52.333\u001b[39m\u001b[38;5;124m\"\u001b[39m)\n",
      "\u001b[1;31mValueError\u001b[0m: invalid literal for int() with base 10: '52.333'"
     ]
    }
   ],
   "source": [
    "int(\"52.333\") "
   ]
  },
  {
   "cell_type": "markdown",
   "id": "7acbb2bc-7e66-4341-b0b9-ae2a1b932a55",
   "metadata": {},
   "source": [
    "> ValueError 예외 발생"
   ]
  },
  {
   "cell_type": "code",
   "execution_count": 29,
   "id": "d2e075e3-f55f-4b78-8c61-d39bd0d166d3",
   "metadata": {
    "tags": []
   },
   "outputs": [
    {
     "data": {
      "text/plain": [
       "52"
      ]
     },
     "execution_count": 29,
     "metadata": {},
     "output_type": "execute_result"
    }
   ],
   "source": [
    "int(float(\"52.333\"))"
   ]
  },
  {
   "cell_type": "markdown",
   "id": "7a8fa1f2-d76e-448c-8e02-3597b202640d",
   "metadata": {},
   "source": [
    "### Q1. inch단위를 cm단위로 변경하기"
   ]
  },
  {
   "cell_type": "code",
   "execution_count": 30,
   "id": "380ecbec-d6fa-47b2-9538-b8ae78f13385",
   "metadata": {
    "tags": []
   },
   "outputs": [
    {
     "name": "stdout",
     "output_type": "stream",
     "text": [
      " 3\n",
      "3 inch는 cm단위로 7.62 cm입니다.\n"
     ]
    }
   ],
   "source": [
    "#inch단위를 input받습니다.\n",
    "raw_input = input()  \n",
    "#str자료형을 int형으로 형변환합니다.\n",
    "inch = int(raw_input) \n",
    "cm = inch *2.54\n",
    "\n",
    "print(inch, \"inch는 cm단위로\",cm, \"cm입니다.\")"
   ]
  },
  {
   "cell_type": "markdown",
   "id": "acc254a3-510b-46d6-8650-03299942ff5b",
   "metadata": {},
   "source": [
    "### Q2. Swapping"
   ]
  },
  {
   "cell_type": "code",
   "execution_count": 31,
   "id": "17771809-27e1-4c28-a2f7-df9dc8cff76f",
   "metadata": {
    "tags": []
   },
   "outputs": [
    {
     "name": "stdout",
     "output_type": "stream",
     "text": [
      " 안녕\n",
      " 하세요\n"
     ]
    }
   ],
   "source": [
    "a = input()\n",
    "b = input()\n",
    "a, b = b,a"
   ]
  },
  {
   "cell_type": "code",
   "execution_count": 32,
   "id": "862ebd9a-81f1-4f0f-b48e-7c59369c1e86",
   "metadata": {
    "tags": []
   },
   "outputs": [
    {
     "name": "stdout",
     "output_type": "stream",
     "text": [
      "하세요 안녕\n"
     ]
    }
   ],
   "source": [
    "print(a,b)"
   ]
  },
  {
   "cell_type": "code",
   "execution_count": 33,
   "id": "a005ecc8-e3f7-4638-990e-aba92c85221f",
   "metadata": {
    "tags": []
   },
   "outputs": [
    {
     "name": "stdout",
     "output_type": "stream",
     "text": [
      "하세요 안녕\n"
     ]
    }
   ],
   "source": [
    "a = '안녕'\n",
    "b = '하세요'\n",
    "c = a\n",
    "a = b\n",
    "b = c\n",
    "\n",
    "print(a,b)"
   ]
  },
  {
   "cell_type": "markdown",
   "id": "c6b3b68c-a0e8-47d2-b5f9-186d75b9fb41",
   "metadata": {},
   "source": [
    "### format() 함수"
   ]
  },
  {
   "cell_type": "code",
   "execution_count": 35,
   "id": "ed92ab73-edaa-4809-8067-792ed9500cd4",
   "metadata": {
    "tags": []
   },
   "outputs": [
    {
     "data": {
      "text/plain": [
       "'10,20'"
      ]
     },
     "execution_count": 35,
     "metadata": {},
     "output_type": "execute_result"
    }
   ],
   "source": [
    "\"{},{}\".format(10,20)"
   ]
  },
  {
   "cell_type": "code",
   "execution_count": 36,
   "id": "c0af6f0b-cf62-4aef-8575-2fafb8f681e6",
   "metadata": {
    "tags": []
   },
   "outputs": [
    {
     "name": "stdout",
     "output_type": "stream",
     "text": [
      "10\n",
      "<class 'str'>\n"
     ]
    }
   ],
   "source": [
    "# format()함수로 숫자를 문자열로 변환하기\n",
    "string_a = \"{}\".format(10)\n",
    "\n",
    "print(string_a)\n",
    "print(type(string_a))"
   ]
  },
  {
   "cell_type": "markdown",
   "id": "da531b77-74a9-4d44-9a95-7f54e5c588e4",
   "metadata": {},
   "source": [
    "### foramt()함수의 인자로 다양한 형태의 자료형이 가능하다."
   ]
  },
  {
   "cell_type": "code",
   "execution_count": 37,
   "id": "16293c5a-5e9c-4f95-8f53-8118df7e0c2d",
   "metadata": {
    "tags": []
   },
   "outputs": [
    {
     "name": "stdout",
     "output_type": "stream",
     "text": [
      "5000만 원\n",
      "파이썬 열공하여 첫 연봉5000만 원 만들기 \n",
      "3000 4000 5000\n",
      "1 문자열 True\n"
     ]
    }
   ],
   "source": [
    "format_a = \"{}만 원\".format(5000)\n",
    "format_b = \"파이썬 열공하여 첫 연봉{}만 원 만들기 \".format(5000)\n",
    "format_c = \"{} {} {}\".format(3000,4000,5000)\n",
    "format_d = \"{} {} {}\".format(1, \"문자열\", True)\n",
    "\n",
    "#출력하기\n",
    "print(format_a)\n",
    "print(format_b)\n",
    "print(format_c)\n",
    "print(format_d)"
   ]
  },
  {
   "cell_type": "markdown",
   "id": "2c11fd03-95b2-4c9f-b0e7-76c049171703",
   "metadata": {},
   "source": [
    "### format()함수의 다양한 기능 -  정수를 특정 칸에 출력하기\n",
    "'{' 기호는  중괄호, curly bracket, brace 라고 부른다."
   ]
  },
  {
   "cell_type": "code",
   "execution_count": 1,
   "id": "7bb5b264-d03e-4b0d-98af-ce6b23e45836",
   "metadata": {
    "tags": []
   },
   "outputs": [],
   "source": [
    "# 정수\n",
    "output_a = \"{:d}\".format(52)"
   ]
  },
  {
   "cell_type": "code",
   "execution_count": 2,
   "id": "87cdd1ca-c1fd-4904-bd21-ae9f4fa2b3f5",
   "metadata": {
    "tags": []
   },
   "outputs": [
    {
     "name": "stdout",
     "output_type": "stream",
     "text": [
      "<class 'str'>\n"
     ]
    },
    {
     "data": {
      "text/plain": [
       "'52'"
      ]
     },
     "execution_count": 2,
     "metadata": {},
     "output_type": "execute_result"
    }
   ],
   "source": [
    "print(type(output_a))\n",
    "output_a"
   ]
  },
  {
   "cell_type": "markdown",
   "id": "6d26f4bc",
   "metadata": {},
   "source": [
    "format함수의 출력은 문자열 'str'이다"
   ]
  },
  {
   "cell_type": "code",
   "execution_count": 7,
   "id": "5ff49c52-d4f5-46ff-83f5-df05df3eb87d",
   "metadata": {
    "tags": []
   },
   "outputs": [
    {
     "name": "stdout",
     "output_type": "stream",
     "text": [
      "   52\n",
      "        52\n",
      "       -52\n",
      "00052\n",
      "-0052\n"
     ]
    }
   ],
   "source": [
    "print(\"{:5d}\".format(52))\n",
    "print(\"{:10d}\".format(52))\n",
    "print(\"{:10d}\".format(-52))\n",
    "print(\"{:05d}\".format(52)) #빈칸을 0으로 채우기\n",
    "print(\"{:05d}\".format(-52)) #부호를 맨앞에 채움"
   ]
  },
  {
   "cell_type": "code",
   "execution_count": 18,
   "id": "7d1202c9-da0d-470b-b729-72b1b1687fd6",
   "metadata": {
    "tags": []
   },
   "outputs": [
    {
     "name": "stdout",
     "output_type": "stream",
     "text": [
      "       +52\n",
      "       -52\n",
      "-       52\n",
      "+       52\n"
     ]
    }
   ],
   "source": [
    "print(\"{:+10d}\".format(52)) #부호를 뒤로 밀기\n",
    "print(\"{:-10d}\".format(-52))\n",
    "print(\"{:=10d}\".format(-52)) #부호를 앞으로 밀기\n",
    "print(\"{:=+10d}\".format(52)) #부호를 앞으로 밀기"
   ]
  },
  {
   "cell_type": "markdown",
   "id": "48c4a519",
   "metadata": {},
   "source": [
    "부동 소수점 출력의 다양한 형태"
   ]
  },
  {
   "cell_type": "code",
   "execution_count": 28,
   "id": "3f3a70d9",
   "metadata": {},
   "outputs": [
    {
     "name": "stdout",
     "output_type": "stream",
     "text": [
      "        52.0000\n"
     ]
    }
   ],
   "source": [
    "print(\"{:15.4f}\".format(52))"
   ]
  },
  {
   "cell_type": "code",
   "execution_count": 24,
   "id": "dd891019-2fee-4deb-9a4e-3904f111a85a",
   "metadata": {
    "tags": []
   },
   "outputs": [
    {
     "name": "stdout",
     "output_type": "stream",
     "text": [
      "+      52.00000\n",
      "+       52.0000\n",
      "+        52.000\n",
      "+     52.00000\n",
      "+    52.00000\n"
     ]
    }
   ],
   "source": [
    "print(\"{:=+15.5f}\".format(52))\n",
    "print(\"{:=+15.4f}\".format(52))\n",
    "print(\"{:=+15.3f}\".format(52))\n",
    "print(\"{:=+14.5f}\".format(52))\n",
    "print(\"{:=+13.5f}\".format(52))"
   ]
  },
  {
   "cell_type": "markdown",
   "id": "bf82b0d3",
   "metadata": {},
   "source": [
    "의미 없는 소숫점 제거하기"
   ]
  },
  {
   "cell_type": "code",
   "execution_count": 37,
   "id": "db694cff",
   "metadata": {},
   "outputs": [
    {
     "name": "stdout",
     "output_type": "stream",
     "text": [
      "52.0\n",
      "52\n"
     ]
    }
   ],
   "source": [
    "output_a = 52.0\n",
    "output_b = \"{:g}\".format(output_a)\n",
    "print(output_a)\n",
    "print(output_b)"
   ]
  },
  {
   "cell_type": "code",
   "execution_count": 42,
   "id": "e788dd00",
   "metadata": {},
   "outputs": [],
   "source": [
    "# 기타 여러가지 함수\n",
    "# a.upper() a.lower() a.strip() a.rstrip(), a.lstrip()\n",
    "# 문자열의 구성 파악하기 isXXX()\n",
    "# isdigit(), islower(), isupper(), isalpha() , isalnum()"
   ]
  },
  {
   "cell_type": "markdown",
   "id": "6a2f7d99",
   "metadata": {},
   "source": [
    "문자열 찾기: find() , rfind()"
   ]
  },
  {
   "cell_type": "code",
   "execution_count": 44,
   "id": "bb6a9313",
   "metadata": {},
   "outputs": [
    {
     "name": "stdout",
     "output_type": "stream",
     "text": [
      "0\n"
     ]
    }
   ],
   "source": [
    "output_a = \"안녕안녕하세요\".find(\"안녕\")\n",
    "print(output_a)"
   ]
  },
  {
   "cell_type": "code",
   "execution_count": 46,
   "id": "8d8b96a6",
   "metadata": {},
   "outputs": [
    {
     "name": "stdout",
     "output_type": "stream",
     "text": [
      "2\n"
     ]
    }
   ],
   "source": [
    "output_a = \"안녕안녕하세요\".rfind(\"안녕\")\n",
    "print(output_a)"
   ]
  },
  {
   "cell_type": "markdown",
   "id": "7bcc174a-c428-44d1-9174-bf8756ce7fa3",
   "metadata": {},
   "source": [
    "### split()함수"
   ]
  },
  {
   "cell_type": "code",
   "execution_count": null,
   "id": "86e3329c-3dfb-4dc6-8120-086525bc96e3",
   "metadata": {
    "tags": []
   },
   "outputs": [
    {
     "name": "stdout",
     "output_type": "stream",
     "text": [
      "['10', '20', '30', '40']\n"
     ]
    }
   ],
   "source": [
    "print(\"10    20\\t30\\n40\".split())"
   ]
  },
  {
   "cell_type": "markdown",
   "id": "83d865e9-40a7-4fb6-81bb-6297cc551b9f",
   "metadata": {},
   "source": [
    "공백이 몇칸이든 `split()`은 전체공백기준으로 나누고, 결과는 리스트로 반환된다."
   ]
  },
  {
   "cell_type": "markdown",
   "id": "b7a29f56",
   "metadata": {},
   "source": [
    "format()함수 ,input()함수 등 'str'로 return되는것들을 연산에 활용할때는 int,혹은 float형으로 바꿔줄 것."
   ]
  },
  {
   "cell_type": "markdown",
   "id": "c19c5fd8-9c0d-4dab-88c3-ea6e18215e64",
   "metadata": {
    "tags": []
   },
   "source": [
    "### 파괴적연산(in_place), 비파괴적연산\n",
    "파괴적 연산 - 할당 연산자, 리스트형의 메서드 <br>\n",
    "비파괴적 연산 - 대부분의 문자열의 메서드\n",
    "- a.split()\n",
    "- a.format()\n",
    "- a.upper()\n",
    "- a.lower()\n",
    "- a.strip()\n",
    "- a.lstrip(), a.rstrip()\n",
    "- a.isalpha(), a.isdigit()\n",
    "- a.find(\"b\"), a.rfind(\"b\")\n",
    "- a in b"
   ]
  },
  {
   "cell_type": "markdown",
   "id": "ffdeabfb",
   "metadata": {},
   "source": [
    "f-스트링 vs format()함수"
   ]
  },
  {
   "cell_type": "code",
   "execution_count": 58,
   "id": "fae293a3",
   "metadata": {},
   "outputs": [
    {
     "data": {
      "text/plain": [
       "'이름:별 나이:2 성별:M 지역:서울특별시 강서구 중성화 여부:Y '"
      ]
     },
     "execution_count": 58,
     "metadata": {},
     "output_type": "execute_result"
    }
   ],
   "source": [
    "data = ['별', 2, 'M', '서울특별시 강서구', 'Y']\n",
    "\"\"\"이름:{} 나이:{} 성별:{} 지역:{} 중성화 여부:{} \"\"\".format(*data)  #리스트 전개 연산자 \"*\""
   ]
  }
 ],
 "metadata": {
  "kernelspec": {
   "display_name": "Python 3 (ipykernel)",
   "language": "python",
   "name": "python3"
  },
  "language_info": {
   "codemirror_mode": {
    "name": "ipython",
    "version": 3
   },
   "file_extension": ".py",
   "mimetype": "text/x-python",
   "name": "python",
   "nbconvert_exporter": "python",
   "pygments_lexer": "ipython3",
   "version": "3.11.5"
  }
 },
 "nbformat": 4,
 "nbformat_minor": 5
}
