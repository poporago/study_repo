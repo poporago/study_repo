{
 "cells": [
  {
   "cell_type": "code",
   "execution_count": 2,
   "metadata": {},
   "outputs": [],
   "source": [
    "# 학생들의 성적을 저장해두고\n",
    "# 평균과 합계를 출력하는 프로그램\n",
    "\n",
    "학생들 = [\n",
    "\n",
    "{ \"이름\" : \"인성\", \"국어\": 87, \"영어\" : 88, \"수학\": 98, \"과학\": 95},\n",
    "{ \"이름\" : \"구름\", \"국어\": 92, \"영어\" : 98, \"수학\": 97, \"과학\": 98},\n",
    "{ \"이름\" : \"별이\", \"국어\": 76, \"영어\" : 96, \"수학\": 95, \"과학\": 90},\n",
    "\n",
    "]\n"
   ]
  },
  {
   "cell_type": "code",
   "execution_count": 6,
   "metadata": {},
   "outputs": [
    {
     "name": "stdout",
     "output_type": "stream",
     "text": [
      "이름\t총점\t평균\n",
      "인성\t368\t92.0\n",
      "구름\t385\t96.25\n",
      "별이\t357\t89.25\n"
     ]
    }
   ],
   "source": [
    "print(\"이름\",\"총점\",\"평균\",sep=\"\\t\")\n",
    "for 학생 in 학생들:\n",
    "    총점 = 학생[\"국어\"] + 학생[\"영어\"] + 학생[\"수학\"] + 학생[\"과학\"]\n",
    "    평균 = 총점/4\n",
    "    print(학생[\"이름\"], 총점, 평균, sep=\"\\t\")\n"
   ]
  },
  {
   "cell_type": "code",
   "execution_count": null,
   "metadata": {},
   "outputs": [],
   "source": [
    "# 학생이 여러명일 수 있음으로, 학생 생성을 획일화 할 수 있으면 좋을 것 같음\n",
    "# 총점과 평균을 구하는 코드가 반복되고, 수정이 필요할 경우 수작업을 요구함"
   ]
  },
  {
   "cell_type": "code",
   "execution_count": 7,
   "metadata": {},
   "outputs": [
    {
     "name": "stdout",
     "output_type": "stream",
     "text": [
      "이름\t총점\t평균\n",
      "인성\t368\t92.0\n",
      "구름\t385\t96.25\n",
      "별이\t357\t89.25\n"
     ]
    },
    {
     "ename": "",
     "evalue": "",
     "output_type": "error",
     "traceback": [
      "\u001b[1;31mThe Kernel crashed while executing code in the current cell or a previous cell. \n",
      "\u001b[1;31mPlease review the code in the cell(s) to identify a possible cause of the failure. \n",
      "\u001b[1;31mClick <a href='https://aka.ms/vscodeJupyterKernelCrash'>here</a> for more info. \n",
      "\u001b[1;31mView Jupyter <a href='command:jupyter.viewOutput'>log</a> for further details."
     ]
    }
   ],
   "source": [
    "def create_student(이름,국어,영어,수학,과학): # key입력 실수가 줄 것이다.\n",
    "    return { \"이름\" : 이름 , \"국어\": 국어, \"영어\" : 영어, \"수학\": 수학, \"과학\": 과학}\n",
    "\n",
    "\n",
    "def sum_student(학생):\n",
    "    return 학생[\"국어\"] + 학생[\"영어\"] + 학생[\"수학\"] + 학생[\"과학\"]\n",
    "\n",
    "def average_student(학생):\n",
    "    return sum_student(학생)/4\n",
    "\n",
    "학생들 = [\n",
    "    create_student(\"인성\", 87, 88, 98, 95),\n",
    "    create_student(\"구름\", 92, 98, 97, 98),\n",
    "    create_student(\"별이\", 76, 96, 95, 90)\n",
    "]\n",
    "\n",
    "print(\"이름\",\"총점\",\"평균\",sep=\"\\t\")\n",
    "for 학생 in 학생들:\n",
    "    총점 = sum_student(학생)\n",
    "    평균 = average_student(학생)\n",
    "    print(학생[\"이름\"], 총점, 평균, sep=\"\\t\")"
   ]
  }
 ],
 "metadata": {
  "kernelspec": {
   "display_name": "pyeardream",
   "language": "python",
   "name": "python3"
  },
  "language_info": {
   "codemirror_mode": {
    "name": "ipython",
    "version": 3
   },
   "file_extension": ".py",
   "mimetype": "text/x-python",
   "name": "python",
   "nbconvert_exporter": "python",
   "pygments_lexer": "ipython3",
   "version": "undefined.undefined.undefined"
  }
 },
 "nbformat": 4,
 "nbformat_minor": 2
}
