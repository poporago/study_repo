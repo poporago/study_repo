{
 "cells": [
  {
   "cell_type": "code",
   "execution_count": 2,
   "metadata": {},
   "outputs": [],
   "source": [
    "# 클래스 : 함수와 변수를 묶어 놓은 것 -> 객체를 만들어내기 위한 설계도\n",
    "\n",
    "\n",
    "# 클래스 (설계도)\n",
    "\n",
    "class 학생:\n",
    "    #클래스의 내용\n",
    "    pass\n",
    "\n",
    "# 인스턴스 (객체)\n",
    "\n",
    "인성 = 학생()\n",
    "\n",
    "# 변수 추가\n",
    "\n",
    "인성.이름 = \"인성\"\n",
    "인성.국어 = 87\n",
    "인성.영어 = 88\n",
    "인성.수학 = 98\n",
    "인성.과학 = 95\n"
   ]
  },
  {
   "cell_type": "markdown",
   "metadata": {},
   "source": [
    "그러나 이러한 변수 추가 방식은 기존 dictionary 정의 방법과 크게 다르지 않다. <br>\n",
    "-> 초기화 함수 사용"
   ]
  },
  {
   "cell_type": "code",
   "execution_count": null,
   "metadata": {},
   "outputs": [],
   "source": [
    "class 학생:\n",
    "    def 초기화(self, 이름, 국어, 영어, 수학, 과학): # 클래스가 갖는 모든 함수는 첫 번째 매개변수로 self를 가져가야 한다.\n",
    "        self.이름 = 이름\n",
    "        self.국어 = 국어\n",
    "        self.영어 = 영어\n",
    "        self.수학 = 수학\n",
    "        self.과학 = 과학\n",
    "\n",
    "\n",
    "\n",
    "인성 = 학생()\n",
    "\n",
    "# 함수 호출 방법(1)\n",
    "학생.초기화(인성, \"인성\", 87, 88, 98 , 95)\n",
    "\n",
    "# 함수 호출 방법(2)\n",
    "인성.초기화(\"인성\", 87, 88, 98, 95)\n",
    "\n",
    "\n"
   ]
  },
  {
   "cell_type": "code",
   "execution_count": null,
   "metadata": {},
   "outputs": [],
   "source": [
    "# 매직 메서드, 던더메서드 \n",
    "# '__init__'\n",
    "\n",
    "class 학생:\n",
    "    def __init__(self, 이름, 국어, 영어, 수학, 과학): # 클래스가 갖는 모든 함수는 첫 번째 매개변수로 self를 가져가야 한다.\n",
    "        self.이름 = 이름\n",
    "        self.국어 = 국어\n",
    "        self.영어 = 영어\n",
    "        self.수학 = 수학\n",
    "        self.과학 = 과학\n",
    "\n",
    "\n",
    "\n",
    "인성 = 학생(\"인성\",87,88, 98, 95)   #__init__으로 인해 객체를 생성시 초기화 할 수 있게 된다."
   ]
  },
  {
   "cell_type": "code",
   "execution_count": 3,
   "metadata": {},
   "outputs": [],
   "source": [
    "# 클래스는 캐멀 케이스를 사용하게 됨\n",
    "\n",
    "class Student :\n",
    "    def __init__(self, 이름, 국어, 영어, 수학, 과학):\n",
    "        self.이름 = 이름\n",
    "        self.국어 = 국어\n",
    "        self.영어 = 영어\n",
    "        self.수학 = 수학\n",
    "        self.과학 = 과학\n",
    "\n",
    "    def sum(self):\n",
    "        return self.국어 + self.수학 + self.영어 + self.과학\n",
    "    \n",
    "    def average(self):\n",
    "        return self.sum() /4\n",
    "    \n",
    "    def print(self):\n",
    "        print(self.이름, self.sum(), self.average(), sep=\"\\t\")\n",
    "\n",
    "\n",
    "class StudentList:\n",
    "    def __init__(self):\n",
    "        self.students = []\n",
    "\n",
    "    def add(self, student):\n",
    "        self.students.append(student)\n",
    "    \n",
    "    def print(self):\n",
    "        print(\"이름\", \"총점\", \"평균\", sep = \"\\t\")\n",
    "        for student in self.students:\n",
    "            student.print()\n",
    "\n"
   ]
  },
  {
   "cell_type": "code",
   "execution_count": 4,
   "metadata": {},
   "outputs": [
    {
     "name": "stdout",
     "output_type": "stream",
     "text": [
      "이름\t총점\t평균\n",
      "인성\t368\t92.0\n",
      "구름\t385\t96.25\n",
      "별이\t1227\t306.75\n"
     ]
    }
   ],
   "source": [
    "students = StudentList()\n",
    "students.add(Student(\"인성\", 87, 88, 98 , 95))\n",
    "students.add(Student(\"구름\", 92, 98, 97 , 98))\n",
    "students.add(Student(\"별이\", 76, 96, 965, 90))\n",
    "students.print()"
   ]
  }
 ],
 "metadata": {
  "kernelspec": {
   "display_name": "pyeardream",
   "language": "python",
   "name": "python3"
  },
  "language_info": {
   "codemirror_mode": {
    "name": "ipython",
    "version": 3
   },
   "file_extension": ".py",
   "mimetype": "text/x-python",
   "name": "python",
   "nbconvert_exporter": "python",
   "pygments_lexer": "ipython3",
   "version": "3.11.5"
  }
 },
 "nbformat": 4,
 "nbformat_minor": 2
}
