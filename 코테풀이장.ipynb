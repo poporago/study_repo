{
 "cells": [
  {
   "cell_type": "code",
   "execution_count": 59,
   "id": "b53e742e-74e0-4f8d-895a-12745696b8e9",
   "metadata": {
    "tags": []
   },
   "outputs": [],
   "source": [
    "def recursive(i):\n",
    "    #100번째 탈출\n",
    "    if i == 100 :\n",
    "        return\n",
    "    print(i, '번째 재귀함수에서', i+1, '번째 재귀함수를 호출합니다.')\n",
    "    recursive(i+1)\n",
    "    print(i, '번째 재귀함수를 종료합니다.')"
   ]
  },
  {
   "cell_type": "code",
   "execution_count": 60,
   "id": "b89078c4-be20-454e-b138-b7884fb1c00a",
   "metadata": {
    "tags": []
   },
   "outputs": [
    {
     "name": "stdout",
     "output_type": "stream",
     "text": [
      "95 번째 재귀함수에서 96 번째 재귀함수를 호출합니다.\n",
      "96 번째 재귀함수에서 97 번째 재귀함수를 호출합니다.\n",
      "97 번째 재귀함수에서 98 번째 재귀함수를 호출합니다.\n",
      "98 번째 재귀함수에서 99 번째 재귀함수를 호출합니다.\n",
      "99 번째 재귀함수에서 100 번째 재귀함수를 호출합니다.\n",
      "99 번째 재귀함수를 종료합니다.\n",
      "98 번째 재귀함수를 종료합니다.\n",
      "97 번째 재귀함수를 종료합니다.\n",
      "96 번째 재귀함수를 종료합니다.\n",
      "95 번째 재귀함수를 종료합니다.\n"
     ]
    }
   ],
   "source": [
    "recursive(95)"
   ]
  },
  {
   "cell_type": "markdown",
   "id": "a89278ea-0950-4623-aa3b-cfae86668c19",
   "metadata": {},
   "source": [
    "## 반복문으로 팩토리얼"
   ]
  },
  {
   "cell_type": "code",
   "execution_count": 67,
   "id": "420e54a1-403c-4227-a219-f8a2ec690937",
   "metadata": {
    "tags": []
   },
   "outputs": [],
   "source": [
    "def factorial(n):\n",
    "    result = 1\n",
    "    for i in range(1,n+1,1):\n",
    "        result *= i\n",
    "    return result"
   ]
  },
  {
   "cell_type": "code",
   "execution_count": 73,
   "id": "3dd49f71-4710-456b-af18-f7c860ebe810",
   "metadata": {
    "tags": []
   },
   "outputs": [
    {
     "data": {
      "text/plain": [
       "120"
      ]
     },
     "execution_count": 73,
     "metadata": {},
     "output_type": "execute_result"
    }
   ],
   "source": [
    "factorial(5)"
   ]
  },
  {
   "cell_type": "markdown",
   "id": "10f7a2b5-31ba-4018-980f-a468534abbae",
   "metadata": {},
   "source": [
    "## 재귀함수로 팩토리얼 "
   ]
  },
  {
   "cell_type": "code",
   "execution_count": 72,
   "id": "902e4ad2-0478-4c78-9161-700f3a84490d",
   "metadata": {
    "tags": []
   },
   "outputs": [],
   "source": [
    "def factorial(n):\n",
    "    if n == 1:\n",
    "        return 1\n",
    "    return n*factorial(n-1)"
   ]
  },
  {
   "cell_type": "markdown",
   "id": "3eb1dfb7-66da-4c00-a4a4-b0f2b209e719",
   "metadata": {},
   "source": [
    "## 유클리드 호제법"
   ]
  },
  {
   "cell_type": "code",
   "execution_count": 74,
   "id": "79035b1d-2de8-443e-9dbe-e1b6e2efae42",
   "metadata": {
    "tags": []
   },
   "outputs": [],
   "source": [
    "def gcd(a,b):\n",
    "    if a%b ==0:\n",
    "        return b\n",
    "    \n",
    "    else: \n",
    "        return gcd(b,a%b)"
   ]
  },
  {
   "cell_type": "markdown",
   "id": "7bbe65a2-f7ee-4cf9-9619-7a79cbd8710b",
   "metadata": {},
   "source": [
    "## 최빈값 구하기"
   ]
  },
  {
   "cell_type": "code",
   "execution_count": 107,
   "id": "3dc5875d-af62-4c17-b619-062203246f4a",
   "metadata": {
    "tags": []
   },
   "outputs": [
    {
     "data": {
      "text/plain": [
       "[1, 2, 3, 3, 3, 4]"
      ]
     },
     "execution_count": 107,
     "metadata": {},
     "output_type": "execute_result"
    }
   ],
   "source": [
    "sorted(array)"
   ]
  },
  {
   "cell_type": "code",
   "execution_count": 110,
   "id": "ce15aefb-5003-4ecb-a3bb-0d9612d6dbd3",
   "metadata": {
    "tags": []
   },
   "outputs": [],
   "source": [
    "def solution(array):\n",
    "    count_dict = {}\n",
    "    for element in array:\n",
    "        if element not in count_dict:\n",
    "            count_dict[element] = 1   # key : value\n",
    "        else : \n",
    "            count_dict[element] += 1\n",
    "    \n",
    "    answer = sorted(count_dict.values())[-1]\n",
    "    \n",
    "    \n",
    "    return answer"
   ]
  },
  {
   "cell_type": "code",
   "execution_count": 101,
   "id": "94cbc622-d383-48fc-8697-0ccdd4c8f5e3",
   "metadata": {
    "tags": []
   },
   "outputs": [],
   "source": [
    "def solution(array):\n",
    "    count_dict = {}\n",
    "    for element in array:\n",
    "        if element not in count_dict:\n",
    "            count_dict[element] = 1   # key : value\n",
    "        else: \n",
    "            count_dict[element] += 1\n",
    "    \n",
    "    answer = max(count_dict.values())\n",
    "    \n",
    "    return answer\n"
   ]
  },
  {
   "cell_type": "code",
   "execution_count": 111,
   "id": "e4a35108-9372-4583-9c21-39baa13934dd",
   "metadata": {
    "tags": []
   },
   "outputs": [
    {
     "data": {
      "text/plain": [
       "3"
      ]
     },
     "execution_count": 111,
     "metadata": {},
     "output_type": "execute_result"
    }
   ],
   "source": [
    "solution([1, 2, 3, 3, 3, 4])"
   ]
  },
  {
   "cell_type": "markdown",
   "id": "cc022e05-79d1-4358-9d71-ff08cd84da94",
   "metadata": {},
   "source": [
    "## 컨트롤제트"
   ]
  },
  {
   "cell_type": "code",
   "execution_count": 117,
   "id": "478effd6-eea3-46ca-ac9d-d7fd3910156d",
   "metadata": {
    "tags": []
   },
   "outputs": [],
   "source": [
    "def solution(s:str) -> int:\n",
    "    answer = 0\n",
    "    for element in s.split():   #['1','Z']\n",
    "        if element.isdigit():\n",
    "            prev_number = int(element)\n",
    "            answer += int(element)\n",
    "            \n",
    "        else :\n",
    "            answer -= prev_number\n",
    "            \n",
    "    return answer"
   ]
  },
  {
   "cell_type": "code",
   "execution_count": 118,
   "id": "dcc2839d-ce73-4f54-8acd-0320cf09dae5",
   "metadata": {
    "tags": []
   },
   "outputs": [
    {
     "data": {
      "text/plain": [
       "4"
      ]
     },
     "execution_count": 118,
     "metadata": {},
     "output_type": "execute_result"
    }
   ],
   "source": [
    "solution(\"1 2 Z 3\")"
   ]
  },
  {
   "cell_type": "code",
   "execution_count": 126,
   "id": "3d7b5c7f-65a7-447d-ac96-a29e9d81bd26",
   "metadata": {
    "tags": []
   },
   "outputs": [],
   "source": [
    "temp = \"1 2 Z 3\""
   ]
  },
  {
   "cell_type": "code",
   "execution_count": 127,
   "id": "41de7e92-74e2-4a81-bef7-bf7d7dee8919",
   "metadata": {
    "tags": []
   },
   "outputs": [],
   "source": [
    "def solution(s:str) ->int:\n",
    "    temp =  []\n",
    "    for i in s.split():\n",
    "        temp.append(int(i)) if i.isdigit() else temp.pop()\n",
    "            \n",
    "    return sum(temp)"
   ]
  },
  {
   "cell_type": "code",
   "execution_count": 129,
   "id": "39179feb-7e7b-45bb-ae47-8c8a305e24f3",
   "metadata": {
    "tags": []
   },
   "outputs": [
    {
     "data": {
      "text/plain": [
       "4"
      ]
     },
     "execution_count": 129,
     "metadata": {},
     "output_type": "execute_result"
    }
   ],
   "source": [
    "solution(temp)"
   ]
  },
  {
   "cell_type": "markdown",
   "id": "9228c2bf-5cb6-485c-8749-f1b6c616f5cf",
   "metadata": {},
   "source": [
    "## 중복된 문자제거"
   ]
  },
  {
   "cell_type": "code",
   "execution_count": 136,
   "id": "0f083662-4371-45fc-a95f-1164868c63fd",
   "metadata": {
    "tags": []
   },
   "outputs": [],
   "source": [
    "def solution(my_string):\n",
    "    count_dict = {}\n",
    "\n",
    "    for string in my_string:\n",
    "        count_dict[string] = 1  # 문자가 등장하면 1로 설정 (중복 제거)\n",
    "    \n",
    "    answer = ''.join(count_dict.keys())  # 딕셔너리 키들을 문자열로 결합\n",
    "    return answer\n"
   ]
  },
  {
   "cell_type": "code",
   "execution_count": null,
   "id": "0c661090-87b7-40b9-990d-38b0d164550d",
   "metadata": {},
   "outputs": [],
   "source": [
    "def solution(my_string):\n",
    "    answer = ''\n",
    "    for i in my_string: # 'p','e','o','p','l','e'\n",
    "        if i not in answer:\n",
    "            answer+=i\n",
    "    return answer"
   ]
  }
 ],
 "metadata": {
  "kernelspec": {
   "display_name": "Python 3 (ipykernel)",
   "language": "python",
   "name": "python3"
  },
  "language_info": {
   "codemirror_mode": {
    "name": "ipython",
    "version": 3
   },
   "file_extension": ".py",
   "mimetype": "text/x-python",
   "name": "python",
   "nbconvert_exporter": "python",
   "pygments_lexer": "ipython3",
   "version": "3.11.5"
  }
 },
 "nbformat": 4,
 "nbformat_minor": 5
}
