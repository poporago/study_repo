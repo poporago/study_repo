{
 "cells": [
  {
   "cell_type": "code",
   "execution_count": 1,
   "metadata": {},
   "outputs": [
    {
     "data": {
      "text/plain": [
       "True"
      ]
     },
     "execution_count": 1,
     "metadata": {},
     "output_type": "execute_result"
    }
   ],
   "source": [
    "import numpy as np\n",
    "\n",
    "array1 = [0,1,0,1]\n",
    "array2 = [0,1,0,1]\n",
    "\n",
    "np.array_equal(array1,array2)"
   ]
  },
  {
   "cell_type": "code",
   "execution_count": 4,
   "metadata": {},
   "outputs": [],
   "source": [
    "import pandas as pd\n",
    "\n",
    "df1 = pd.DataFrame([0,1,0,1])"
   ]
  },
  {
   "cell_type": "code",
   "execution_count": 7,
   "metadata": {},
   "outputs": [
    {
     "data": {
      "text/plain": [
       "0    False\n",
       "1     True\n",
       "2    False\n",
       "3     True\n",
       "Name: 0, dtype: bool"
      ]
     },
     "execution_count": 7,
     "metadata": {},
     "output_type": "execute_result"
    }
   ],
   "source": [
    "df1[0].astype(bool)"
   ]
  },
  {
   "cell_type": "code",
   "execution_count": 12,
   "metadata": {},
   "outputs": [
    {
     "name": "stdout",
     "output_type": "stream",
     "text": [
      "\n",
      "AAABBBCCC\n",
      "5555533333"
     ]
    }
   ],
   "source": [
    "num = int(input())\n",
    "\n",
    "for i in range(num):\n",
    "    repeat, word = input().split()\n",
    "    repeat = int(repeat)\n",
    "    for k in word:\n",
    "        for j in range(repeat):\n",
    "            print(k, end='')\n",
    "    print()\n"
   ]
  },
  {
   "cell_type": "code",
   "execution_count": null,
   "metadata": {},
   "outputs": [],
   "source": [
    "n = int(input())\n",
    "\n",
    "for _ in range(n):\n",
    "    cnt, word = input().split()\n",
    "    for x in word:\n",
    "        print(x*int(cnt), end='')  # end='' 옆으로 붙임\n",
    "    print()  # 줄넘김"
   ]
  },
  {
   "cell_type": "code",
   "execution_count": 16,
   "metadata": {},
   "outputs": [
    {
     "ename": "IndexError",
     "evalue": "string index out of range",
     "output_type": "error",
     "traceback": [
      "\u001b[0;31m---------------------------------------------------------------------------\u001b[0m",
      "\u001b[0;31mIndexError\u001b[0m                                Traceback (most recent call last)",
      "\u001b[1;32m/Users/b12/Desktop/dailystudycode/study_repo/scratch/note.ipynb Cell 6\u001b[0m line \u001b[0;36m7\n\u001b[1;32m      <a href='vscode-notebook-cell:/Users/b12/Desktop/dailystudycode/study_repo/scratch/note.ipynb#X12sZmlsZQ%3D%3D?line=3'>4</a>\u001b[0m i \u001b[39m=\u001b[39m \u001b[39m0\u001b[39m\n\u001b[1;32m      <a href='vscode-notebook-cell:/Users/b12/Desktop/dailystudycode/study_repo/scratch/note.ipynb#X12sZmlsZQ%3D%3D?line=4'>5</a>\u001b[0m \u001b[39mwhile\u001b[39;00m i \u001b[39m<\u001b[39m\u001b[39m=\u001b[39m \u001b[39mlen\u001b[39m(sentence):\n\u001b[1;32m      <a href='vscode-notebook-cell:/Users/b12/Desktop/dailystudycode/study_repo/scratch/note.ipynb#X12sZmlsZQ%3D%3D?line=5'>6</a>\u001b[0m     \u001b[39m#공백 check & count\u001b[39;00m\n\u001b[0;32m----> <a href='vscode-notebook-cell:/Users/b12/Desktop/dailystudycode/study_repo/scratch/note.ipynb#X12sZmlsZQ%3D%3D?line=6'>7</a>\u001b[0m     \u001b[39mif\u001b[39;00m sentence[i] \u001b[39m==\u001b[39m \u001b[39m'\u001b[39m\u001b[39m \u001b[39m\u001b[39m'\u001b[39m: \u001b[39m#공백문자를 확인하기 위해서는 빈문자열''이 아닌 ' '를 사용한다!\u001b[39;00m\n\u001b[1;32m      <a href='vscode-notebook-cell:/Users/b12/Desktop/dailystudycode/study_repo/scratch/note.ipynb#X12sZmlsZQ%3D%3D?line=7'>8</a>\u001b[0m         cnt \u001b[39m+\u001b[39m\u001b[39m=\u001b[39m\u001b[39m1\u001b[39m\n\u001b[1;32m      <a href='vscode-notebook-cell:/Users/b12/Desktop/dailystudycode/study_repo/scratch/note.ipynb#X12sZmlsZQ%3D%3D?line=8'>9</a>\u001b[0m     i\u001b[39m+\u001b[39m\u001b[39m=\u001b[39m\u001b[39m1\u001b[39m\n",
      "\u001b[0;31mIndexError\u001b[0m: string index out of range"
     ]
    }
   ],
   "source": [
    "sentence = input()\n",
    "cnt = 0\n",
    "\n",
    "i = 0\n",
    "while i < len(sentence):\n",
    "    #처음 공백 시작시\n",
    "    if i == 0 and sentence[0] == ' ':\n",
    "        i+=1     #조기 ~ , i +=1 증가시켜야함에 주의\n",
    "        continue\n",
    "    \n",
    "    if sentence[i] == ' ': #공백문자를 확인하기 위해서는 빈문자열''이 아닌 ' '를 사용한다!\n",
    "        cnt +=1\n",
    "    #문장의 마지막이 공백으로 끝날 시    \n",
    "    elif sentence[-1] == ' ':\n",
    "        cnt -=1\n",
    "        \n",
    "    \n",
    "\n",
    "print(cnt+1) #단어의 갯수는 공백 +1"
   ]
  },
  {
   "cell_type": "code",
   "execution_count": 70,
   "metadata": {},
   "outputs": [
    {
     "data": {
      "text/plain": [
       "'543'"
      ]
     },
     "execution_count": 70,
     "metadata": {},
     "output_type": "execute_result"
    }
   ],
   "source": [
    "num1 = '345'\n",
    "''.join(list(reversed(num1)))\n"
   ]
  },
  {
   "cell_type": "code",
   "execution_count": 71,
   "metadata": {},
   "outputs": [
    {
     "ename": "NameError",
     "evalue": "name 'reersed' is not defined",
     "output_type": "error",
     "traceback": [
      "\u001b[0;31m---------------------------------------------------------------------------\u001b[0m",
      "\u001b[0;31mNameError\u001b[0m                                 Traceback (most recent call last)",
      "\u001b[1;32m/Users/b12/Desktop/dailystudycode/study_repo/scratch/note.ipynb Cell 8\u001b[0m line \u001b[0;36m3\n\u001b[1;32m      <a href='vscode-notebook-cell:/Users/b12/Desktop/dailystudycode/study_repo/scratch/note.ipynb#X46sZmlsZQ%3D%3D?line=0'>1</a>\u001b[0m num1, num2 \u001b[39m=\u001b[39m \u001b[39minput\u001b[39m()\u001b[39m.\u001b[39msplit()\n\u001b[0;32m----> <a href='vscode-notebook-cell:/Users/b12/Desktop/dailystudycode/study_repo/scratch/note.ipynb#X46sZmlsZQ%3D%3D?line=2'>3</a>\u001b[0m num1 \u001b[39m=\u001b[39m \u001b[39m'\u001b[39m\u001b[39m'\u001b[39m\u001b[39m.\u001b[39mjoin(\u001b[39mlist\u001b[39m(reersed(num1)))\n\u001b[1;32m      <a href='vscode-notebook-cell:/Users/b12/Desktop/dailystudycode/study_repo/scratch/note.ipynb#X46sZmlsZQ%3D%3D?line=3'>4</a>\u001b[0m num2 \u001b[39m=\u001b[39m \u001b[39m'\u001b[39m\u001b[39m'\u001b[39m\u001b[39m.\u001b[39mjoin(\u001b[39mlist\u001b[39m(\u001b[39mreversed\u001b[39m(num2)))\n\u001b[1;32m      <a href='vscode-notebook-cell:/Users/b12/Desktop/dailystudycode/study_repo/scratch/note.ipynb#X46sZmlsZQ%3D%3D?line=5'>6</a>\u001b[0m \u001b[39mif\u001b[39;00m \u001b[39mint\u001b[39m(num1) \u001b[39m>\u001b[39m \u001b[39mint\u001b[39m(num2):\n",
      "\u001b[0;31mNameError\u001b[0m: name 'reersed' is not defined"
     ]
    }
   ],
   "source": [
    "num1, num2 = input().split()\n",
    "\n",
    "num1 = ''.join(list(reversed(num1)))\n",
    "num2 = ''.join(list(reversed(num2)))\n",
    "\n",
    "if int(num1) > int(num2):\n",
    "    print(int(num1))\n",
    "else :\n",
    "    print(int(num2))"
   ]
  },
  {
   "cell_type": "code",
   "execution_count": null,
   "metadata": {},
   "outputs": [],
   "source": [
    "num1, num2 = input.split()\n",
    "\n",
    "num1 = int(num1[::-1])\n",
    "num2 = int(num2[::-1])\n",
    "\n",
    "print(num1) if num1 > num2 else print(num2)"
   ]
  },
  {
   "cell_type": "code",
   "execution_count": 78,
   "metadata": {},
   "outputs": [
    {
     "name": "stdout",
     "output_type": "stream",
     "text": [
      "13\n"
     ]
    }
   ],
   "source": [
    "alphabet_list = ['ABC','DEF','GHI','JKL','MNO','PQRS','TUV','WXYZ']\n",
    "words = input()\n",
    "\n",
    "answer = 0\n",
    "for alpha in alphabet_list: # 'ABC'\n",
    "    for word in words:\n",
    "        if word in alpha:\n",
    "            answer += alphabet_list.index(alpha) +3\n",
    "            \n",
    "print(answer)    "
   ]
  },
  {
   "cell_type": "code",
   "execution_count": 76,
   "metadata": {},
   "outputs": [
    {
     "data": {
      "text/plain": [
       "0"
      ]
     },
     "execution_count": 76,
     "metadata": {},
     "output_type": "execute_result"
    }
   ],
   "source": [
    "alphabet_list.index('ABC')"
   ]
  },
  {
   "cell_type": "code",
   "execution_count": 81,
   "metadata": {},
   "outputs": [],
   "source": [
    "# 입력을 얼마나 받을지 모름\n",
    "while True:\n",
    "    try:\n",
    "        a = input()\n",
    "    except :\n",
    "        break\n",
    "    print(a)"
   ]
  },
  {
   "cell_type": "code",
   "execution_count": 85,
   "metadata": {},
   "outputs": [
    {
     "name": "stdout",
     "output_type": "stream",
     "text": [
      "0\n"
     ]
    }
   ],
   "source": [
    "word = input()\n",
    "\n",
    "i = 0\n",
    "while i <len(word):\n",
    "    # 펠렌드럼 체크\n",
    "    if word[i] != word[-(i+1)] :\n",
    "        answer=0\n",
    "        break\n",
    "    answer = 1\n",
    "    i +=1 \n",
    "    \n",
    "print(answer)"
   ]
  },
  {
   "cell_type": "code",
   "execution_count": 96,
   "metadata": {},
   "outputs": [
    {
     "name": "stdout",
     "output_type": "stream",
     "text": [
      "2\n"
     ]
    }
   ],
   "source": [
    "words = input().lower()\n",
    "\n",
    "    "
   ]
  },
  {
   "cell_type": "code",
   "execution_count": 95,
   "metadata": {},
   "outputs": [
    {
     "data": {
      "text/plain": [
       "3"
      ]
     },
     "execution_count": 95,
     "metadata": {},
     "output_type": "execute_result"
    }
   ],
   "source": [
    "a = {5:3}\n",
    "list(a.values())[0]"
   ]
  },
  {
   "cell_type": "code",
   "execution_count": null,
   "metadata": {},
   "outputs": [],
   "source": []
  }
 ],
 "metadata": {
  "kernelspec": {
   "display_name": "yeardream",
   "language": "python",
   "name": "python3"
  },
  "language_info": {
   "codemirror_mode": {
    "name": "ipython",
    "version": 3
   },
   "file_extension": ".py",
   "mimetype": "text/x-python",
   "name": "python",
   "nbconvert_exporter": "python",
   "pygments_lexer": "ipython3",
   "version": "3.9.16"
  }
 },
 "nbformat": 4,
 "nbformat_minor": 2
}
