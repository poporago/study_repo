{
 "cells": [
  {
   "cell_type": "code",
   "execution_count": 1,
   "metadata": {},
   "outputs": [
    {
     "data": {
      "text/plain": [
       "True"
      ]
     },
     "execution_count": 1,
     "metadata": {},
     "output_type": "execute_result"
    }
   ],
   "source": [
    "import numpy as np\n",
    "\n",
    "array1 = [0,1,0,1]\n",
    "array2 = [0,1,0,1]\n",
    "\n",
    "np.array_equal(array1,array2)"
   ]
  },
  {
   "cell_type": "code",
   "execution_count": 4,
   "metadata": {},
   "outputs": [],
   "source": [
    "import pandas as pd\n",
    "\n",
    "df1 = pd.DataFrame([0,1,0,1])"
   ]
  },
  {
   "cell_type": "code",
   "execution_count": 7,
   "metadata": {},
   "outputs": [
    {
     "data": {
      "text/plain": [
       "0    False\n",
       "1     True\n",
       "2    False\n",
       "3     True\n",
       "Name: 0, dtype: bool"
      ]
     },
     "execution_count": 7,
     "metadata": {},
     "output_type": "execute_result"
    }
   ],
   "source": [
    "df1[0].astype(bool)"
   ]
  },
  {
   "cell_type": "code",
   "execution_count": 12,
   "metadata": {},
   "outputs": [
    {
     "name": "stdout",
     "output_type": "stream",
     "text": [
      "\n",
      "AAABBBCCC\n",
      "5555533333"
     ]
    }
   ],
   "source": [
    "num = int(input())\n",
    "\n",
    "for i in range(num):\n",
    "    repeat, word = input().split()\n",
    "    repeat = int(repeat)\n",
    "    for k in word:\n",
    "        for j in range(repeat):\n",
    "            print(k, end='')\n",
    "    print()\n"
   ]
  },
  {
   "cell_type": "code",
   "execution_count": null,
   "metadata": {},
   "outputs": [],
   "source": [
    "n = int(input())\n",
    "\n",
    "for _ in range(n):\n",
    "    cnt, word = input().split()\n",
    "    for x in word:\n",
    "        print(x*int(cnt), end='')  # end='' 옆으로 붙임\n",
    "    print()  # 줄넘김"
   ]
  },
  {
   "cell_type": "code",
   "execution_count": 16,
   "metadata": {},
   "outputs": [
    {
     "ename": "IndexError",
     "evalue": "string index out of range",
     "output_type": "error",
     "traceback": [
      "\u001b[0;31m---------------------------------------------------------------------------\u001b[0m",
      "\u001b[0;31mIndexError\u001b[0m                                Traceback (most recent call last)",
      "\u001b[1;32m/Users/b12/Desktop/dailystudycode/study_repo/scratch/note.ipynb Cell 6\u001b[0m line \u001b[0;36m7\n\u001b[1;32m      <a href='vscode-notebook-cell:/Users/b12/Desktop/dailystudycode/study_repo/scratch/note.ipynb#X12sZmlsZQ%3D%3D?line=3'>4</a>\u001b[0m i \u001b[39m=\u001b[39m \u001b[39m0\u001b[39m\n\u001b[1;32m      <a href='vscode-notebook-cell:/Users/b12/Desktop/dailystudycode/study_repo/scratch/note.ipynb#X12sZmlsZQ%3D%3D?line=4'>5</a>\u001b[0m \u001b[39mwhile\u001b[39;00m i \u001b[39m<\u001b[39m\u001b[39m=\u001b[39m \u001b[39mlen\u001b[39m(sentence):\n\u001b[1;32m      <a href='vscode-notebook-cell:/Users/b12/Desktop/dailystudycode/study_repo/scratch/note.ipynb#X12sZmlsZQ%3D%3D?line=5'>6</a>\u001b[0m     \u001b[39m#공백 check & count\u001b[39;00m\n\u001b[0;32m----> <a href='vscode-notebook-cell:/Users/b12/Desktop/dailystudycode/study_repo/scratch/note.ipynb#X12sZmlsZQ%3D%3D?line=6'>7</a>\u001b[0m     \u001b[39mif\u001b[39;00m sentence[i] \u001b[39m==\u001b[39m \u001b[39m'\u001b[39m\u001b[39m \u001b[39m\u001b[39m'\u001b[39m: \u001b[39m#공백문자를 확인하기 위해서는 빈문자열''이 아닌 ' '를 사용한다!\u001b[39;00m\n\u001b[1;32m      <a href='vscode-notebook-cell:/Users/b12/Desktop/dailystudycode/study_repo/scratch/note.ipynb#X12sZmlsZQ%3D%3D?line=7'>8</a>\u001b[0m         cnt \u001b[39m+\u001b[39m\u001b[39m=\u001b[39m\u001b[39m1\u001b[39m\n\u001b[1;32m      <a href='vscode-notebook-cell:/Users/b12/Desktop/dailystudycode/study_repo/scratch/note.ipynb#X12sZmlsZQ%3D%3D?line=8'>9</a>\u001b[0m     i\u001b[39m+\u001b[39m\u001b[39m=\u001b[39m\u001b[39m1\u001b[39m\n",
      "\u001b[0;31mIndexError\u001b[0m: string index out of range"
     ]
    }
   ],
   "source": [
    "sentence = input()\n",
    "cnt = 0\n",
    "\n",
    "i = 0\n",
    "while i < len(sentence):\n",
    "    #처음 공백 시작시\n",
    "    if i == 0 and sentence[0] == ' ':\n",
    "        i+=1     #조기 ~ , i +=1 증가시켜야함에 주의\n",
    "        continue\n",
    "    \n",
    "    if sentence[i] == ' ': #공백문자를 확인하기 위해서는 빈문자열''이 아닌 ' '를 사용한다!\n",
    "        cnt +=1\n",
    "    #문장의 마지막이 공백으로 끝날 시    \n",
    "    elif sentence[-1] == ' ':\n",
    "        cnt -=1\n",
    "        \n",
    "    \n",
    "print(cnt+1) #단어의 갯수는 공백 +1"
   ]
  },
  {
   "cell_type": "code",
   "execution_count": 23,
   "metadata": {},
   "outputs": [
    {
     "name": "stdout",
     "output_type": "stream",
     "text": [
      "['a', 'a', 'super', 'dog']\n",
      "4\n"
     ]
    }
   ],
   "source": [
    "word = input().split()\n",
    "print(word)\n",
    "print(len(word))"
   ]
  },
  {
   "cell_type": "code",
   "execution_count": 25,
   "metadata": {},
   "outputs": [
    {
     "ename": "ValueError",
     "evalue": "not enough values to unpack (expected 2, got 1)",
     "output_type": "error",
     "traceback": [
      "\u001b[0;31m---------------------------------------------------------------------------\u001b[0m",
      "\u001b[0;31mValueError\u001b[0m                                Traceback (most recent call last)",
      "\u001b[1;32m/Users/b12/Desktop/dailystudycode/study_repo/scratch/note.ipynb Cell 8\u001b[0m line \u001b[0;36m1\n\u001b[0;32m----> <a href='vscode-notebook-cell:/Users/b12/Desktop/dailystudycode/study_repo/scratch/note.ipynb#X15sZmlsZQ%3D%3D?line=0'>1</a>\u001b[0m num1 , num2 \u001b[39m=\u001b[39m \u001b[39minput\u001b[39m()\u001b[39m.\u001b[39msplit() \u001b[39m# 리스트\u001b[39;00m\n\u001b[1;32m      <a href='vscode-notebook-cell:/Users/b12/Desktop/dailystudycode/study_repo/scratch/note.ipynb#X15sZmlsZQ%3D%3D?line=2'>3</a>\u001b[0m \u001b[39mif\u001b[39;00m \u001b[39mint\u001b[39m(num1\u001b[39m.\u001b[39mreversed()) \u001b[39m>\u001b[39m \u001b[39mint\u001b[39m(num2\u001b[39m.\u001b[39mreversed()):\n\u001b[1;32m      <a href='vscode-notebook-cell:/Users/b12/Desktop/dailystudycode/study_repo/scratch/note.ipynb#X15sZmlsZQ%3D%3D?line=3'>4</a>\u001b[0m     \u001b[39mprint\u001b[39m(num1)\n",
      "\u001b[0;31mValueError\u001b[0m: not enough values to unpack (expected 2, got 1)"
     ]
    }
   ],
   "source": [
    "num1 , num2 = input().split() # 리스트\n",
    "\n",
    "if int(num1.reversed()) > int(num2.reversed()):\n",
    "    print(num1)\n",
    "    \n",
    "else : print(num2)\n",
    "\n"
   ]
  },
  {
   "cell_type": "code",
   "execution_count": 36,
   "metadata": {},
   "outputs": [
    {
     "data": {
      "text/plain": [
       "[4, 3, 2, 1]"
      ]
     },
     "execution_count": 36,
     "metadata": {},
     "output_type": "execute_result"
    }
   ],
   "source": [
    "# 리스트 sort메서드의 reversed 인자\n",
    "\n",
    "a = [1,2,3,4]\n",
    "a.sort(reverse=True) # 리스트의 메서드는 파괴적 연산(inplace)이 대부분\n",
    "a\n"
   ]
  },
  {
   "cell_type": "code",
   "execution_count": 32,
   "metadata": {},
   "outputs": [
    {
     "data": {
      "text/plain": [
       "[4, 3, 2, 1]"
      ]
     },
     "execution_count": 32,
     "metadata": {},
     "output_type": "execute_result"
    }
   ],
   "source": [
    "# 리스트의 reverse메서드\n",
    "\n",
    "a = [1,2,3,4]\n",
    "a.reverse()  # 리스트에 사용할 수 있는 메서드, 요소의 순서를 뒤집어서 return\n",
    "a"
   ]
  },
  {
   "cell_type": "code",
   "execution_count": 45,
   "metadata": {},
   "outputs": [
    {
     "name": "stdout",
     "output_type": "stream",
     "text": [
      "[4, 3, 2, 1]\n",
      "[1, 2, 3, 4]\n"
     ]
    }
   ],
   "source": [
    "# reversed() 함수 - 리스트,튜플,스트링,딕셔너리등의 iterable 객체에 적용 가능\n",
    "\n",
    "a = [1,2,3,4]\n",
    "reversed(a) #return reverseiterator\n",
    "print(list(reversed(a)))\n",
    "print(a)"
   ]
  },
  {
   "cell_type": "code",
   "execution_count": 55,
   "metadata": {},
   "outputs": [
    {
     "name": "stdout",
     "output_type": "stream",
     "text": [
      "[4, 3, 2, 1]\n",
      "[1, 2, 3, 4]\n",
      "[4, 3, 2, 1]\n"
     ]
    }
   ],
   "source": [
    "# sorted() 함수 - reverse 인자 사용\n",
    "\n",
    "a = [1,2,3,4]\n",
    "print(sorted(a, reverse=True))\n",
    "\n",
    "print(a)\n",
    "\n",
    "b = sorted(a, reverse=True)\n",
    "print(b)"
   ]
  },
  {
   "cell_type": "code",
   "execution_count": null,
   "metadata": {},
   "outputs": [],
   "source": []
  }
 ],
 "metadata": {
  "kernelspec": {
   "display_name": "yeardream",
   "language": "python",
   "name": "python3"
  },
  "language_info": {
   "codemirror_mode": {
    "name": "ipython",
    "version": 3
   },
   "file_extension": ".py",
   "mimetype": "text/x-python",
   "name": "python",
   "nbconvert_exporter": "python",
   "pygments_lexer": "ipython3",
   "version": "3.9.16"
  }
 },
 "nbformat": 4,
 "nbformat_minor": 2
}
