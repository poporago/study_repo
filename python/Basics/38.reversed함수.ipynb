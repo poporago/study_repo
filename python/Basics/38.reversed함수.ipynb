{
 "cells": [
  {
   "cell_type": "code",
   "execution_count": null,
   "metadata": {},
   "outputs": [
    {
     "data": {
      "text/plain": [
       "[4, 3, 2, 1]"
      ]
     },
     "metadata": {},
     "output_type": "display_data"
    }
   ],
   "source": [
    "# 리스트 sort메서드의 reversed 인자\n",
    "\n",
    "a = [1,2,3,4]\n",
    "a.sort(reverse=True) # 리스트의 메서드는 파괴적 연산(inplace)이 대부분\n",
    "a\n"
   ]
  },
  {
   "cell_type": "code",
   "execution_count": null,
   "metadata": {},
   "outputs": [
    {
     "data": {
      "text/plain": [
       "[4, 3, 2, 1]"
      ]
     },
     "metadata": {},
     "output_type": "display_data"
    }
   ],
   "source": [
    "# 리스트의 reverse메서드\n",
    "\n",
    "a = [1,2,3,4]\n",
    "a.reverse()  # 리스트에 사용할 수 있는 메서드, 요소의 순서를 뒤집어서 return\n",
    "a"
   ]
  },
  {
   "cell_type": "code",
   "execution_count": null,
   "metadata": {},
   "outputs": [
    {
     "name": "stdout",
     "output_type": "stream",
     "text": [
      "[4, 3, 2, 1]\n",
      "[1, 2, 3, 4]\n"
     ]
    }
   ],
   "source": [
    "# reversed() 함수 - 리스트,튜플,스트링,딕셔너리등의 iterable 객체에 적용 가능\n",
    "\n",
    "a = [1,2,3,4]\n",
    "reversed(a) #return reverseiterator\n",
    "print(list(reversed(a)))\n",
    "print(a)"
   ]
  },
  {
   "cell_type": "code",
   "execution_count": null,
   "metadata": {},
   "outputs": [
    {
     "name": "stdout",
     "output_type": "stream",
     "text": [
      "[4, 3, 2, 1]\n",
      "[1, 2, 3, 4]\n",
      "[4, 3, 2, 1]\n"
     ]
    }
   ],
   "source": [
    "# sorted() 함수 - reverse 인자 사용\n",
    "\n",
    "a = [1,2,3,4]\n",
    "print(sorted(a, reverse=True))\n",
    "\n",
    "print(a)\n",
    "\n",
    "b = sorted(a, reverse=True)\n",
    "print(b)"
   ]
  }
 ],
 "metadata": {
  "language_info": {
   "name": "python"
  }
 },
 "nbformat": 4,
 "nbformat_minor": 2
}
