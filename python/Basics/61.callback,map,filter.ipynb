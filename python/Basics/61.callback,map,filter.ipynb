{
 "cells": [
  {
   "cell_type": "code",
   "execution_count": 5,
   "metadata": {},
   "outputs": [
    {
     "name": "stdout",
     "output_type": "stream",
     "text": [
      "<function call_10_times at 0x000002736EDB4220>\n",
      "호출되었습니다\n"
     ]
    }
   ],
   "source": [
    "# 함수는 변수에 저장할 수 있다.\n",
    "\n",
    "\n",
    "def call_10_times():\n",
    "    print(\"호출되었습니다\")\n",
    "\n",
    "a = call_10_times  # 함수명을 변수에 저장\n",
    "print(a)\n",
    "a()  #함수의 호출"
   ]
  },
  {
   "cell_type": "code",
   "execution_count": 9,
   "metadata": {},
   "outputs": [],
   "source": [
    "# 콜백함수(함수의 매개변수로서 사용되는 함수)\n",
    "def call_10_times(function):\n",
    "    for i in range(10):\n",
    "        function(i)\n",
    "\n",
    "def print_hello(parameter):\n",
    "    print(\"안녕하세요\",parameter)"
   ]
  },
  {
   "cell_type": "code",
   "execution_count": 12,
   "metadata": {},
   "outputs": [
    {
     "name": "stdout",
     "output_type": "stream",
     "text": [
      "안녕하세요 0\n",
      "안녕하세요 1\n",
      "안녕하세요 2\n",
      "안녕하세요 3\n",
      "안녕하세요 4\n",
      "안녕하세요 5\n",
      "안녕하세요 6\n",
      "안녕하세요 7\n",
      "안녕하세요 8\n",
      "안녕하세요 9\n"
     ]
    }
   ],
   "source": [
    "call_10_times(print_hello)"
   ]
  },
  {
   "cell_type": "markdown",
   "metadata": {},
   "source": [
    "콜백함수의 대표적인 예시 map,filter\n",
    "```python\n",
    "iterator = map(function,list)  #각각의 요소에 함수를 적용해서 새로운 이터레이터를 리턴\n",
    "```\n"
   ]
  },
  {
   "cell_type": "markdown",
   "metadata": {},
   "source": [
    "map함수"
   ]
  },
  {
   "cell_type": "code",
   "execution_count": 16,
   "metadata": {},
   "outputs": [
    {
     "name": "stdout",
     "output_type": "stream",
     "text": [
      "[1, 4, 9, 16, 25]\n"
     ]
    }
   ],
   "source": [
    "def power(숫자):\n",
    "    return 숫자 ** 2\n",
    "\n",
    "A = [1,2,3,4,5]\n",
    "이터레이터 = map(power,A)\n",
    "print(list(이터레이터))  #이터레이터의 출력을 확인하는 방법, list로 감싸기"
   ]
  },
  {
   "cell_type": "code",
   "execution_count": 18,
   "metadata": {},
   "outputs": [
    {
     "data": {
      "text/plain": [
       "[1, 4, 9, 16, 25]"
      ]
     },
     "execution_count": 18,
     "metadata": {},
     "output_type": "execute_result"
    }
   ],
   "source": [
    "[x**2 for x in range(1, 5+1)]  # 리스트컴프리헨션 = 표현식  + 반복문"
   ]
  },
  {
   "cell_type": "markdown",
   "metadata": {},
   "source": [
    "filter함수\n",
    "- 리스트의 요소를 함수에 전달헀을 때, \n",
    "- 결과로 True가 나오는 녀석만을 새로운 이터레이터로 return"
   ]
  },
  {
   "cell_type": "code",
   "execution_count": 19,
   "metadata": {},
   "outputs": [
    {
     "name": "stdout",
     "output_type": "stream",
     "text": [
      "[1, 3, 5]\n"
     ]
    }
   ],
   "source": [
    "def 홀수인가요(숫자):\n",
    "    if 숫자 % 2 == 1:\n",
    "        return True\n",
    "    else :\n",
    "        return False\n",
    "\n",
    "A = [1,2,3,4,5]\n",
    "이터레이터 = filter(홀수인가요,A)\n",
    "print(list(이터레이터))"
   ]
  },
  {
   "cell_type": "code",
   "execution_count": 20,
   "metadata": {},
   "outputs": [
    {
     "data": {
      "text/plain": [
       "[1, 3, 5]"
      ]
     },
     "execution_count": 20,
     "metadata": {},
     "output_type": "execute_result"
    }
   ],
   "source": [
    "[숫자 for 숫자 in range(1, 5+1) if 숫자 %2 ==1]"
   ]
  }
 ],
 "metadata": {
  "kernelspec": {
   "display_name": "pyeardream",
   "language": "python",
   "name": "python3"
  },
  "language_info": {
   "codemirror_mode": {
    "name": "ipython",
    "version": 3
   },
   "file_extension": ".py",
   "mimetype": "text/x-python",
   "name": "python",
   "nbconvert_exporter": "python",
   "pygments_lexer": "ipython3",
   "version": "3.11.5"
  }
 },
 "nbformat": 4,
 "nbformat_minor": 2
}
