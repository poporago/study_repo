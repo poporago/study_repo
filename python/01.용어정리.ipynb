{
 "cells": [
  {
   "cell_type": "markdown",
   "metadata": {},
   "source": [
    "# CH01. 파이썬 시작하기"
   ]
  },
  {
   "cell_type": "markdown",
   "metadata": {},
   "source": [
    "- 프로그래밍  :프로그램을 만드는 것 \n",
    "- 프로그램  : \"Pro\"+\"Gram\" : 미리 작성된 것\n",
    "- 프로그래밍 언어 : 프로그램을 만들려는 목적으로 사람이 이해하기 쉬운 언어를 이용해 만들어진 언어\n",
    "- 소스 코드 : 프로그래밍 언어로 만들어진 코드\n",
    "- 이진 코드 : 컴퓨터가 이해하는 이진 숫자로 이루어진 코드\n",
    "    - 컴파일러 또는 인터프러터에 의해 컴퓨터가 이해할 수 있는 0과 1로 이루어진 저급언어인 기계언어로 변환\n",
    "- 컴퓨터 프로그램"
   ]
  },
  {
   "cell_type": "markdown",
   "metadata": {},
   "source": [
    "***"
   ]
  },
  {
   "cell_type": "markdown",
   "metadata": {},
   "source": [
    "### 용어 정리"
   ]
  },
  {
   "cell_type": "markdown",
   "metadata": {},
   "source": [
    "- 문장(statement)\n",
    "- 표현식(expression)\n",
    "- 키워드(keyword)\n",
    "- 식별자(identifier) - 스네이크 케이스, 캐멜 케이스\n",
    "- 리터럴(literal) - 100 , \"str\", [3.5], (3,5), {'key':'value'}\n",
    "- 자료형(data type) - int, str, list , tuple, dict\n",
    "- 연산자(operator)\n",
    "- 변수(variable) - 메모리를 차지하는 녀석, 리터럴이 담기는 공간, 식별자를 이름으로 가지는"
   ]
  },
  {
   "cell_type": "markdown",
   "metadata": {},
   "source": [
    "***"
   ]
  },
  {
   "cell_type": "markdown",
   "metadata": {},
   "source": [
    "### 1. 문장(Statement)\n",
    "실행할 수 있는 코드의 최소 단위, 파이썬에서는 코드 한줄이 하나의 문장. 문장들이 모이면 프로그램(Program)이 됨."
   ]
  },
  {
   "cell_type": "markdown",
   "metadata": {},
   "source": [
    "```python\n",
    "print(\"Python is Programming Language\") #문장(statement)\n",
    "10 + 20                        #문장(Statement)\n",
    "```"
   ]
  },
  {
   "cell_type": "markdown",
   "metadata": {},
   "source": [
    "### 2. 표현식(expression)\n",
    "어떠한 값을 만들어 내는 간단한 코드를 표현식(expression)이라고 함. 이때의 값은 숫자,수식, 문자열 등과 같은것을 의미"
   ]
  },
  {
   "cell_type": "markdown",
   "metadata": {},
   "source": [
    "```python\n",
    "273\n",
    "10 + 20 + 30 * 10 \n",
    "\"Python is Programming Language\"\n",
    "```"
   ]
  },
  {
   "cell_type": "markdown",
   "metadata": {},
   "source": [
    "### 3. 키워드(Keyword)"
   ]
  },
  {
   "cell_type": "markdown",
   "metadata": {},
   "source": [
    "```python\n",
    "False, None, True, and, as, assert, break, class, continue, def, del, elif, else, except , finally, \n",
    "for, from, global, if, import, in, is , lambda, nonlocal, not, or, pass , raise , return , try , while, with, yield\n",
    "```"
   ]
  },
  {
   "cell_type": "markdown",
   "metadata": {},
   "source": [
    "키워드(Keyword)는 특별한 의미가 부여된 단어로 파이썬이 만들어질 때 미리 사용하겠다고 예약해 놓은 예약어. 사용자는 변수명을 키워드로 사용할 수 없음"
   ]
  },
  {
   "cell_type": "markdown",
   "metadata": {},
   "source": [
    "참고)\n",
    "```python\n",
    "import keyword\n",
    "print(keyword.kwlist)\n",
    "```"
   ]
  },
  {
   "cell_type": "markdown",
   "metadata": {},
   "source": [
    "### 4. 식별자(identifier)\n",
    "변수 또는 함수의 이름 등, 이름을 붙일 때 사용하는 단어<br>\n",
    "식별자를 키워드로 사용하면 안되고, 특수 문자는 언더 바(_)만 허용하며, 숫자로 시작 불가, 공백 포함 불가"
   ]
  },
  {
   "cell_type": "markdown",
   "metadata": {},
   "source": [
    "- 스네이크 케이스 : itemlist -> item_list\n",
    "- 카멜 케이스 : itemlist -> ItemList"
   ]
  },
  {
   "cell_type": "markdown",
   "metadata": {},
   "source": [
    "파이썬에서 카멜 케이스로 작성되어 있으면 클래스이며, 스네이크 케이스는 함수 또는 변수로 사용된다.<br>\n",
    "\n",
    "Q1. 스네이크 케이스, 카멜 케이스에 따른  함수, 클래스, 변수 구분\n",
    "\n",
    "<br>1.print()\n",
    "<br>2.list()\n",
    "<br>3.soup.select()\n",
    "<br>4.math.pi\n",
    "<br>5.math.e\n",
    "<br>6.class Animal:\n",
    "<br>7.BeautifulSoup()"
   ]
  },
  {
   "cell_type": "markdown",
   "metadata": {},
   "source": [
    "### 5. 리터럴(literal)\n",
    "숫자나 문자 등 어떠한 값 자체"
   ]
  }
 ],
 "metadata": {
  "kernelspec": {
   "display_name": "Python 3 (ipykernel)",
   "language": "python",
   "name": "python3"
  },
  "language_info": {
   "codemirror_mode": {
    "name": "ipython",
    "version": 3
   },
   "file_extension": ".py",
   "mimetype": "text/x-python",
   "name": "python",
   "nbconvert_exporter": "python",
   "pygments_lexer": "ipython3",
   "version": "3.11.5"
  }
 },
 "nbformat": 4,
 "nbformat_minor": 4
}
