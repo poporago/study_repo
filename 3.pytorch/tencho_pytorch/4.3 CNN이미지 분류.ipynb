{
 "cells": [
  {
   "cell_type": "code",
   "execution_count": 2,
   "id": "b13d2806-7257-4596-8872-cb132e0a3956",
   "metadata": {},
   "outputs": [],
   "source": [
    "import torch \n",
    "import torch.nn as nn"
   ]
  },
  {
   "cell_type": "code",
   "execution_count": 27,
   "id": "5698da9c-68b1-442b-b33e-8d73f464dd57",
   "metadata": {},
   "outputs": [],
   "source": [
    "class BasicBlock(nn.Module):\n",
    "    def __init__(self,in_channels, out_channels, mid_channels):\n",
    "        super(BasicBlock, self).__init__()\n",
    "        \n",
    "        self.conv1 = nn.Conv2d(in_channels, mid_channels, kernel_size=3, padding =1)\n",
    "        self.conv2 = nn.Conv2d(mid_channels,out_channels ,kernel_size=3, padding =1)\n",
    "        self.relu = nn.ReLU()\n",
    "        self.pool = nn.MaxPool2d(kernel_size=2, stride=2)  #stride-> Kernel_size자동\n",
    "        \n",
    "    def forward(self,x):\n",
    "        x = self.conv1(x)\n",
    "        x = self.relu(x)\n",
    "        x = self.conv2(x)\n",
    "        x = self.relu(x)\n",
    "        x = self.pool(x)\n",
    "        \n",
    "        return x"
   ]
  },
  {
   "cell_type": "code",
   "execution_count": 28,
   "id": "e4f8f06a-7411-4d54-b3b1-54f3825c39e2",
   "metadata": {},
   "outputs": [],
   "source": [
    "class VGG(nn.Module):\n",
    "    def __init__(self,num_classes):\n",
    "        super().__init__()  #nn.module 싹가져와\n",
    "        \n",
    "        \n",
    "        #Conv Blocks \n",
    "        self.block1 = BasicBlock(in_channels=3, out_channels=32, mid_channels=16)   #B C 16 16\n",
    "        self.block2 = BasicBlock(in_channels=32, out_channels=128, mid_channels=64)  # B C 8 8\n",
    "        self.block3 = BasicBlock(in_channels=128, out_channels=256, mid_channels=128)  #  B C 4 4\n",
    "    \n",
    "        #Classifier\n",
    "        self.fc1 = nn.Linear(4096,2048) # spatial size = (4*4) depth=256  4*4*256\n",
    "        self.fc2 = nn.Linear(2048,256) #\n",
    "        self.fc3 = nn.Linear(256,num_classes)\n",
    "        \n",
    "        self.relu = nn.ReLU()\n",
    "        \n",
    "        \n",
    "    def forward(self,x):\n",
    "        x = self.block1(x)\n",
    "        x = self.block2(x)\n",
    "        x = self.block3(x)\n",
    "        x = torch.flatten(x, start_dim=1)\n",
    "        \n",
    "        x = self.fc1(x)\n",
    "        x = self.relu(x)\n",
    "        x = self.fc2(x)\n",
    "        x = self.relu(x)\n",
    "        x = self.fc3(x)\n",
    "        \n",
    "        return x\n",
    "        \n",
    "    "
   ]
  },
  {
   "cell_type": "code",
   "execution_count": 29,
   "id": "3b75f61c",
   "metadata": {},
   "outputs": [
    {
     "name": "stdout",
     "output_type": "stream",
     "text": [
      "Files already downloaded and verified\n",
      "Files already downloaded and verified\n"
     ]
    },
    {
     "data": {
      "text/plain": [
       "VGG(\n",
       "  (block1): BasicBlock(\n",
       "    (conv1): Conv2d(3, 16, kernel_size=(3, 3), stride=(1, 1), padding=(1, 1))\n",
       "    (conv2): Conv2d(16, 32, kernel_size=(3, 3), stride=(1, 1), padding=(1, 1))\n",
       "    (relu): ReLU()\n",
       "    (pool): MaxPool2d(kernel_size=2, stride=2, padding=0, dilation=1, ceil_mode=False)\n",
       "  )\n",
       "  (block2): BasicBlock(\n",
       "    (conv1): Conv2d(32, 64, kernel_size=(3, 3), stride=(1, 1), padding=(1, 1))\n",
       "    (conv2): Conv2d(64, 128, kernel_size=(3, 3), stride=(1, 1), padding=(1, 1))\n",
       "    (relu): ReLU()\n",
       "    (pool): MaxPool2d(kernel_size=2, stride=2, padding=0, dilation=1, ceil_mode=False)\n",
       "  )\n",
       "  (block3): BasicBlock(\n",
       "    (conv1): Conv2d(128, 128, kernel_size=(3, 3), stride=(1, 1), padding=(1, 1))\n",
       "    (conv2): Conv2d(128, 256, kernel_size=(3, 3), stride=(1, 1), padding=(1, 1))\n",
       "    (relu): ReLU()\n",
       "    (pool): MaxPool2d(kernel_size=2, stride=2, padding=0, dilation=1, ceil_mode=False)\n",
       "  )\n",
       "  (fc1): Linear(in_features=4096, out_features=2048, bias=True)\n",
       "  (fc2): Linear(in_features=2048, out_features=256, bias=True)\n",
       "  (fc3): Linear(in_features=256, out_features=10, bias=True)\n",
       "  (relu): ReLU()\n",
       ")"
      ]
     },
     "execution_count": 29,
     "metadata": {},
     "output_type": "execute_result"
    }
   ],
   "source": [
    "from torch.utils.data.dataloader import DataLoader\n",
    "from torchvision.transforms import Compose, RandomCrop, RandomHorizontalFlip, ToTensor, Normalize\n",
    "from torch.optim.adam import Adam\n",
    "\n",
    "transforms = Compose([\n",
    "    RandomCrop((32,32),padding=4),  #PIL?네 맞습니다. CIFAR10이 32*32 인데 32*32 Cropping 하면 무슨의미가\n",
    "    RandomHorizontalFlip(p=0.5), #PIL? 네\n",
    "    ToTensor(), #어차피 Tensor인데 이건 또 왜하는거 텐서로, 이후 Normalize\n",
    "    Normalize(mean=(0.5,0.5,0.5), std=(0.24,0.24,0.24)) #Normalize는 Tensor의 입력을 받는다.\n",
    "])\n",
    "\n",
    "from torchvision.datasets import CIFAR10\n",
    "\n",
    "trainset = CIFAR10(root='./', train=True, download = True , transform = transforms) # PIL image\n",
    "testset = CIFAR10(root='./', train=True, download = True, transform = transforms)\n",
    "\n",
    "\n",
    "trainloader = DataLoader(trainset, batch_size=32, shuffle=True)\n",
    "testloader = DataLoader(testset, batch_size=32, shuffle=False)\n",
    "\n",
    "device = \"cuda\" if torch.cuda.is_available() else \"cpu\"\n",
    "\n",
    "model = VGG(num_classes=10)\n",
    "model.to(device)\n",
    "\n",
    "\n",
    "\n",
    "\n",
    "\n"
   ]
  },
  {
   "cell_type": "code",
   "execution_count": 32,
   "id": "ea22dd34",
   "metadata": {},
   "outputs": [
    {
     "name": "stdout",
     "output_type": "stream",
     "text": [
      "epoch1 loss:0.15882045030593872\n",
      "epoch10 loss:0.4716978073120117\n",
      "epoch20 loss:0.6751802563667297\n"
     ]
    }
   ],
   "source": [
    "#set config \n",
    "lr = 1e-5\n",
    "optim = Adam(model.parameters(), lr=lr)\n",
    "epoch = 20\n",
    "criterion = nn.CrossEntropyLoss()\n",
    "\n",
    "for epoch in range(epoch):\n",
    "    for data,label in trainloader:\n",
    "        optim.zero_grad()\n",
    "        preds = model(data.to(device))\n",
    "        \n",
    "        loss = criterion(preds,label.to(device))\n",
    "        loss.backward()\n",
    "        optim.step()\n",
    "        \n",
    "    if epoch==0 or epoch%10==9:\n",
    "        print(f'epoch{epoch+1} loss:{loss.item()}')\n",
    "        \n",
    "\n",
    "#모델 저장\n",
    "torch.save(model.state_dict(), \"CIFAR.pth\")  # 모델저장은 근데 eval까지 돌리고 best parameter를 저장하던게 아닌가요\n",
    "        \n",
    "        \n",
    "    \n",
    "    "
   ]
  },
  {
   "cell_type": "code",
   "execution_count": 39,
   "id": "2681ff56",
   "metadata": {},
   "outputs": [
    {
     "name": "stdout",
     "output_type": "stream",
     "text": [
      "Accuracy:0.86012\n"
     ]
    }
   ],
   "source": [
    "model.load_state_dict(torch.load(\"CIFAR.pth\",map_location = device)) # load_state_dict 대상을 device에 불러오는 option제공\n",
    "\n",
    "num_corr = 0\n",
    "\n",
    "with torch.no_grad():\n",
    "    for data,label in testloader:\n",
    "        output = model(data.to(device))\n",
    "        #print(output.shape)\n",
    "        preds = output.data.max(1)[1]  #output의 형태를 ? -> (32,10) , Batch, num_class == 마지막classifier output\n",
    "        corr = preds.eq(label.to(device).data).sum().item()\n",
    "        num_corr += corr\n",
    "        \n",
    "    print(f\"Accuracy:{num_corr/len(testset)}\")"
   ]
  },
  {
   "cell_type": "code",
   "execution_count": null,
   "id": "6c6c2818-63be-4a3d-af83-ca7b48985986",
   "metadata": {},
   "outputs": [],
   "source": []
  },
  {
   "cell_type": "code",
   "execution_count": null,
   "id": "3b58c8b8-b4c9-47b1-ae18-3588897e9e8f",
   "metadata": {},
   "outputs": [],
   "source": []
  },
  {
   "cell_type": "code",
   "execution_count": null,
   "id": "eca4882c-9947-4871-ac6e-30bfe8fabe18",
   "metadata": {},
   "outputs": [],
   "source": []
  },
  {
   "cell_type": "code",
   "execution_count": null,
   "id": "6b1ade88-631e-4e1f-bdb4-45ac38e9afc0",
   "metadata": {},
   "outputs": [],
   "source": []
  },
  {
   "cell_type": "code",
   "execution_count": null,
   "id": "095ba886-6b9c-4500-882c-ff34fe0a8f9f",
   "metadata": {},
   "outputs": [],
   "source": []
  }
 ],
 "metadata": {
  "kernelspec": {
   "display_name": "Python 3 (ipykernel)",
   "language": "python",
   "name": "python3"
  },
  "language_info": {
   "codemirror_mode": {
    "name": "ipython",
    "version": 3
   },
   "file_extension": ".py",
   "mimetype": "text/x-python",
   "name": "python",
   "nbconvert_exporter": "python",
   "pygments_lexer": "ipython3",
   "version": "3.9.0"
  }
 },
 "nbformat": 4,
 "nbformat_minor": 5
}
