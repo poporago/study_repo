{
 "cells": [
  {
   "cell_type": "code",
   "execution_count": 1,
   "metadata": {},
   "outputs": [],
   "source": [
    "import torch\n",
    "import torch.nn as nn"
   ]
  },
  {
   "cell_type": "markdown",
   "metadata": {},
   "source": [
    "<img src = \"https://images.velog.io/images/junyoung9696/post/3137e50c-b52f-4cdd-8ae8-2faf497efe84/r10.png\" width = 400>\n",
    "\n",
    "<br/>\n",
    "\n",
    "<img src = \"https://editor.analyticsvidhya.com/uploads/38371XTo6Q.png\" width = 600, height=800>"
   ]
  },
  {
   "cell_type": "code",
   "execution_count": 12,
   "metadata": {},
   "outputs": [],
   "source": [
    "class BasicBlock(nn.Module):\n",
    "    def __init__(self,in_channels,out_channels,kernel_size=3):\n",
    "        super(BasicBlock,self).__init__()\n",
    "        \n",
    "        self.conv1 = nn.Conv2d(in_channels,out_channels,kernel_size=kernel_size,padding=1)#spatial size유지\n",
    "        self.bn1 = nn.BatchNorm2d(out_channels)\n",
    "        self.relu = nn.ReLU()\n",
    "        self.conv2 = nn.Conv2d(out_channels,out_channels ,kernel_size=kernel_size, padding=1)\n",
    "        self.bn2 = nn.BatchNorm2d(out_channels)\n",
    "        self.relu = nn.ReLU()\n",
    "        \n",
    "        self.shortcut = nn.Conv2d(in_channels, out_channels, kernel_size=1) #? stride= 2 case? pooling case?\n",
    "        \n",
    "    def forward(self,x):\n",
    "        identity = x #shorcut을 위한 identity저장\n",
    "        \n",
    "        #F(x)\n",
    "        x = self.conv1(x)\n",
    "        x = self.bn1(x)\n",
    "        x = self.relu(x)\n",
    "        x = self.conv2(x)\n",
    "        x = self.bn2(x)\n",
    "        \n",
    "        identity = self.shortcut(identity)\n",
    "        \n",
    "        x = x+identity\n",
    "        x = self.relu(x) #합치고 렐루\n",
    "        \n",
    "        return x\n",
    "        "
   ]
  },
  {
   "cell_type": "code",
   "execution_count": 16,
   "metadata": {},
   "outputs": [],
   "source": [
    "class ResNet(nn.Module):  #Resent18? 34?50? ... Vannila ResNet3?\n",
    "    def __init__(self,num_classes=10):\n",
    "        super().__init__()\n",
    "        \n",
    "        #기본 블록\n",
    "        self.block1 = BasicBlock(in_channels=3,out_channels=64)\n",
    "        self.block2 = BasicBlock(in_channels=64, out_channels=128)\n",
    "        self.block3 = BasicBlock(in_channels=128, out_channels = 256)\n",
    "        \n",
    "        self.pool = nn.AvgPool2d(kernel_size=2, stride=2)#spatial size 32->16\n",
    "        \n",
    "        #Classifier\n",
    "        self.fc1 = nn.Linear(in_features=4096,out_features=2048) #4*4*256 = 4096  ? CIFAR 32*32...\n",
    "        self.fc2 = nn.Linear(in_features=2048, out_features=512)\n",
    "        self.fc3 = nn.Linear(in_features=512, out_features=num_classes)\n",
    "        \n",
    "        self.relu = nn.ReLU()\n",
    "        \n",
    "    def forward(self,x):\n",
    "        x = self.block1(x) # spatial s = 32 (kerenl3 padding1)\n",
    "        x = self.pool(x)  # 16\n",
    "        x = self.block2(x) # 16\n",
    "        x = self.pool(x) # 8\n",
    "        x = self.block3(x) # 8\n",
    "        x = self.pool(x)  #  4 -> 256*4*4  -> 4096\n",
    "        \n",
    "        x = torch.flatten(x, start_dim=1) # dim=0 batch는 무시하고 chw 를 flatten (Batch, 4096) input\n",
    "        \n",
    "        x = self.fc1(x)\n",
    "        x = self.relu(x)\n",
    "        x = self.fc2(x)\n",
    "        x = self.relu(x)\n",
    "        x = self.fc3(x)\n",
    "        \n",
    "        return x\n",
    "        \n",
    "    \n",
    "        \n"
   ]
  },
  {
   "cell_type": "code",
   "execution_count": 17,
   "metadata": {},
   "outputs": [
    {
     "name": "stdout",
     "output_type": "stream",
     "text": [
      "Files already downloaded and verified\n",
      "Files already downloaded and verified\n"
     ]
    },
    {
     "data": {
      "text/plain": [
       "ResNet(\n",
       "  (block1): BasicBlock(\n",
       "    (conv1): Conv2d(3, 64, kernel_size=(3, 3), stride=(1, 1), padding=(1, 1))\n",
       "    (bn1): BatchNorm2d(64, eps=1e-05, momentum=0.1, affine=True, track_running_stats=True)\n",
       "    (relu): ReLU()\n",
       "    (conv2): Conv2d(64, 64, kernel_size=(3, 3), stride=(1, 1), padding=(1, 1))\n",
       "    (bn2): BatchNorm2d(64, eps=1e-05, momentum=0.1, affine=True, track_running_stats=True)\n",
       "    (shortcut): Conv2d(3, 64, kernel_size=(1, 1), stride=(1, 1))\n",
       "  )\n",
       "  (block2): BasicBlock(\n",
       "    (conv1): Conv2d(64, 128, kernel_size=(3, 3), stride=(1, 1), padding=(1, 1))\n",
       "    (bn1): BatchNorm2d(128, eps=1e-05, momentum=0.1, affine=True, track_running_stats=True)\n",
       "    (relu): ReLU()\n",
       "    (conv2): Conv2d(128, 128, kernel_size=(3, 3), stride=(1, 1), padding=(1, 1))\n",
       "    (bn2): BatchNorm2d(128, eps=1e-05, momentum=0.1, affine=True, track_running_stats=True)\n",
       "    (shortcut): Conv2d(64, 128, kernel_size=(1, 1), stride=(1, 1))\n",
       "  )\n",
       "  (block3): BasicBlock(\n",
       "    (conv1): Conv2d(128, 256, kernel_size=(3, 3), stride=(1, 1), padding=(1, 1))\n",
       "    (bn1): BatchNorm2d(256, eps=1e-05, momentum=0.1, affine=True, track_running_stats=True)\n",
       "    (relu): ReLU()\n",
       "    (conv2): Conv2d(256, 256, kernel_size=(3, 3), stride=(1, 1), padding=(1, 1))\n",
       "    (bn2): BatchNorm2d(256, eps=1e-05, momentum=0.1, affine=True, track_running_stats=True)\n",
       "    (shortcut): Conv2d(128, 256, kernel_size=(1, 1), stride=(1, 1))\n",
       "  )\n",
       "  (pool): AvgPool2d(kernel_size=2, stride=2, padding=0)\n",
       "  (fc1): Linear(in_features=4096, out_features=2048, bias=True)\n",
       "  (fc2): Linear(in_features=2048, out_features=512, bias=True)\n",
       "  (fc3): Linear(in_features=512, out_features=10, bias=True)\n",
       "  (relu): ReLU()\n",
       ")"
      ]
     },
     "execution_count": 17,
     "metadata": {},
     "output_type": "execute_result"
    }
   ],
   "source": [
    "from tqdm import tqdm\n",
    "\n",
    "from torchvision.datasets.cifar import CIFAR10\n",
    "from torchvision.transforms import Compose,ToTensor\n",
    "from torchvision.transforms import RandomHorizontalFlip,RandomCrop \n",
    "from torchvision.transforms import Normalize\n",
    "from torch.utils.data.dataloader import DataLoader\n",
    "\n",
    "from torch.optim.adam import Adam\n",
    "\n",
    "transforms = Compose([\n",
    "    RandomCrop((32,32),padding=4),\n",
    "    RandomHorizontalFlip(p=0.5),\n",
    "    ToTensor(),\n",
    "    Normalize(mean=[0.485, 0.456, 0.406],\n",
    "                              std=[0.229, 0.224, 0.225])\n",
    "])\n",
    "\n",
    "trainset = CIFAR10(root='./', train=True, download=True, transform=transforms)\n",
    "testset = CIFAR10(root='./', train =False, download =True, transform= transforms)\n",
    "\n",
    "train_loader = DataLoader(trainset , batch_size=32, shuffle=True)\n",
    "test_loader = DataLoader(testset, batch_size=32,shuffle =False)\n",
    "\n",
    "device = \"cuda\" if torch.cuda.is_available() else \"cpu\"\n",
    "\n",
    "model = ResNet(num_classes=10)\n",
    "model.to(device)\n"
   ]
  },
  {
   "cell_type": "code",
   "execution_count": 19,
   "metadata": {},
   "outputs": [
    {
     "name": "stderr",
     "output_type": "stream",
     "text": [
      "epoch:1 loss:0.5612490177154541: 100%|██████████| 1563/1563 [06:23<00:00,  4.07it/s]\n",
      "epoch:2 loss:0.4626854956150055: 100%|██████████| 1563/1563 [06:34<00:00,  3.96it/s] \n",
      "epoch:3 loss:0.23807354271411896: 100%|██████████| 1563/1563 [06:21<00:00,  4.09it/s]\n",
      "epoch:4 loss:0.2558000683784485: 100%|██████████| 1563/1563 [06:20<00:00,  4.11it/s] \n",
      "epoch:5 loss:0.45090895891189575: 100%|██████████| 1563/1563 [06:16<00:00,  4.15it/s]\n"
     ]
    }
   ],
   "source": [
    "lr = 1e-3\n",
    "optim = Adam(model.parameters(),lr=lr)\n",
    "\n",
    "for epoch in range(5):\n",
    "    iterator = tqdm(train_loader)\n",
    "    for data,label in iterator:\n",
    "        optim.zero_grad()\n",
    "        \n",
    "        preds = model(data.to(device))\n",
    "        \n",
    "        loss = nn.CrossEntropyLoss()(preds,label.to(device))\n",
    "        loss.backward()\n",
    "        optim.step()\n",
    "        \n",
    "        iterator.set_description(f'epoch:{epoch+1} loss:{loss.item()}')\n",
    "        \n",
    "\n",
    "torch.save(model.state_dict(),\"ResNet.pth\")\n",
    "    "
   ]
  },
  {
   "cell_type": "code",
   "execution_count": 20,
   "metadata": {},
   "outputs": [
    {
     "name": "stderr",
     "output_type": "stream",
     "text": [
      "100%|██████████| 313/313 [00:26<00:00, 11.65it/s]"
     ]
    },
    {
     "name": "stdout",
     "output_type": "stream",
     "text": [
      "Accuracy\"0.8197\n"
     ]
    },
    {
     "name": "stderr",
     "output_type": "stream",
     "text": [
      "\n"
     ]
    }
   ],
   "source": [
    "model.load_state_dict(torch.load(\"ResNet.pth\",map_location=device))\n",
    "\n",
    "num_corr=0\n",
    "\n",
    "with torch.no_grad():\n",
    "    for data,label in tqdm(test_loader):\n",
    "        \n",
    "        output = model(data.to(device))\n",
    "        preds = output.data.max(1)[1]\n",
    "        corr = preds.eq(label.to(device).data).sum().item()\n",
    "        num_corr += corr\n",
    "        \n",
    "    print(f'Accuracy\"{num_corr/len(testset)}')\n",
    "    \n",
    "        "
   ]
  },
  {
   "cell_type": "code",
   "execution_count": null,
   "metadata": {},
   "outputs": [],
   "source": []
  },
  {
   "cell_type": "markdown",
   "metadata": {},
   "source": []
  }
 ],
 "metadata": {
  "kernelspec": {
   "display_name": "yeardream",
   "language": "python",
   "name": "python3"
  },
  "language_info": {
   "codemirror_mode": {
    "name": "ipython",
    "version": 3
   },
   "file_extension": ".py",
   "mimetype": "text/x-python",
   "name": "python",
   "nbconvert_exporter": "python",
   "pygments_lexer": "ipython3",
   "version": "3.9.0"
  },
  "orig_nbformat": 4
 },
 "nbformat": 4,
 "nbformat_minor": 2
}
