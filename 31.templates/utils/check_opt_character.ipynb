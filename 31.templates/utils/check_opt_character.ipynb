{
 "cells": [
  {
   "cell_type": "code",
   "execution_count": null,
   "metadata": {},
   "outputs": [],
   "source": [
    "'''\n",
    "gt_file 내 charcter를 중복을 제외(set)하고 recgonizer의 opt['character']에 포함 시킨후, opt['charater_num'] 에 추가합니다.\n",
    "'''\n",
    "\n",
    "\n",
    "\n",
    "gt_file = \"C:/Users/ydsc/TextRecognitionDataGenerator/trdg/dicts/custom/0611.txt\"\n",
    "\n",
    "with open (gt_file, 'r') as gt : \n",
    "    texts = gt.readlines()\n",
    "    for text in texts:\n",
    "        \n"
   ]
  }
 ],
 "metadata": {
  "language_info": {
   "name": "python"
  }
 },
 "nbformat": 4,
 "nbformat_minor": 2
}
