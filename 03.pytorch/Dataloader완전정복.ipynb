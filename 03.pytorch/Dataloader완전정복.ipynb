{
 "cells": [
  {
   "cell_type": "code",
   "execution_count": 1,
   "metadata": {},
   "outputs": [],
   "source": [
    "import torch\n",
    "from torch.utils.data import Dataset, DataLoader, SequentialSampler, RandomSampler, SubsetRandomSampler, BatchSampler"
   ]
  },
  {
   "cell_type": "markdown",
   "metadata": {},
   "source": [
    "## DataLoader\n",
    "- DataLoader는 Dataset에 대하여 data를 로드하는 iterative한 객체이다.\n",
    "- DataLoader는 아래와 같은 argument를 받는다.\n",
    "\n",
    "```python\n",
    "DataLoader(dataset, batch_size=1, shuffle=False, sampler=None,\n",
    "           batch_sampler = None, num_workers=0, collate_fn= None,\n",
    "           pin_memory=False, drop_last = False, timeout=0, \n",
    "           work_init_fn = None, *, prefetch_factor=2, \n",
    "           persistent_workers=False))\n",
    "```"
   ]
  },
  {
   "cell_type": "markdown",
   "metadata": {},
   "source": [
    "batch_size"
   ]
  },
  {
   "cell_type": "code",
   "execution_count": 3,
   "metadata": {},
   "outputs": [
    {
     "name": "stdout",
     "output_type": "stream",
     "text": [
      "tensor([99,  0,  1,  2,  3,  4,  5,  6,  7,  8])\n",
      "tensor([ 9, 10])\n"
     ]
    }
   ],
   "source": [
    "from torch.utils.data import DataLoader, Dataset, Sampler\n",
    "\n",
    "# 간단한 데이터셋 정의\n",
    "class SimpleDataset(Dataset):\n",
    "    def __init__(self, data):\n",
    "        self.data = data\n",
    "\n",
    "    def __len__(self):\n",
    "        return len(self.data)\n",
    "\n",
    "    def __getitem__(self, idx):\n",
    "        return self.data[idx]\n",
    "\n",
    "# 사용자 정의 샘플러 정의\n",
    "class CustomSampler(Sampler):\n",
    "    def __init__(self, data_source, indices):\n",
    "        self.data_source = data_source\n",
    "        self.indices = indices\n",
    "\n",
    "    def __iter__(self):\n",
    "        return iter(self.indices)\n",
    "\n",
    "    def __len__(self):\n",
    "        return len(self.indices)\n",
    "\n",
    "# 데이터셋 생성\n",
    "data = [i for i in range(100)]\n",
    "dataset = SimpleDataset(data)\n",
    "\n",
    "# 특정 순서의 인덱스 정의\n",
    "custom_indices = [99, 0, 1, 2, 3, 4, 5, 6, 7, 8, 9, 10]  # 예시로 첫 번째 배치가 마지막 인덱스를 포함하도록 설정\n",
    "\n",
    "# CustomSampler를 사용하는 DataLoader 생성\n",
    "custom_sampler = CustomSampler(dataset, custom_indices)\n",
    "dataloader = DataLoader(dataset, sampler=custom_sampler, batch_size=10)\n",
    "\n",
    "# 데이터 로딩 예시\n",
    "for batch in dataloader:\n",
    "    print(batch)"
   ]
  },
  {
   "cell_type": "markdown",
   "metadata": {},
   "source": [
    "shuffle\n"
   ]
  },
  {
   "cell_type": "markdown",
   "metadata": {},
   "source": [
    "sampler"
   ]
  },
  {
   "cell_type": "markdown",
   "metadata": {},
   "source": [
    "batch_sampler"
   ]
  },
  {
   "cell_type": "markdown",
   "metadata": {},
   "source": [
    "num_workers"
   ]
  },
  {
   "cell_type": "markdown",
   "metadata": {},
   "source": [
    "collate_fn"
   ]
  },
  {
   "cell_type": "markdown",
   "metadata": {},
   "source": [
    "pin_memory"
   ]
  },
  {
   "cell_type": "markdown",
   "metadata": {},
   "source": [
    "drop_last"
   ]
  },
  {
   "cell_type": "markdown",
   "metadata": {},
   "source": [
    "timeout"
   ]
  },
  {
   "cell_type": "markdown",
   "metadata": {},
   "source": [
    "work_init_fn"
   ]
  },
  {
   "cell_type": "markdown",
   "metadata": {},
   "source": []
  }
 ],
 "metadata": {
  "kernelspec": {
   "display_name": "Python 3",
   "language": "python",
   "name": "python3"
  },
  "language_info": {
   "codemirror_mode": {
    "name": "ipython",
    "version": 3
   },
   "file_extension": ".py",
   "mimetype": "text/x-python",
   "name": "python",
   "nbconvert_exporter": "python",
   "pygments_lexer": "ipython3",
   "version": "3.11.5"
  }
 },
 "nbformat": 4,
 "nbformat_minor": 2
}
