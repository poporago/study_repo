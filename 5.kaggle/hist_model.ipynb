{
 "cells": [
  {
   "cell_type": "code",
   "execution_count": 4,
   "metadata": {},
   "outputs": [],
   "source": [
    "import pandas as pd\n",
    "import numpy as np"
   ]
  },
  {
   "cell_type": "code",
   "execution_count": 31,
   "metadata": {},
   "outputs": [],
   "source": [
    "class hist_model(object):\n",
    "    def __init__(self, bins=50):\n",
    "        self.bins=bins\n",
    "\n",
    "    def fit(self,X):\n",
    "        bin_height,bin_edge= [],[]\n",
    "\n",
    "        for var in X.T:\n",
    "            bh,bedge = np.histogram(var, bins=self.bins)\n",
    "            bin_height.append(bh)\n",
    "            bin_edge.append(bedge)\n",
    "\n",
    "        self.bin_height = np.array(bin_height)\n",
    "        self.bin_edge = np.array(bin_edge)\n",
    "\n",
    "    def predict(self,X):\n",
    "        scores = []\n",
    "        for obs in X:\n",
    "            obs_score = []\n",
    "            for i,var in enumerate(obs):  #각 행, 데이터포인트를 순회\n",
    "                bin_num = (var>self.bin_edge[i]).argmin()-1  #학습한 구간 경곗값 \n",
    "                obs_score.append(self.bin_height[i, bin_num])\n",
    "\n",
    "            scores.append(np.mean(obs_score))\n",
    "\n",
    "        return np.array(scores)"
   ]
  },
  {
   "cell_type": "code",
   "execution_count": null,
   "metadata": {},
   "outputs": [],
   "source": []
  }
 ],
 "metadata": {
  "kernelspec": {
   "display_name": "pyeardream",
   "language": "python",
   "name": "python3"
  },
  "language_info": {
   "codemirror_mode": {
    "name": "ipython",
    "version": 3
   },
   "file_extension": ".py",
   "mimetype": "text/x-python",
   "name": "python",
   "nbconvert_exporter": "python",
   "pygments_lexer": "ipython3",
   "version": "3.11.5"
  }
 },
 "nbformat": 4,
 "nbformat_minor": 2
}
