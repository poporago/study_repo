{
 "cells": [
  {
   "cell_type": "markdown",
   "metadata": {},
   "source": [
    "# Intro to PCA, t-SNE & UMAP"
   ]
  },
  {
   "cell_type": "code",
   "execution_count": 108,
   "metadata": {},
   "outputs": [],
   "source": [
    "import numpy as np\n",
    "import pandas as pd\n",
    "pd.plotting.register_matplotlib_converters()\n",
    "import matplotlib.pyplot as plt\n",
    "import seaborn as sns\n",
    "sns.set(style='darkgrid', font_scale=1.4)\n",
    "import plotly.express as px\n",
    "\n",
    "#sklearn\n",
    "from sklearn.decomposition import PCA\n",
    "from sklearn.manifold import TSNE\n",
    "from sklearn.discriminant_analysis import LinearDiscriminantAnalysis as LDA\n",
    "from sklearn.cluster import KMeans\n",
    "from sklearn.preprocessing import StandardScaler\n",
    "\n",
    "#UMAP\n",
    "import umap.umap_ as umap\n",
    "import umap.plot"
   ]
  },
  {
   "cell_type": "markdown",
   "metadata": {},
   "source": [
    "## Load Data\n",
    "13개의 피쳐를 가진 데이터를 와인 데이터셋을 준비합니다."
   ]
  },
  {
   "cell_type": "code",
   "execution_count": 15,
   "metadata": {},
   "outputs": [
    {
     "name": "stdout",
     "output_type": "stream",
     "text": [
      "Dataframe dimensions: (178, 13)\n"
     ]
    }
   ],
   "source": [
    "data = pd.read_csv('../data/wine-clustering.csv')\n",
    "#Dimensions\n",
    "print('Dataframe dimensions:', data.shape)"
   ]
  },
  {
   "cell_type": "code",
   "execution_count": 16,
   "metadata": {},
   "outputs": [
    {
     "data": {
      "text/html": [
       "<div>\n",
       "<style scoped>\n",
       "    .dataframe tbody tr th:only-of-type {\n",
       "        vertical-align: middle;\n",
       "    }\n",
       "\n",
       "    .dataframe tbody tr th {\n",
       "        vertical-align: top;\n",
       "    }\n",
       "\n",
       "    .dataframe thead th {\n",
       "        text-align: right;\n",
       "    }\n",
       "</style>\n",
       "<table border=\"1\" class=\"dataframe\">\n",
       "  <thead>\n",
       "    <tr style=\"text-align: right;\">\n",
       "      <th></th>\n",
       "      <th>Alcohol</th>\n",
       "      <th>Malic_Acid</th>\n",
       "      <th>Ash</th>\n",
       "      <th>Ash_Alcanity</th>\n",
       "      <th>Magnesium</th>\n",
       "      <th>Total_Phenols</th>\n",
       "      <th>Flavanoids</th>\n",
       "      <th>Nonflavanoid_Phenols</th>\n",
       "      <th>Proanthocyanins</th>\n",
       "      <th>Color_Intensity</th>\n",
       "      <th>Hue</th>\n",
       "      <th>OD280</th>\n",
       "      <th>Proline</th>\n",
       "    </tr>\n",
       "  </thead>\n",
       "  <tbody>\n",
       "    <tr>\n",
       "      <th>0</th>\n",
       "      <td>14.23</td>\n",
       "      <td>1.71</td>\n",
       "      <td>2.43</td>\n",
       "      <td>15.6</td>\n",
       "      <td>127</td>\n",
       "      <td>2.80</td>\n",
       "      <td>3.06</td>\n",
       "      <td>0.28</td>\n",
       "      <td>2.29</td>\n",
       "      <td>5.64</td>\n",
       "      <td>1.04</td>\n",
       "      <td>3.92</td>\n",
       "      <td>1065</td>\n",
       "    </tr>\n",
       "    <tr>\n",
       "      <th>1</th>\n",
       "      <td>13.20</td>\n",
       "      <td>1.78</td>\n",
       "      <td>2.14</td>\n",
       "      <td>11.2</td>\n",
       "      <td>100</td>\n",
       "      <td>2.65</td>\n",
       "      <td>2.76</td>\n",
       "      <td>0.26</td>\n",
       "      <td>1.28</td>\n",
       "      <td>4.38</td>\n",
       "      <td>1.05</td>\n",
       "      <td>3.40</td>\n",
       "      <td>1050</td>\n",
       "    </tr>\n",
       "    <tr>\n",
       "      <th>2</th>\n",
       "      <td>13.16</td>\n",
       "      <td>2.36</td>\n",
       "      <td>2.67</td>\n",
       "      <td>18.6</td>\n",
       "      <td>101</td>\n",
       "      <td>2.80</td>\n",
       "      <td>3.24</td>\n",
       "      <td>0.30</td>\n",
       "      <td>2.81</td>\n",
       "      <td>5.68</td>\n",
       "      <td>1.03</td>\n",
       "      <td>3.17</td>\n",
       "      <td>1185</td>\n",
       "    </tr>\n",
       "    <tr>\n",
       "      <th>3</th>\n",
       "      <td>14.37</td>\n",
       "      <td>1.95</td>\n",
       "      <td>2.50</td>\n",
       "      <td>16.8</td>\n",
       "      <td>113</td>\n",
       "      <td>3.85</td>\n",
       "      <td>3.49</td>\n",
       "      <td>0.24</td>\n",
       "      <td>2.18</td>\n",
       "      <td>7.80</td>\n",
       "      <td>0.86</td>\n",
       "      <td>3.45</td>\n",
       "      <td>1480</td>\n",
       "    </tr>\n",
       "    <tr>\n",
       "      <th>4</th>\n",
       "      <td>13.24</td>\n",
       "      <td>2.59</td>\n",
       "      <td>2.87</td>\n",
       "      <td>21.0</td>\n",
       "      <td>118</td>\n",
       "      <td>2.80</td>\n",
       "      <td>2.69</td>\n",
       "      <td>0.39</td>\n",
       "      <td>1.82</td>\n",
       "      <td>4.32</td>\n",
       "      <td>1.04</td>\n",
       "      <td>2.93</td>\n",
       "      <td>735</td>\n",
       "    </tr>\n",
       "  </tbody>\n",
       "</table>\n",
       "</div>"
      ],
      "text/plain": [
       "   Alcohol  Malic_Acid   Ash  Ash_Alcanity  Magnesium  Total_Phenols  \\\n",
       "0    14.23        1.71  2.43          15.6        127           2.80   \n",
       "1    13.20        1.78  2.14          11.2        100           2.65   \n",
       "2    13.16        2.36  2.67          18.6        101           2.80   \n",
       "3    14.37        1.95  2.50          16.8        113           3.85   \n",
       "4    13.24        2.59  2.87          21.0        118           2.80   \n",
       "\n",
       "   Flavanoids  Nonflavanoid_Phenols  Proanthocyanins  Color_Intensity   Hue  \\\n",
       "0        3.06                  0.28             2.29             5.64  1.04   \n",
       "1        2.76                  0.26             1.28             4.38  1.05   \n",
       "2        3.24                  0.30             2.81             5.68  1.03   \n",
       "3        3.49                  0.24             2.18             7.80  0.86   \n",
       "4        2.69                  0.39             1.82             4.32  1.04   \n",
       "\n",
       "   OD280  Proline  \n",
       "0   3.92     1065  \n",
       "1   3.40     1050  \n",
       "2   3.17     1185  \n",
       "3   3.45     1480  \n",
       "4   2.93      735  "
      ]
     },
     "execution_count": 16,
     "metadata": {},
     "output_type": "execute_result"
    }
   ],
   "source": [
    "data.head()"
   ]
  },
  {
   "cell_type": "markdown",
   "metadata": {},
   "source": [
    "## EDA"
   ]
  },
  {
   "cell_type": "code",
   "execution_count": 21,
   "metadata": {},
   "outputs": [
    {
     "name": "stdout",
     "output_type": "stream",
     "text": [
      "column: Alcohol   \t Percent of NaN value: 0.0%\n",
      "column: Malic_Acid\t Percent of NaN value: 0.0%\n",
      "column: Ash       \t Percent of NaN value: 0.0%\n",
      "column: Ash_Alcanity\t Percent of NaN value: 0.0%\n",
      "column: Magnesium \t Percent of NaN value: 0.0%\n",
      "column: Total_Phenols\t Percent of NaN value: 0.0%\n",
      "column: Flavanoids\t Percent of NaN value: 0.0%\n",
      "column: Nonflavanoid_Phenols\t Percent of NaN value: 0.0%\n",
      "column: Proanthocyanins\t Percent of NaN value: 0.0%\n",
      "column: Color_Intensity\t Percent of NaN value: 0.0%\n",
      "column: Hue       \t Percent of NaN value: 0.0%\n",
      "column: OD280     \t Percent of NaN value: 0.0%\n",
      "column: Proline   \t Percent of NaN value: 0.0%\n"
     ]
    }
   ],
   "source": [
    "#Null data 비율 표시\n",
    "for col in data.columns:\n",
    "    msg = f'column: {col:<10}\\t Percent of NaN value: {data[col].isnull().sum()/len(data)}%'\n",
    "    print(msg)"
   ]
  },
  {
   "cell_type": "code",
   "execution_count": 26,
   "metadata": {},
   "outputs": [
    {
     "name": "stdout",
     "output_type": "stream",
     "text": [
      "Duplicates in dataset: 0, (0.0%)\n"
     ]
    }
   ],
   "source": [
    "#중복 데이터 확인\n",
    "print(f'Duplicates in dataset: {data.duplicated().sum()}, ({np.round(100*data.duplicated().sum()/len(data),1)}%)')"
   ]
  },
  {
   "cell_type": "code",
   "execution_count": 28,
   "metadata": {},
   "outputs": [
    {
     "name": "stdout",
     "output_type": "stream",
     "text": [
      "<class 'pandas.core.frame.DataFrame'>\n",
      "RangeIndex: 178 entries, 0 to 177\n",
      "Data columns (total 13 columns):\n",
      " #   Column                Non-Null Count  Dtype  \n",
      "---  ------                --------------  -----  \n",
      " 0   Alcohol               178 non-null    float64\n",
      " 1   Malic_Acid            178 non-null    float64\n",
      " 2   Ash                   178 non-null    float64\n",
      " 3   Ash_Alcanity          178 non-null    float64\n",
      " 4   Magnesium             178 non-null    int64  \n",
      " 5   Total_Phenols         178 non-null    float64\n",
      " 6   Flavanoids            178 non-null    float64\n",
      " 7   Nonflavanoid_Phenols  178 non-null    float64\n",
      " 8   Proanthocyanins       178 non-null    float64\n",
      " 9   Color_Intensity       178 non-null    float64\n",
      " 10  Hue                   178 non-null    float64\n",
      " 11  OD280                 178 non-null    float64\n",
      " 12  Proline               178 non-null    int64  \n",
      "dtypes: float64(11), int64(2)\n",
      "memory usage: 18.2 KB\n"
     ]
    }
   ],
   "source": [
    "data.info()"
   ]
  },
  {
   "cell_type": "markdown",
   "metadata": {},
   "source": [
    "## Preprocessing"
   ]
  },
  {
   "cell_type": "code",
   "execution_count": 29,
   "metadata": {},
   "outputs": [],
   "source": [
    "standardization = StandardScaler()\n",
    "\n",
    "X = pd.DataFrame(standardization.fit_transform(data), columns=data.columns)"
   ]
  },
  {
   "cell_type": "markdown",
   "metadata": {},
   "source": [
    "### PCA"
   ]
  },
  {
   "cell_type": "code",
   "execution_count": 39,
   "metadata": {},
   "outputs": [],
   "source": [
    "pca = PCA(n_components=2)\n",
    "X_pca = pca.fit_transform(X)\n",
    "\n",
    "pca_df = pd.DataFrame(data = X_pca, columns=['PC1','PC2'])"
   ]
  },
  {
   "cell_type": "code",
   "execution_count": 42,
   "metadata": {},
   "outputs": [
    {
     "data": {
      "text/html": [
       "<div>\n",
       "<style scoped>\n",
       "    .dataframe tbody tr th:only-of-type {\n",
       "        vertical-align: middle;\n",
       "    }\n",
       "\n",
       "    .dataframe tbody tr th {\n",
       "        vertical-align: top;\n",
       "    }\n",
       "\n",
       "    .dataframe thead th {\n",
       "        text-align: right;\n",
       "    }\n",
       "</style>\n",
       "<table border=\"1\" class=\"dataframe\">\n",
       "  <thead>\n",
       "    <tr style=\"text-align: right;\">\n",
       "      <th></th>\n",
       "      <th>PC1</th>\n",
       "      <th>PC2</th>\n",
       "    </tr>\n",
       "  </thead>\n",
       "  <tbody>\n",
       "    <tr>\n",
       "      <th>0</th>\n",
       "      <td>3.316751</td>\n",
       "      <td>-1.443463</td>\n",
       "    </tr>\n",
       "    <tr>\n",
       "      <th>1</th>\n",
       "      <td>2.209465</td>\n",
       "      <td>0.333393</td>\n",
       "    </tr>\n",
       "    <tr>\n",
       "      <th>2</th>\n",
       "      <td>2.516740</td>\n",
       "      <td>-1.031151</td>\n",
       "    </tr>\n",
       "    <tr>\n",
       "      <th>3</th>\n",
       "      <td>3.757066</td>\n",
       "      <td>-2.756372</td>\n",
       "    </tr>\n",
       "    <tr>\n",
       "      <th>4</th>\n",
       "      <td>1.008908</td>\n",
       "      <td>-0.869831</td>\n",
       "    </tr>\n",
       "  </tbody>\n",
       "</table>\n",
       "</div>"
      ],
      "text/plain": [
       "        PC1       PC2\n",
       "0  3.316751 -1.443463\n",
       "1  2.209465  0.333393\n",
       "2  2.516740 -1.031151\n",
       "3  3.757066 -2.756372\n",
       "4  1.008908 -0.869831"
      ]
     },
     "execution_count": 42,
     "metadata": {},
     "output_type": "execute_result"
    }
   ],
   "source": [
    "pca_df.head()"
   ]
  },
  {
   "cell_type": "markdown",
   "metadata": {},
   "source": [
    "PCA plot in 2D"
   ]
  },
  {
   "cell_type": "code",
   "execution_count": 51,
   "metadata": {},
   "outputs": [
    {
     "data": {
      "text/plain": [
       "Text(0, 0.5, 'PC2')"
      ]
     },
     "execution_count": 51,
     "metadata": {},
     "output_type": "execute_result"
    },
    {
     "data": {
      "image/png": "[encoded data removed]",
      "text/plain": [
       "<Figure size 800x600 with 1 Axes>"
      ]
     },
     "metadata": {},
     "output_type": "display_data"
    }
   ],
   "source": [
    "plt.figure(figsize=(8,6))\n",
    "plt.scatter(pca_df.iloc[:,0], pca_df.iloc[:,1], s=25)\n",
    "plt.title('PCA plot in 2D')\n",
    "plt.xlabel('PC1')\n",
    "plt.ylabel('PC2')\n"
   ]
  },
  {
   "cell_type": "markdown",
   "metadata": {},
   "source": [
    "### K-Means clustering"
   ]
  },
  {
   "cell_type": "code",
   "execution_count": 57,
   "metadata": {},
   "outputs": [
    {
     "name": "stderr",
     "output_type": "stream",
     "text": [
      "/opt/homebrew/Caskroom/miniconda/base/envs/yeardream/lib/python3.9/site-packages/sklearn/base.py:450: UserWarning: X does not have valid feature names, but PCA was fitted with feature names\n",
      "  warnings.warn(\n"
     ]
    }
   ],
   "source": [
    "kmeans = KMeans(n_clusters=3, n_init=15, max_iter=500, random_state=0) #Kmeans는 iterative method임\n",
    "clusters = kmeans.fit_predict(X)\n",
    "centroids = kmeans.cluster_centers_\n",
    "centroids_pca = pca.transform(centroids)"
   ]
  },
  {
   "cell_type": "markdown",
   "metadata": {},
   "source": [
    "PCA plot in 2D coloured by cluster"
   ]
  },
  {
   "cell_type": "code",
   "execution_count": 65,
   "metadata": {},
   "outputs": [
    {
     "data": {
      "text/plain": [
       "Text(0, 0.5, 'PC2')"
      ]
     },
     "execution_count": 65,
     "metadata": {},
     "output_type": "execute_result"
    },
    {
     "data": {
      "image/png": "[encoded data removed]",
      "text/plain": [
       "<Figure size 800x600 with 1 Axes>"
      ]
     },
     "metadata": {},
     "output_type": "display_data"
    }
   ],
   "source": [
    "plt.figure(figsize=(8,6))\n",
    "plt.scatter(pca_df.iloc[:,0], pca_df.iloc[:,1], c=clusters, cmap='brg',  s=40)\n",
    "plt.scatter(x=centroids_pca[:,0], y=centroids_pca[:,1], marker=\"x\", s=100, linewidths=3, color='black')\n",
    "plt.title('PCA plot in 2D')\n",
    "plt.xlabel('PC1')\n",
    "plt.ylabel('PC2')"
   ]
  },
  {
   "cell_type": "markdown",
   "metadata": {},
   "source": [
    "### PCA plot in 3D"
   ]
  },
  {
   "cell_type": "code",
   "execution_count": 67,
   "metadata": {},
   "outputs": [
    {
     "data": {
      "application/vnd.plotly.v1+json": {
       "config": {
        "plotlyServerURL": "https://plot.ly"
       },
       "data": [
        {
         "hovertemplate": "PC1=%{x}<br>PC2=%{y}<br>PC3=%{z}<br>size=%{marker.size}<br>color=%{marker.color}<extra></extra>",
         "legendgroup": "",
         "marker": {
          "color": [
           2,
           2,
           2,
           2,
           2,
           2,
           2,
           2,
           2,
           2,
           2,
           2,
           2,
           2,
           2,
           2,
           2,
           2,
           2,
           2,
           2,
           2,
           2,
           2,
           2,
           2,
           2,
           2,
           2,
           2,
           2,
           2,
           2,
           2,
           2,
           2,
           2,
           2,
           2,
           2,
           2,
           2,
           2,
           2,
           2,
           2,
           2,
           2,
           2,
           2,
           2,
           2,
           2,
           2,
           2,
           2,
           2,
           2,
           2,
           1,
           1,
           0,
           1,
           1,
           1,
           1,
           1,
           1,
           1,
           1,
           1,
           1,
           1,
           2,
           1,
           1,
           1,
           1,
           1,
           1,
           1,
           1,
           1,
           0,
           1,
           1,
           1,
           1,
           1,
           1,
           1,
           1,
           1,
           1,
           1,
           2,
           1,
           1,
           1,
           1,
           1,
           1,
           1,
           1,
           1,
           1,
           1,
           1,
           1,
           1,
           1,
           1,
           1,
           1,
           1,
           1,
           1,
           1,
           0,
           1,
           1,
           2,
           1,
           1,
           1,
           1,
           1,
           1,
           1,
           1,
           0,
           0,
           0,
           0,
           0,
           0,
           0,
           0,
           0,
           0,
           0,
           0,
           0,
           0,
           0,
           0,
           0,
           0,
           0,
           0,
           0,
           0,
           0,
           0,
           0,
           0,
           0,
           0,
           0,
           0,
           0,
           0,
           0,
           0,
           0,
           0,
           0,
           0,
           0,
           0,
           0,
           0,
           0,
           0,
           0,
           0,
           0,
           0
          ],
          "coloraxis": "coloraxis",
          "opacity": 1,
          "size": [
           0.1,
           0.1,
           0.1,
           0.1,
           0.1,
           0.1,
           0.1,
           0.1,
           0.1,
           0.1,
           0.1,
           0.1,
           0.1,
           0.1,
           0.1,
           0.1,
           0.1,
           0.1,
           0.1,
           0.1,
           0.1,
           0.1,
           0.1,
           0.1,
           0.1,
           0.1,
           0.1,
           0.1,
           0.1,
           0.1,
           0.1,
           0.1,
           0.1,
           0.1,
           0.1,
           0.1,
           0.1,
           0.1,
           0.1,
           0.1,
           0.1,
           0.1,
           0.1,
           0.1,
           0.1,
           0.1,
           0.1,
           0.1,
           0.1,
           0.1,
           0.1,
           0.1,
           0.1,
           0.1,
           0.1,
           0.1,
           0.1,
           0.1,
           0.1,
           0.1,
           0.1,
           0.1,
           0.1,
           0.1,
           0.1,
           0.1,
           0.1,
           0.1,
           0.1,
           0.1,
           0.1,
           0.1,
           0.1,
           0.1,
           0.1,
           0.1,
           0.1,
           0.1,
           0.1,
           0.1,
           0.1,
           0.1,
           0.1,
           0.1,
           0.1,
           0.1,
           0.1,
           0.1,
           0.1,
           0.1,
           0.1,
           0.1,
           0.1,
           0.1,
           0.1,
           0.1,
           0.1,
           0.1,
           0.1,
           0.1,
           0.1,
           0.1,
           0.1,
           0.1,
           0.1,
           0.1,
           0.1,
           0.1,
           0.1,
           0.1,
           0.1,
           0.1,
           0.1,
           0.1,
           0.1,
           0.1,
           0.1,
           0.1,
           0.1,
           0.1,
           0.1,
           0.1,
           0.1,
           0.1,
           0.1,
           0.1,
           0.1,
           0.1,
           0.1,
           0.1,
           0.1,
           0.1,
           0.1,
           0.1,
           0.1,
           0.1,
           0.1,
           0.1,
           0.1,
           0.1,
           0.1,
           0.1,
           0.1,
           0.1,
           0.1,
           0.1,
           0.1,
           0.1,
           0.1,
           0.1,
           0.1,
           0.1,
           0.1,
           0.1,
           0.1,
           0.1,
           0.1,
           0.1,
           0.1,
           0.1,
           0.1,
           0.1,
           0.1,
           0.1,
           0.1,
           0.1,
           0.1,
           0.1,
           0.1,
           0.1,
           0.1,
           0.1,
           0.1,
           0.1,
           0.1,
           0.1,
           0.1,
           0.1
          ],
          "sizemode": "area",
          "sizeref": 0.00025,
          "symbol": "circle"
         },
         "mode": "markers",
         "name": "",
         "scene": "scene",
         "showlegend": false,
         "type": "scatter3d",
         "x": [
          3.3167508122147784,
          2.209464916918846,
          2.5167401466103865,
          3.7570656097732082,
          1.0089084937957158,
          3.0502539224180905,
          2.449089669596232,
          2.059436871437915,
          2.5108742973989875,
          2.7536281876339115,
          3.479736682731213,
          1.754752901294588,
          2.1134623403150963,
          3.4581568193367205,
          4.3127839067655644,
          2.305188200827974,
          2.1719552737415135,
          1.8989711765627617,
          3.541985081943472,
          2.084522204730314,
          3.124402535167201,
          1.0865700683322417,
          2.535224079903716,
          1.6449883412544715,
          1.7615758722693007,
          0.9900791016088569,
          1.7752776281133709,
          1.2354239643099065,
          2.1884063344519618,
          2.256108981283707,
          2.5002200257894263,
          2.6774110474440174,
          1.6285791164309182,
          1.9026908622381484,
          1.4103885265954066,
          1.9038262321944877,
          1.3848622303748397,
          1.122207410441311,
          1.5021945006181923,
          2.529801092371812,
          2.588095425854405,
          0.6684819937541872,
          3.0708069904120108,
          0.4622091375160077,
          2.1013519305380175,
          1.1361661775610186,
          2.7266009636408044,
          2.82133927419225,
          2.009850850912359,
          2.7074913042663957,
          3.214917474773826,
          2.8589598267172946,
          3.505604355923226,
          2.224791380532174,
          2.1469878235638675,
          2.4693294837977895,
          2.7415179142774533,
          2.17374092096531,
          3.1393801518289988,
          -0.9285819689218565,
          -1.542480137896882,
          -1.836249763466942,
          0.03060683408667699,
          2.050261607576318,
          -0.6096808271776241,
          0.9002278387071444,
          2.2485071907983953,
          0.18338402668475534,
          -0.8128050273520735,
          1.975620498798554,
          -1.5722162196263019,
          1.657681808833288,
          -0.725372388035359,
          2.562227173170362,
          1.8325675700495516,
          -0.8679929031954127,
          0.370014404294781,
          -1.4573770449061396,
          1.2629308497284975,
          0.3761503719342403,
          0.7620639041095989,
          1.0345779671651874,
          -0.4948767556803287,
          -2.5389770842951225,
          0.8353201453942992,
          0.7879046149897083,
          -0.80683215596554,
          -0.5580426248756823,
          -1.115111041919446,
          -0.5557228299517019,
          -1.3492852824437325,
          -1.5644826057199073,
          -1.932555610631467,
          0.7466659419884503,
          0.9574553638036435,
          2.5438651841995545,
          -0.5439525887762291,
          1.0310497503881488,
          2.2519094221481266,
          1.4102160153374612,
          0.797719792693042,
          -0.5495317266494668,
          -0.16117373994854492,
          -0.6597949416843601,
          0.3923544081850826,
          -1.772499077960036,
          -0.3662673573520652,
          -1.6206725727874818,
          0.0825357834933273,
          1.5782750709323845,
          1.4205692478240197,
          -0.278702753648855,
          -1.30314496624828,
          -0.45707186565262353,
          -0.4941858470443748,
          0.4820744097730947,
          -0.25288887765319984,
          -0.10722763772912525,
          -2.43301260255022,
          -0.5510895391746503,
          0.7396219285682248,
          1.3363217334183346,
          -1.1770869962477741,
          -0.46233500801967925,
          0.9784740793566504,
          -0.09680972631598517,
          0.03848714594902548,
          -1.5971585012074716,
          -0.4795649160831265,
          -1.792833473031145,
          -1.327101656141604,
          -2.3845008347435317,
          -2.936940102146615,
          -2.1468111338160654,
          -2.3698694883330433,
          -3.0638415687203557,
          -3.915753783711891,
          -3.9364633907159647,
          -3.094276117762278,
          -2.3744716280069245,
          -2.7788129476325163,
          -2.2865612847384718,
          -2.9856334874494705,
          -2.3751946982271113,
          -2.209865525595871,
          -2.6256210046927237,
          -4.280638778751092,
          -3.582641372001105,
          -2.8070637200816604,
          -2.899659333023912,
          -2.3207369765492065,
          -2.5498309472261367,
          -1.8125412848422997,
          -2.7601446419239513,
          -2.737150500667993,
          -3.604868868183426,
          -2.8898259968735096,
          -3.3921560768357213,
          -1.0481818968536785,
          -1.6099122828479353,
          -3.1431309667439744,
          -2.240156896269546,
          -2.8476737761195223,
          -2.5974970566487663,
          -2.9492993731348482,
          -3.530032266349317,
          -2.406110540478554,
          -2.9290847269674565,
          -2.1814127788126227,
          -2.38092778713564,
          -3.211617215041249,
          -3.6779187209738193,
          -2.4655557980404526,
          -3.3705241454428636,
          -2.6019558512247394,
          -2.6778394608645026,
          -2.3870170912797204,
          -3.208758164198025
         ],
         "y": [
          -1.443462634318011,
          0.33339288708030124,
          -1.0311512962743212,
          -2.7563719137107134,
          -0.869830821417206,
          -2.1224011146341906,
          -1.1748501316494742,
          -1.6089630683635092,
          -0.9180709573337756,
          -0.7894376738336049,
          -1.3023332371235947,
          -0.6119772287456311,
          -0.6757063391426185,
          -1.1306298761729368,
          -2.0959755753412623,
          -1.6625517299890582,
          -2.3273053361914218,
          -1.6313688786428393,
          -2.5183436693066477,
          -1.0611379935838612,
          -0.7868971056508951,
          -0.2417435513328405,
          0.09184062072088206,
          0.5162789300672364,
          0.3171489326843824,
          -0.9406673381906363,
          -0.686175134285024,
          0.08980704136064147,
          -0.6895696206616239,
          -0.19146193688666363,
          -1.2408338348969437,
          -1.4718736461032493,
          -0.05270445057532233,
          -1.633060434769985,
          -0.6979343246113574,
          -0.17671095109545532,
          -0.6586398536611499,
          -0.11410976029688794,
          0.7694320064310106,
          -1.8030019760618299,
          -0.7796163041925076,
          -0.16996094061987405,
          -1.155918956609883,
          -0.33074213219227494,
          0.07100892095406769,
          -1.7771073929776389,
          -1.1913346919571832,
          -0.6462585991417028,
          -1.2470294606787609,
          -1.7519674072063385,
          -0.16699199499679018,
          -0.7452788039895882,
          -1.6127338560350115,
          -1.8751679995630268,
          -1.0167515377576604,
          -1.329008310649623,
          -1.4365487835125146,
          -1.2121998406977952,
          -1.7315791159925138,
          3.073486163188933,
          1.3814435080942302,
          0.8299841230557187,
          1.2627861442114054,
          1.9250326046501043,
          1.9080588050851888,
          0.7639114736096095,
          1.8845924845501372,
          2.427146114703575,
          0.22051398690227017,
          1.403283225309616,
          0.8849831369082223,
          0.9567121974591514,
          1.0636454007060965,
          -0.2601985506545974,
          1.2878781978605274,
          2.4441011855808656,
          2.1539069751569917,
          1.38335176907626,
          0.7708495299701175,
          1.0270434033558236,
          3.37505380996354,
          1.4507097382440939,
          2.381243526767372,
          0.08744335730498211,
          1.4736705514008688,
          2.02662652246248,
          2.233830390843914,
          2.3729854288494567,
          1.8022471916654554,
          2.657540035392296,
          2.11800146978482,
          1.8522145217655521,
          1.5594954568986235,
          2.3129317092207424,
          2.223528434667462,
          -0.16927402279974202,
          0.3689265458773143,
          2.565569348733527,
          1.4327413803542577,
          2.1661917693703874,
          2.3769488030818655,
          2.29312864324563,
          1.1644833215600168,
          2.6799611859896384,
          2.09873170876554,
          1.717288469376144,
          2.1693532978292858,
          1.3555833880259585,
          2.3062345877483277,
          1.4620342902048171,
          1.4182066376337512,
          1.9305680886704701,
          0.7631723136577903,
          2.2694156075896768,
          1.9390450494868348,
          3.871783848407243,
          2.821492374701595,
          1.9289220425669604,
          1.2571410404943948,
          2.222161550776624,
          1.408956667365713,
          -0.2533369311683079,
          0.6639668398015708,
          0.6182881794850436,
          1.4455704988958287,
          2.1099979931352286,
          1.266762109157887,
          1.2081435741284847,
          1.9388406603940493,
          1.1502881044421058,
          -0.17038923204902925,
          -0.37458260552469497,
          -0.2638618300683819,
          -0.36825495188646284,
          0.45963480923116606,
          -0.35341283545840435,
          -0.15458251944173435,
          -0.6596872334097847,
          -0.34884275927379643,
          -0.29198035155999563,
          -0.28680487288217593,
          -0.37250784468529935,
          -0.48921790834701406,
          -0.48233371724487806,
          -1.1600525041576462,
          -0.5631607642108357,
          -0.6496709640237067,
          -1.2727027497273036,
          -1.5705337870412002,
          -2.0410570079384676,
          -2.3563660755566787,
          -2.045283091019528,
          -1.5276459462687544,
          -2.1389323476426148,
          -0.40988627088179236,
          -1.8023842175839697,
          -1.9252186131303453,
          -1.311876388473599,
          -3.515089691219734,
          -2.4066381595743307,
          -0.7381610441757996,
          -1.1754652881188665,
          -0.5560439658826758,
          -0.6979655372009214,
          -1.5553089642839857,
          -0.8825267962042376,
          -2.592356175042402,
          -1.2744469479044842,
          -2.077537312734519,
          -2.588667432418595,
          0.2512491044255901,
          -0.8477478441497653,
          -2.1937983036540967,
          -2.2162891398611397,
          -1.7572293509792776,
          -2.760899131674551,
          -2.297346679712823,
          -2.7689195660475785
         ],
         "z": [
          -0.16573904461441824,
          -2.02645737380754,
          0.9828186702120664,
          -0.17619184219949396,
          2.026688219235412,
          -0.6293958270439112,
          -0.9770948907142002,
          0.14628188306155887,
          -1.7709690272289471,
          -0.9842474895182388,
          -0.42273521658084773,
          -1.1908783196301789,
          -0.8650864256166583,
          -1.2042763525381948,
          -1.2639127523580025,
          0.21790261559595667,
          0.8317298659860097,
          0.794913792381071,
          -0.4854585076662951,
          -0.16474667849947347,
          -0.36488708298884487,
          0.936961599610647,
          -0.31193265934797143,
          0.14388509467079397,
          0.8902856474056893,
          3.820908008194846,
          -0.0867004064887654,
          -1.3868965448964399,
          1.3945668808503606,
          -1.092657257508296,
          1.3860178547156805,
          -0.3322617283750945,
          -0.1671287062453348,
          1.1720821191753474,
          0.47974302516866213,
          0.45083504003720903,
          0.45843858085206196,
          -0.03910727668975034,
          -1.4261773458904643,
          -0.34315238897968936,
          -0.11847746611373465,
          -0.7833625480611472,
          -0.31275808393415594,
          -0.20147649625677094,
          -0.6558494150434341,
          0.028705735784752006,
          -0.5397732611476733,
          -1.155552410727409,
          -0.05729398793992265,
          -0.6431136120007963,
          -1.9735716799013763,
          0.004719502164695534,
          -0.5207745300761764,
          0.33954985035420865,
          -0.9577627619503278,
          0.5134374530359723,
          -0.6124733957169587,
          0.26177959277078944,
          -0.2856614126164497,
          -4.585064007148215,
          -0.874683112445813,
          -1.6057021863206236,
          -1.7844080104188604,
          -0.007368777349817559,
          0.6793579379775355,
          0.5733613020971924,
          -2.03184019286759,
          -1.069745560247802,
          -0.7070053958009698,
          -1.2382762196848605,
          -0.6289979502315942,
          1.9525842166061993,
          0.08033222861543586,
          3.374393962239766,
          0.4582800273995601,
          -1.563333178950381,
          -2.449386348303744,
          -0.2273069023273039,
          -1.184224517375239,
          1.7944662945426628,
          -0.35747005553946654,
          -0.3630117731639623,
          1.3357431762848655,
          0.4742513927691475,
          0.6100935756921084,
          -0.25472340396955073,
          0.7728557971982649,
          2.307611404012006,
          0.9592533076886546,
          0.8491268977432243,
          -0.04765232084869355,
          0.7810670309346317,
          -0.08927467610868024,
          0.11467976874541629,
          0.14244477369872652,
          0.7886969907454858,
          1.308895931856866,
          -1.086390173817741,
          -0.23020824379781513,
          0.7488964107708814,
          -1.568112531275528,
          -1.49893532320108,
          1.0037131028373583,
          -0.7649208684795148,
          -0.47185000760974,
          0.9470331744608667,
          -0.48132423474229225,
          0.2871590006956163,
          -0.4635749893739531,
          1.7796459547332877,
          0.13927582948819844,
          0.07867055304723446,
          1.9995965104868565,
          1.0613389675926665,
          1.3239380723766931,
          1.3442712233930734,
          -0.3026397845306403,
          0.6901482425075149,
          -1.9030274044113544,
          -0.35622883021253465,
          1.1253454920042394,
          5.345388179195752,
          3.010221887946436,
          0.4834423663441844,
          1.481236974995951,
          0.434826115616789,
          0.6875779128728103,
          3.361175555386433,
          1.2965075188296726,
          0.7828001731822655,
          -1.180013355309486,
          -0.723822594811663,
          -0.1676398159837207,
          -0.4533013014691853,
          -1.1013997885920614,
          -1.0991241041153434,
          0.22182779984104717,
          1.7122154192145387,
          -1.0268314134224539,
          1.2419143328305644,
          0.6096701239723719,
          -0.9716430323608575,
          0.9469529317999698,
          -0.2528839940533347,
          -1.2451252259210648,
          -0.8559610818033767,
          -1.4581969616385706,
          -0.11078403762472838,
          -0.4725279345720879,
          -0.49595981023509217,
          0.43768174361876555,
          -0.3122679986509295,
          1.3625897815878762,
          -0.9646286882006806,
          -1.1904046839669866,
          -0.0940368613359724,
          -0.7823225555084496,
          1.6020259689000236,
          1.1600385659132284,
          0.5485596972407096,
          -0.09099872392222377,
          -0.10137693249612266,
          0.8042152181010296,
          -0.8849395211306337,
          -0.9834007272249446,
          -0.4660291277785415,
          0.4282262107995785,
          -1.213358271505152,
          0.7637825515581207,
          1.418044029496817,
          -0.8471291521285024,
          -1.339420231085521,
          -0.9187809604264937,
          -0.3425695124143239,
          0.2075813549812521,
          -0.940941876676994,
          -0.5506961970110864,
          1.0139136641131143
         ]
        }
       ],
       "layout": {
        "coloraxis": {
         "colorbar": {
          "title": {
           "text": "color"
          }
         },
         "colorscale": [
          [
           0,
           "#0d0887"
          ],
          [
           0.1111111111111111,
           "#46039f"
          ],
          [
           0.2222222222222222,
           "#7201a8"
          ],
          [
           0.3333333333333333,
           "#9c179e"
          ],
          [
           0.4444444444444444,
           "#bd3786"
          ],
          [
           0.5555555555555556,
           "#d8576b"
          ],
          [
           0.6666666666666666,
           "#ed7953"
          ],
          [
           0.7777777777777778,
           "#fb9f3a"
          ],
          [
           0.8888888888888888,
           "#fdca26"
          ],
          [
           1,
           "#f0f921"
          ]
         ]
        },
        "height": 500,
        "legend": {
         "itemsizing": "constant",
         "tracegroupgap": 0
        },
        "scene": {
         "domain": {
          "x": [
           0,
           1
          ],
          "y": [
           0,
           1
          ]
         },
         "xaxis": {
          "title": {
           "text": "PC1"
          }
         },
         "yaxis": {
          "title": {
           "text": "PC2"
          }
         },
         "zaxis": {
          "title": {
           "text": "PC3"
          }
         }
        },
        "template": {
         "data": {
          "bar": [
           {
            "error_x": {
             "color": "#2a3f5f"
            },
            "error_y": {
             "color": "#2a3f5f"
            },
            "marker": {
             "line": {
              "color": "#E5ECF6",
              "width": 0.5
             },
             "pattern": {
              "fillmode": "overlay",
              "size": 10,
              "solidity": 0.2
             }
            },
            "type": "bar"
           }
          ],
          "barpolar": [
           {
            "marker": {
             "line": {
              "color": "#E5ECF6",
              "width": 0.5
             },
             "pattern": {
              "fillmode": "overlay",
              "size": 10,
              "solidity": 0.2
             }
            },
            "type": "barpolar"
           }
          ],
          "carpet": [
           {
            "aaxis": {
             "endlinecolor": "#2a3f5f",
             "gridcolor": "white",
             "linecolor": "white",
             "minorgridcolor": "white",
             "startlinecolor": "#2a3f5f"
            },
            "baxis": {
             "endlinecolor": "#2a3f5f",
             "gridcolor": "white",
             "linecolor": "white",
             "minorgridcolor": "white",
             "startlinecolor": "#2a3f5f"
            },
            "type": "carpet"
           }
          ],
          "choropleth": [
           {
            "colorbar": {
             "outlinewidth": 0,
             "ticks": ""
            },
            "type": "choropleth"
           }
          ],
          "contour": [
           {
            "colorbar": {
             "outlinewidth": 0,
             "ticks": ""
            },
            "colorscale": [
             [
              0,
              "#0d0887"
             ],
             [
              0.1111111111111111,
              "#46039f"
             ],
             [
              0.2222222222222222,
              "#7201a8"
             ],
             [
              0.3333333333333333,
              "#9c179e"
             ],
             [
              0.4444444444444444,
              "#bd3786"
             ],
             [
              0.5555555555555556,
              "#d8576b"
             ],
             [
              0.6666666666666666,
              "#ed7953"
             ],
             [
              0.7777777777777778,
              "#fb9f3a"
             ],
             [
              0.8888888888888888,
              "#fdca26"
             ],
             [
              1,
              "#f0f921"
             ]
            ],
            "type": "contour"
           }
          ],
          "contourcarpet": [
           {
            "colorbar": {
             "outlinewidth": 0,
             "ticks": ""
            },
            "type": "contourcarpet"
           }
          ],
          "heatmap": [
           {
            "colorbar": {
             "outlinewidth": 0,
             "ticks": ""
            },
            "colorscale": [
             [
              0,
              "#0d0887"
             ],
             [
              0.1111111111111111,
              "#46039f"
             ],
             [
              0.2222222222222222,
              "#7201a8"
             ],
             [
              0.3333333333333333,
              "#9c179e"
             ],
             [
              0.4444444444444444,
              "#bd3786"
             ],
             [
              0.5555555555555556,
              "#d8576b"
             ],
             [
              0.6666666666666666,
              "#ed7953"
             ],
             [
              0.7777777777777778,
              "#fb9f3a"
             ],
             [
              0.8888888888888888,
              "#fdca26"
             ],
             [
              1,
              "#f0f921"
             ]
            ],
            "type": "heatmap"
           }
          ],
          "heatmapgl": [
           {
            "colorbar": {
             "outlinewidth": 0,
             "ticks": ""
            },
            "colorscale": [
             [
              0,
              "#0d0887"
             ],
             [
              0.1111111111111111,
              "#46039f"
             ],
             [
              0.2222222222222222,
              "#7201a8"
             ],
             [
              0.3333333333333333,
              "#9c179e"
             ],
             [
              0.4444444444444444,
              "#bd3786"
             ],
             [
              0.5555555555555556,
              "#d8576b"
             ],
             [
              0.6666666666666666,
              "#ed7953"
             ],
             [
              0.7777777777777778,
              "#fb9f3a"
             ],
             [
              0.8888888888888888,
              "#fdca26"
             ],
             [
              1,
              "#f0f921"
             ]
            ],
            "type": "heatmapgl"
           }
          ],
          "histogram": [
           {
            "marker": {
             "pattern": {
              "fillmode": "overlay",
              "size": 10,
              "solidity": 0.2
             }
            },
            "type": "histogram"
           }
          ],
          "histogram2d": [
           {
            "colorbar": {
             "outlinewidth": 0,
             "ticks": ""
            },
            "colorscale": [
             [
              0,
              "#0d0887"
             ],
             [
              0.1111111111111111,
              "#46039f"
             ],
             [
              0.2222222222222222,
              "#7201a8"
             ],
             [
              0.3333333333333333,
              "#9c179e"
             ],
             [
              0.4444444444444444,
              "#bd3786"
             ],
             [
              0.5555555555555556,
              "#d8576b"
             ],
             [
              0.6666666666666666,
              "#ed7953"
             ],
             [
              0.7777777777777778,
              "#fb9f3a"
             ],
             [
              0.8888888888888888,
              "#fdca26"
             ],
             [
              1,
              "#f0f921"
             ]
            ],
            "type": "histogram2d"
           }
          ],
          "histogram2dcontour": [
           {
            "colorbar": {
             "outlinewidth": 0,
             "ticks": ""
            },
            "colorscale": [
             [
              0,
              "#0d0887"
             ],
             [
              0.1111111111111111,
              "#46039f"
             ],
             [
              0.2222222222222222,
              "#7201a8"
             ],
             [
              0.3333333333333333,
              "#9c179e"
             ],
             [
              0.4444444444444444,
              "#bd3786"
             ],
             [
              0.5555555555555556,
              "#d8576b"
             ],
             [
              0.6666666666666666,
              "#ed7953"
             ],
             [
              0.7777777777777778,
              "#fb9f3a"
             ],
             [
              0.8888888888888888,
              "#fdca26"
             ],
             [
              1,
              "#f0f921"
             ]
            ],
            "type": "histogram2dcontour"
           }
          ],
          "mesh3d": [
           {
            "colorbar": {
             "outlinewidth": 0,
             "ticks": ""
            },
            "type": "mesh3d"
           }
          ],
          "parcoords": [
           {
            "line": {
             "colorbar": {
              "outlinewidth": 0,
              "ticks": ""
             }
            },
            "type": "parcoords"
           }
          ],
          "pie": [
           {
            "automargin": true,
            "type": "pie"
           }
          ],
          "scatter": [
           {
            "fillpattern": {
             "fillmode": "overlay",
             "size": 10,
             "solidity": 0.2
            },
            "type": "scatter"
           }
          ],
          "scatter3d": [
           {
            "line": {
             "colorbar": {
              "outlinewidth": 0,
              "ticks": ""
             }
            },
            "marker": {
             "colorbar": {
              "outlinewidth": 0,
              "ticks": ""
             }
            },
            "type": "scatter3d"
           }
          ],
          "scattercarpet": [
           {
            "marker": {
             "colorbar": {
              "outlinewidth": 0,
              "ticks": ""
             }
            },
            "type": "scattercarpet"
           }
          ],
          "scattergeo": [
           {
            "marker": {
             "colorbar": {
              "outlinewidth": 0,
              "ticks": ""
             }
            },
            "type": "scattergeo"
           }
          ],
          "scattergl": [
           {
            "marker": {
             "colorbar": {
              "outlinewidth": 0,
              "ticks": ""
             }
            },
            "type": "scattergl"
           }
          ],
          "scattermapbox": [
           {
            "marker": {
             "colorbar": {
              "outlinewidth": 0,
              "ticks": ""
             }
            },
            "type": "scattermapbox"
           }
          ],
          "scatterpolar": [
           {
            "marker": {
             "colorbar": {
              "outlinewidth": 0,
              "ticks": ""
             }
            },
            "type": "scatterpolar"
           }
          ],
          "scatterpolargl": [
           {
            "marker": {
             "colorbar": {
              "outlinewidth": 0,
              "ticks": ""
             }
            },
            "type": "scatterpolargl"
           }
          ],
          "scatterternary": [
           {
            "marker": {
             "colorbar": {
              "outlinewidth": 0,
              "ticks": ""
             }
            },
            "type": "scatterternary"
           }
          ],
          "surface": [
           {
            "colorbar": {
             "outlinewidth": 0,
             "ticks": ""
            },
            "colorscale": [
             [
              0,
              "#0d0887"
             ],
             [
              0.1111111111111111,
              "#46039f"
             ],
             [
              0.2222222222222222,
              "#7201a8"
             ],
             [
              0.3333333333333333,
              "#9c179e"
             ],
             [
              0.4444444444444444,
              "#bd3786"
             ],
             [
              0.5555555555555556,
              "#d8576b"
             ],
             [
              0.6666666666666666,
              "#ed7953"
             ],
             [
              0.7777777777777778,
              "#fb9f3a"
             ],
             [
              0.8888888888888888,
              "#fdca26"
             ],
             [
              1,
              "#f0f921"
             ]
            ],
            "type": "surface"
           }
          ],
          "table": [
           {
            "cells": {
             "fill": {
              "color": "#EBF0F8"
             },
             "line": {
              "color": "white"
             }
            },
            "header": {
             "fill": {
              "color": "#C8D4E3"
             },
             "line": {
              "color": "white"
             }
            },
            "type": "table"
           }
          ]
         },
         "layout": {
          "annotationdefaults": {
           "arrowcolor": "#2a3f5f",
           "arrowhead": 0,
           "arrowwidth": 1
          },
          "autotypenumbers": "strict",
          "coloraxis": {
           "colorbar": {
            "outlinewidth": 0,
            "ticks": ""
           }
          },
          "colorscale": {
           "diverging": [
            [
             0,
             "#8e0152"
            ],
            [
             0.1,
             "#c51b7d"
            ],
            [
             0.2,
             "#de77ae"
            ],
            [
             0.3,
             "#f1b6da"
            ],
            [
             0.4,
             "#fde0ef"
            ],
            [
             0.5,
             "#f7f7f7"
            ],
            [
             0.6,
             "#e6f5d0"
            ],
            [
             0.7,
             "#b8e186"
            ],
            [
             0.8,
             "#7fbc41"
            ],
            [
             0.9,
             "#4d9221"
            ],
            [
             1,
             "#276419"
            ]
           ],
           "sequential": [
            [
             0,
             "#0d0887"
            ],
            [
             0.1111111111111111,
             "#46039f"
            ],
            [
             0.2222222222222222,
             "#7201a8"
            ],
            [
             0.3333333333333333,
             "#9c179e"
            ],
            [
             0.4444444444444444,
             "#bd3786"
            ],
            [
             0.5555555555555556,
             "#d8576b"
            ],
            [
             0.6666666666666666,
             "#ed7953"
            ],
            [
             0.7777777777777778,
             "#fb9f3a"
            ],
            [
             0.8888888888888888,
             "#fdca26"
            ],
            [
             1,
             "#f0f921"
            ]
           ],
           "sequentialminus": [
            [
             0,
             "#0d0887"
            ],
            [
             0.1111111111111111,
             "#46039f"
            ],
            [
             0.2222222222222222,
             "#7201a8"
            ],
            [
             0.3333333333333333,
             "#9c179e"
            ],
            [
             0.4444444444444444,
             "#bd3786"
            ],
            [
             0.5555555555555556,
             "#d8576b"
            ],
            [
             0.6666666666666666,
             "#ed7953"
            ],
            [
             0.7777777777777778,
             "#fb9f3a"
            ],
            [
             0.8888888888888888,
             "#fdca26"
            ],
            [
             1,
             "#f0f921"
            ]
           ]
          },
          "colorway": [
           "#636efa",
           "#EF553B",
           "#00cc96",
           "#ab63fa",
           "#FFA15A",
           "#19d3f3",
           "#FF6692",
           "#B6E880",
           "#FF97FF",
           "#FECB52"
          ],
          "font": {
           "color": "#2a3f5f"
          },
          "geo": {
           "bgcolor": "white",
           "lakecolor": "white",
           "landcolor": "#E5ECF6",
           "showlakes": true,
           "showland": true,
           "subunitcolor": "white"
          },
          "hoverlabel": {
           "align": "left"
          },
          "hovermode": "closest",
          "mapbox": {
           "style": "light"
          },
          "paper_bgcolor": "white",
          "plot_bgcolor": "#E5ECF6",
          "polar": {
           "angularaxis": {
            "gridcolor": "white",
            "linecolor": "white",
            "ticks": ""
           },
           "bgcolor": "#E5ECF6",
           "radialaxis": {
            "gridcolor": "white",
            "linecolor": "white",
            "ticks": ""
           }
          },
          "scene": {
           "xaxis": {
            "backgroundcolor": "#E5ECF6",
            "gridcolor": "white",
            "gridwidth": 2,
            "linecolor": "white",
            "showbackground": true,
            "ticks": "",
            "zerolinecolor": "white"
           },
           "yaxis": {
            "backgroundcolor": "#E5ECF6",
            "gridcolor": "white",
            "gridwidth": 2,
            "linecolor": "white",
            "showbackground": true,
            "ticks": "",
            "zerolinecolor": "white"
           },
           "zaxis": {
            "backgroundcolor": "#E5ECF6",
            "gridcolor": "white",
            "gridwidth": 2,
            "linecolor": "white",
            "showbackground": true,
            "ticks": "",
            "zerolinecolor": "white"
           }
          },
          "shapedefaults": {
           "line": {
            "color": "#2a3f5f"
           }
          },
          "ternary": {
           "aaxis": {
            "gridcolor": "white",
            "linecolor": "white",
            "ticks": ""
           },
           "baxis": {
            "gridcolor": "white",
            "linecolor": "white",
            "ticks": ""
           },
           "bgcolor": "#E5ECF6",
           "caxis": {
            "gridcolor": "white",
            "linecolor": "white",
            "ticks": ""
           }
          },
          "title": {
           "x": 0.05
          },
          "xaxis": {
           "automargin": true,
           "gridcolor": "white",
           "linecolor": "white",
           "ticks": "",
           "title": {
            "standoff": 15
           },
           "zerolinecolor": "white",
           "zerolinewidth": 2
          },
          "yaxis": {
           "automargin": true,
           "gridcolor": "white",
           "linecolor": "white",
           "ticks": "",
           "title": {
            "standoff": 15
           },
           "zerolinecolor": "white",
           "zerolinewidth": 2
          }
         }
        },
        "title": {
         "text": "PCA plot in 3D"
        },
        "width": 650
       }
      }
     },
     "metadata": {},
     "output_type": "display_data"
    }
   ],
   "source": [
    "pca = PCA(n_components=3)\n",
    "components = pca.fit_transform(X)\n",
    "\n",
    "#3D scatterplot\n",
    "fig = px.scatter_3d(components, \n",
    "                    x=0, y=1, z=2 , \n",
    "                    color = clusters , \n",
    "                    size= 0.1*np.ones(len(X)),\n",
    "                    opacity=1,\n",
    "                    title = 'PCA plot in 3D',\n",
    "                    labels = {'0': 'PC1', '1':'PC2', '2':'PC3'},\n",
    "                    width = 650, height=500)\n",
    "fig.show()"
   ]
  },
  {
   "cell_type": "markdown",
   "metadata": {},
   "source": [
    "Expained variance"
   ]
  },
  {
   "cell_type": "code",
   "execution_count": 70,
   "metadata": {},
   "outputs": [
    {
     "data": {
      "image/png": "[encoded data removed]",
      "text/plain": [
       "<Figure size 1000x500 with 1 Axes>"
      ]
     },
     "metadata": {},
     "output_type": "display_data"
    }
   ],
   "source": [
    "pca_var = PCA()\n",
    "pca_var.fit(X)\n",
    "\n",
    "plt.figure(figsize=(10,5))\n",
    "xi = np.arange(1, 1+X.shape[1], step=1)\n",
    "yi = np.cumsum(pca_var.explained_variance_ratio_)\n",
    "plt.plot(xi, yi, marker='o', linestyle='--', color='b')\n",
    "\n",
    "plt.ylim(0.0, 1.1)\n",
    "plt.xlabel('Number of Components')\n",
    "plt.xticks(np.arange(1,1+X.shape[1],step=1))\n",
    "plt.ylabel('Cumulative variance (%)')\n",
    "plt.title('Expained variance by each component')\n",
    "plt.axhline(y=1, color='r', linestyle='-')\n",
    "plt.gca().xaxis.grid(False)\n"
   ]
  },
  {
   "cell_type": "markdown",
   "metadata": {},
   "source": [
    "## t-SNE"
   ]
  },
  {
   "cell_type": "code",
   "execution_count": 87,
   "metadata": {},
   "outputs": [
    {
     "name": "stderr",
     "output_type": "stream",
     "text": [
      "/opt/homebrew/Caskroom/miniconda/base/envs/yeardream/lib/python3.9/site-packages/sklearn/manifold/_t_sne.py:780: FutureWarning:\n",
      "\n",
      "The default initialization in TSNE will change from 'random' to 'pca' in 1.2.\n",
      "\n",
      "/opt/homebrew/Caskroom/miniconda/base/envs/yeardream/lib/python3.9/site-packages/sklearn/manifold/_t_sne.py:790: FutureWarning:\n",
      "\n",
      "The default learning rate in TSNE will change from 200.0 to 'auto' in 1.2.\n",
      "\n"
     ]
    },
    {
     "data": {
      "text/html": [
       "<div>\n",
       "<style scoped>\n",
       "    .dataframe tbody tr th:only-of-type {\n",
       "        vertical-align: middle;\n",
       "    }\n",
       "\n",
       "    .dataframe tbody tr th {\n",
       "        vertical-align: top;\n",
       "    }\n",
       "\n",
       "    .dataframe thead th {\n",
       "        text-align: right;\n",
       "    }\n",
       "</style>\n",
       "<table border=\"1\" class=\"dataframe\">\n",
       "  <thead>\n",
       "    <tr style=\"text-align: right;\">\n",
       "      <th></th>\n",
       "      <th>tsne comp. 1</th>\n",
       "      <th>tsne com. 2</th>\n",
       "    </tr>\n",
       "  </thead>\n",
       "  <tbody>\n",
       "    <tr>\n",
       "      <th>0</th>\n",
       "      <td>6.231440</td>\n",
       "      <td>9.185243</td>\n",
       "    </tr>\n",
       "    <tr>\n",
       "      <th>1</th>\n",
       "      <td>5.949075</td>\n",
       "      <td>5.231297</td>\n",
       "    </tr>\n",
       "    <tr>\n",
       "      <th>2</th>\n",
       "      <td>10.000048</td>\n",
       "      <td>6.711629</td>\n",
       "    </tr>\n",
       "    <tr>\n",
       "      <th>3</th>\n",
       "      <td>8.636070</td>\n",
       "      <td>9.517121</td>\n",
       "    </tr>\n",
       "    <tr>\n",
       "      <th>4</th>\n",
       "      <td>10.289110</td>\n",
       "      <td>2.633103</td>\n",
       "    </tr>\n",
       "  </tbody>\n",
       "</table>\n",
       "</div>"
      ],
      "text/plain": [
       "   tsne comp. 1  tsne com. 2\n",
       "0      6.231440     9.185243\n",
       "1      5.949075     5.231297\n",
       "2     10.000048     6.711629\n",
       "3      8.636070     9.517121\n",
       "4     10.289110     2.633103"
      ]
     },
     "execution_count": 87,
     "metadata": {},
     "output_type": "execute_result"
    }
   ],
   "source": [
    "# t-SNE\n",
    "tsne = TSNE(n_components=2)  #PCA와 API는 같지만 , 이미 존재하는 Principle Compnent 차원에 대해서 2개만을 표현하는것과 2차원을 목표로 projection하는 차이가 있음\n",
    "X_tsne = tsne.fit_transform(X)\n",
    "\n",
    "tsne_df = pd.DataFrame(data = X_tsne, columns=['tsne comp. 1', 'tsne com. 2'])\n",
    "tsne_df.head()"
   ]
  },
  {
   "cell_type": "markdown",
   "metadata": {},
   "source": [
    "t-SNE plot in 2D coloured by class using K-means\n",
    "- 매번마다 다른 plot이 생성됨(stochastic method)"
   ]
  },
  {
   "cell_type": "code",
   "execution_count": 126,
   "metadata": {},
   "outputs": [
    {
     "data": {
      "image/png": "[encoded data removed]",
      "text/plain": [
       "<Figure size 800x600 with 1 Axes>"
      ]
     },
     "metadata": {},
     "output_type": "display_data"
    }
   ],
   "source": [
    "plt.figure(figsize=(8,6))\n",
    "plt.scatter(tsne_df.iloc[:,0], tsne_df.iloc[:,1], c=clusters, cmap='brg', s=40)\n",
    "\n",
    "plt.title('t-SNE plot in 2D')\n",
    "plt.xlabel('tsne component 1')\n",
    "plt.ylabel('tsne component 2')\n",
    "plt.show()"
   ]
  },
  {
   "cell_type": "code",
   "execution_count": null,
   "metadata": {},
   "outputs": [],
   "source": [
    "plt.figure(figsize=(8,6))\n",
    "plt.scatter(tsne_df.iloc[:,0], tsne_df.iloc[:,1], c=clusters, cmap='brg', s=40)\n",
    "plt.scatter()\n",
    "\n",
    "plt.title('t-SNE plot in 2D')\n",
    "plt.xlabel('tsne component 1')\n",
    "plt.ylabel('tsne component 2')\n",
    "plt.show()"
   ]
  },
  {
   "cell_type": "markdown",
   "metadata": {},
   "source": [
    "t-SNE plot in 3D"
   ]
  },
  {
   "cell_type": "code",
   "execution_count": 91,
   "metadata": {},
   "outputs": [
    {
     "name": "stderr",
     "output_type": "stream",
     "text": [
      "/opt/homebrew/Caskroom/miniconda/base/envs/yeardream/lib/python3.9/site-packages/sklearn/manifold/_t_sne.py:780: FutureWarning:\n",
      "\n",
      "The default initialization in TSNE will change from 'random' to 'pca' in 1.2.\n",
      "\n",
      "/opt/homebrew/Caskroom/miniconda/base/envs/yeardream/lib/python3.9/site-packages/sklearn/manifold/_t_sne.py:790: FutureWarning:\n",
      "\n",
      "The default learning rate in TSNE will change from 200.0 to 'auto' in 1.2.\n",
      "\n"
     ]
    },
    {
     "data": {
      "application/vnd.plotly.v1+json": {
       "config": {
        "plotlyServerURL": "https://plot.ly"
       },
       "data": [
        {
         "hovertemplate": "comp. 1=%{x}<br>comp. 2=%{y}<br>comp. 3=%{z}<br>size=%{marker.size}<br>color=%{marker.color}<extra></extra>",
         "legendgroup": "",
         "marker": {
          "color": [
           2,
           2,
           2,
           2,
           2,
           2,
           2,
           2,
           2,
           2,
           2,
           2,
           2,
           2,
           2,
           2,
           2,
           2,
           2,
           2,
           2,
           2,
           2,
           2,
           2,
           2,
           2,
           2,
           2,
           2,
           2,
           2,
           2,
           2,
           2,
           2,
           2,
           2,
           2,
           2,
           2,
           2,
           2,
           2,
           2,
           2,
           2,
           2,
           2,
           2,
           2,
           2,
           2,
           2,
           2,
           2,
           2,
           2,
           2,
           1,
           1,
           0,
           1,
           1,
           1,
           1,
           1,
           1,
           1,
           1,
           1,
           1,
           1,
           2,
           1,
           1,
           1,
           1,
           1,
           1,
           1,
           1,
           1,
           0,
           1,
           1,
           1,
           1,
           1,
           1,
           1,
           1,
           1,
           1,
           1,
           2,
           1,
           1,
           1,
           1,
           1,
           1,
           1,
           1,
           1,
           1,
           1,
           1,
           1,
           1,
           1,
           1,
           1,
           1,
           1,
           1,
           1,
           1,
           0,
           1,
           1,
           2,
           1,
           1,
           1,
           1,
           1,
           1,
           1,
           1,
           0,
           0,
           0,
           0,
           0,
           0,
           0,
           0,
           0,
           0,
           0,
           0,
           0,
           0,
           0,
           0,
           0,
           0,
           0,
           0,
           0,
           0,
           0,
           0,
           0,
           0,
           0,
           0,
           0,
           0,
           0,
           0,
           0,
           0,
           0,
           0,
           0,
           0,
           0,
           0,
           0,
           0,
           0,
           0,
           0,
           0,
           0,
           0
          ],
          "coloraxis": "coloraxis",
          "opacity": 1,
          "size": [
           0.1,
           0.1,
           0.1,
           0.1,
           0.1,
           0.1,
           0.1,
           0.1,
           0.1,
           0.1,
           0.1,
           0.1,
           0.1,
           0.1,
           0.1,
           0.1,
           0.1,
           0.1,
           0.1,
           0.1,
           0.1,
           0.1,
           0.1,
           0.1,
           0.1,
           0.1,
           0.1,
           0.1,
           0.1,
           0.1,
           0.1,
           0.1,
           0.1,
           0.1,
           0.1,
           0.1,
           0.1,
           0.1,
           0.1,
           0.1,
           0.1,
           0.1,
           0.1,
           0.1,
           0.1,
           0.1,
           0.1,
           0.1,
           0.1,
           0.1,
           0.1,
           0.1,
           0.1,
           0.1,
           0.1,
           0.1,
           0.1,
           0.1,
           0.1,
           0.1,
           0.1,
           0.1,
           0.1,
           0.1,
           0.1,
           0.1,
           0.1,
           0.1,
           0.1,
           0.1,
           0.1,
           0.1,
           0.1,
           0.1,
           0.1,
           0.1,
           0.1,
           0.1,
           0.1,
           0.1,
           0.1,
           0.1,
           0.1,
           0.1,
           0.1,
           0.1,
           0.1,
           0.1,
           0.1,
           0.1,
           0.1,
           0.1,
           0.1,
           0.1,
           0.1,
           0.1,
           0.1,
           0.1,
           0.1,
           0.1,
           0.1,
           0.1,
           0.1,
           0.1,
           0.1,
           0.1,
           0.1,
           0.1,
           0.1,
           0.1,
           0.1,
           0.1,
           0.1,
           0.1,
           0.1,
           0.1,
           0.1,
           0.1,
           0.1,
           0.1,
           0.1,
           0.1,
           0.1,
           0.1,
           0.1,
           0.1,
           0.1,
           0.1,
           0.1,
           0.1,
           0.1,
           0.1,
           0.1,
           0.1,
           0.1,
           0.1,
           0.1,
           0.1,
           0.1,
           0.1,
           0.1,
           0.1,
           0.1,
           0.1,
           0.1,
           0.1,
           0.1,
           0.1,
           0.1,
           0.1,
           0.1,
           0.1,
           0.1,
           0.1,
           0.1,
           0.1,
           0.1,
           0.1,
           0.1,
           0.1,
           0.1,
           0.1,
           0.1,
           0.1,
           0.1,
           0.1,
           0.1,
           0.1,
           0.1,
           0.1,
           0.1,
           0.1,
           0.1,
           0.1,
           0.1,
           0.1,
           0.1,
           0.1
          ],
          "sizemode": "area",
          "sizeref": 0.00025,
          "symbol": "circle"
         },
         "mode": "markers",
         "name": "",
         "scene": "scene",
         "showlegend": false,
         "type": "scatter3d",
         "x": [
          105.00048065185547,
          71.28857421875,
          12.614397048950195,
          106.11515045166016,
          -39.55378723144531,
          114.83647918701172,
          69.63939666748047,
          105.78704833984375,
          83.20066833496094,
          67.18849182128906,
          123.96715545654297,
          85.55766296386719,
          114.05862426757812,
          106.9598617553711,
          137.2361602783203,
          151.23477172851562,
          -2.469068765640259,
          54.470123291015625,
          152.03285217285156,
          104.50655364990234,
          67.53555297851562,
          -15.779090881347656,
          72.32527923583984,
          103.71292114257812,
          108.04248809814453,
          -141.03208923339844,
          23.945106506347656,
          24.999582290649414,
          107.50582885742188,
          0.8265027403831482,
          7.413012981414795,
          53.645172119140625,
          50.391788482666016,
          -72.29045867919922,
          81.87638092041016,
          35.3703498840332,
          -52.455902099609375,
          79.97028350830078,
          69.5684585571289,
          28.004636764526367,
          44.08494186401367,
          19.35862159729004,
          52.83986282348633,
          79.65247344970703,
          31.075525283813477,
          -15.895434379577637,
          55.238765716552734,
          61.32202911376953,
          -42.54973602294922,
          117.64120483398438,
          120.14380645751953,
          -9.814831733703613,
          75.69483947753906,
          111.51191711425781,
          69.59368896484375,
          -57.25810241699219,
          82.4181137084961,
          48.875247955322266,
          131.06497192382812,
          67.02696990966797,
          -123.20867156982422,
          -110.48870849609375,
          -131.6837921142578,
          39.71521759033203,
          -30.413772583007812,
          98.42475128173828,
          94.56230163574219,
          27.135068893432617,
          106.76069641113281,
          -8.633352279663086,
          10.294529914855957,
          -104.13751220703125,
          -120.47028350830078,
          -53.02297592163086,
          11.853569030761719,
          21.088605880737305,
          -80.27516174316406,
          6.969724178314209,
          16.78519630432129,
          -42.88715362548828,
          -170.27334594726562,
          50.21531677246094,
          -69.09188842773438,
          -159.98609924316406,
          -10.168586730957031,
          -37.929874420166016,
          -44.30671691894531,
          -36.64210510253906,
          -79.7079849243164,
          -54.87179946899414,
          -74.3136978149414,
          -75.03424072265625,
          -35.226966857910156,
          89.85627746582031,
          39.67654037475586,
          46.549991607666016,
          56.35053634643555,
          32.380672454833984,
          54.23135757446289,
          -59.7047233581543,
          -9.709541320800781,
          -133.7737274169922,
          67.22703552246094,
          2.379974126815796,
          7.648715496063232,
          -1.9035357236862183,
          -2.6298716068267822,
          -41.473209381103516,
          -20.772653579711914,
          -8.047104835510254,
          18.768098831176758,
          33.20151138305664,
          -84.88113403320312,
          -57.558650970458984,
          -30.334556579589844,
          11.462700843811035,
          17.09193992614746,
          -35.641239166259766,
          -16.00188636779785,
          30.131301879882812,
          9.498784065246582,
          -53.97118377685547,
          23.63990020751953,
          -13.700632095336914,
          151.09698486328125,
          -50.46516799926758,
          -36.317081451416016,
          -107.39742279052734,
          -30.099409103393555,
          -72.32648468017578,
          44.62396240234375,
          -124.03011322021484,
          5.076010704040527,
          42.73047637939453,
          -70.90190124511719,
          -68.51322174072266,
          -80.67803955078125,
          38.270408630371094,
          -86.6212387084961,
          -85.71627807617188,
          -100.97300720214844,
          -70.91635131835938,
          -120.9891128540039,
          -139.93006896972656,
          -8.280613899230957,
          -0.6464460492134094,
          -107.06660461425781,
          -98.45072937011719,
          -169.05258178710938,
          33.2779541015625,
          27.62127685546875,
          -9.25014877319336,
          -51.28947448730469,
          -51.67159652709961,
          166.3948516845703,
          143.3023681640625,
          -72.25313568115234,
          -103.0900650024414,
          -108.94396209716797,
          -94.72702026367188,
          -130.13409423828125,
          -35.709110260009766,
          -86.6409912109375,
          -56.93806838989258,
          -109.63557434082031,
          -133.65084838867188,
          -3.474841594696045,
          -23.175355911254883,
          -55.361663818359375,
          -21.529029846191406,
          -85.7486801147461,
          -26.27787971496582,
          164.95252990722656,
          -114.03063201904297,
          -64.08154296875,
          -11.68857192993164,
          -47.583065032958984,
          -41.86111068725586
         ],
         "y": [
          -11.591858863830566,
          -71.33557891845703,
          18.836029052734375,
          -99.71865844726562,
          15.528595924377441,
          -76.82421875,
          67.40242767333984,
          4.3562750816345215,
          -99.64283752441406,
          -81.77159118652344,
          -36.697357177734375,
          -33.55113983154297,
          -17.860103607177734,
          -135.78053283691406,
          -113.25399017333984,
          0.19928421080112457,
          -26.80747413635254,
          132.1549530029297,
          -57.63642883300781,
          116.93962860107422,
          -12.48377799987793,
          -120.87814331054688,
          29.476377487182617,
          39.38045120239258,
          36.21022033691406,
          -86.959228515625,
          -81.80944061279297,
          49.26815414428711,
          19.782194137573242,
          -68.42398834228516,
          -18.0140323638916,
          0.9800360202789307,
          -9.410396575927734,
          -69.00413513183594,
          5.257481098175049,
          4.453557968139648,
          -10.646358489990234,
          15.315447807312012,
          -33.491355895996094,
          -155.54559326171875,
          -39.27297592163086,
          -38.795684814453125,
          -88.2594985961914,
          69.46050262451172,
          -84.5057601928711,
          -75.53890228271484,
          -134.00473022460938,
          -66.45735168457031,
          95.70954132080078,
          -57.97520065307617,
          -124.86360931396484,
          -72.98819732666016,
          -120.13394165039062,
          62.2025032043457,
          -45.51324462890625,
          134.7384490966797,
          -43.09011459350586,
          34.818603515625,
          -74.54344177246094,
          19.218780517578125,
          -82.2295913696289,
          123.76312255859375,
          -2.4935247898101807,
          -49.400917053222656,
          31.814210891723633,
          -35.862510681152344,
          -111.7098617553711,
          -26.296798706054688,
          125.83700561523438,
          -87.50311279296875,
          61.05607223510742,
          18.293317794799805,
          8.759393692016602,
          -30.64563751220703,
          -138.3092803955078,
          21.311437606811523,
          -3.044369697570801,
          37.872337341308594,
          -100.57698822021484,
          -140.55885314941406,
          -26.864778518676758,
          -30.95795440673828,
          -2.678410768508911,
          7.682602882385254,
          -114.37385559082031,
          -23.51640510559082,
          7.514894008636475,
          1.547170877456665,
          -9.362022399902344,
          -38.4926872253418,
          32.116268157958984,
          -43.46574020385742,
          64.14550018310547,
          116.11701202392578,
          -90.47358703613281,
          -86.57734680175781,
          53.289066314697266,
          104.19196319580078,
          -129.14271545410156,
          -123.12626647949219,
          -0.6156095266342163,
          38.3654670715332,
          79.63198852539062,
          -9.758142471313477,
          -44.072853088378906,
          14.271166801452637,
          -26.536008834838867,
          39.71097946166992,
          -59.253257751464844,
          6.0188727378845215,
          -148.728271484375,
          128.16734313964844,
          42.76304244995117,
          -32.78959274291992,
          -29.646507263183594,
          95.0934829711914,
          -45.83183288574219,
          -3.85939359664917,
          155.49691772460938,
          0.030130984261631966,
          -93.16767883300781,
          49.21467208862305,
          120.68698120117188,
          -45.25345993041992,
          60.12464904785156,
          65.7115249633789,
          -96.5901107788086,
          -41.49447250366211,
          -63.06766891479492,
          -65.4151611328125,
          89.1314468383789,
          -33.93559265136719,
          55.91842269897461,
          92.3785400390625,
          -49.61339569091797,
          126.90127563476562,
          13.765558242797852,
          24.924592971801758,
          -111.37451171875,
          -92.75601959228516,
          -27.826824188232422,
          80.53094482421875,
          -36.54155731201172,
          -2.416807174682617,
          93.2486801147461,
          70.56917572021484,
          19.392087936401367,
          59.42023849487305,
          209.74351501464844,
          85.39302825927734,
          140.98187255859375,
          143.3936309814453,
          102.66619110107422,
          158.94290161132812,
          40.2088737487793,
          97.95108795166016,
          40.257850646972656,
          103.82274627685547,
          154.92242431640625,
          145.18223571777344,
          84.14474487304688,
          45.466278076171875,
          -97.07988739013672,
          62.128360748291016,
          95.89202880859375,
          33.8831787109375,
          95.88365173339844,
          134.919921875,
          122.72041320800781,
          117.35343170166016,
          80.28195190429688,
          21.738845825195312,
          1.8633712530136108,
          40.96044921875,
          84.4207763671875,
          124.9149398803711,
          116.8954849243164,
          69.45490264892578
         ],
         "z": [
          -89.07679748535156,
          14.739826202392578,
          -100.05056762695312,
          -111.4726333618164,
          -112.85626983642578,
          -58.76656723022461,
          -66.49598693847656,
          -133.06033325195312,
          -26.184171676635742,
          -71.02396392822266,
          -41.97673416137695,
          -12.797094345092773,
          3.532506227493286,
          -52.811378479003906,
          -63.61369323730469,
          -41.9495849609375,
          -86.3284683227539,
          -8.995645523071289,
          -70.67823791503906,
          56.138511657714844,
          -87.85095977783203,
          -66.16686248779297,
          -80.61441040039062,
          -22.84384536743164,
          -59.63152313232422,
          -40.39909362792969,
          -84.99884796142578,
          -140.66787719726562,
          38.404945373535156,
          -49.18799591064453,
          -126.16364288330078,
          -132.8764190673828,
          -11.555904388427734,
          -127.96217346191406,
          -37.09795379638672,
          -60.16016387939453,
          -149.0956268310547,
          0.889782190322876,
          28.031707763671875,
          -61.71955490112305,
          -67.37873077392578,
          -20.905818939208984,
          -116.5855941772461,
          119.24945831298828,
          -27.83224868774414,
          -161.03077697753906,
          -31.16583824157715,
          -38.78004455566406,
          -57.202857971191406,
          -96.77650451660156,
          -2.7281038761138916,
          -110.41661834716797,
          -90.4879150390625,
          52.027713775634766,
          -110.15814971923828,
          -64.5465087890625,
          -70.65388488769531,
          -31.05270004272461,
          -15.419642448425293,
          98.76940155029297,
          21.62629508972168,
          -30.10716438293457,
          -8.797065734863281,
          -167.27809143066406,
          17.697185516357422,
          70.38726806640625,
          48.248958587646484,
          114.26789855957031,
          -0.6336758732795715,
          114.6557846069336,
          12.738313674926758,
          -120.79603576660156,
          -61.56440734863281,
          -102.47975158691406,
          10.78073787689209,
          85.56236267089844,
          147.72457885742188,
          46.91973114013672,
          128.0037078857422,
          -26.207435607910156,
          -25.434017181396484,
          73.24185943603516,
          -42.35917282104492,
          40.13565444946289,
          55.16856384277344,
          77.29766082763672,
          -7.857935905456543,
          -57.84632873535156,
          -2.8770205974578857,
          -50.702903747558594,
          -8.391690254211426,
          -12.863044738769531,
          -13.510292053222656,
          -71.34339904785156,
          62.03849411010742,
          121.45994567871094,
          42.08402633666992,
          123.21662139892578,
          30.517797470092773,
          100.76393127441406,
          108.20573425292969,
          -25.02424430847168,
          -14.196141242980957,
          59.990962982177734,
          83.79688262939453,
          -19.726163864135742,
          20.19308853149414,
          -36.580345153808594,
          49.88638687133789,
          -177.6756591796875,
          86.98789978027344,
          -57.61113739013672,
          -64.91310119628906,
          20.809720993041992,
          -19.73929214477539,
          -22.505268096923828,
          46.060462951660156,
          41.24131393432617,
          -16.231937408447266,
          32.21162033081055,
          18.478607177734375,
          -153.30555725097656,
          -140.16539001464844,
          161.75965881347656,
          11.0391263961792,
          -97.52222442626953,
          17.222522735595703,
          -42.10391616821289,
          0.2565510869026184,
          62.07779312133789,
          30.162601470947266,
          -94.16500091552734,
          -52.24153518676758,
          71.3064193725586,
          120.31014251708984,
          -5.622752666473389,
          72.69559478759766,
          154.3592987060547,
          47.05455780029297,
          -52.83659362792969,
          74.03236389160156,
          15.401269912719727,
          43.855125427246094,
          85.6720962524414,
          52.075218200683594,
          90.29191589355469,
          36.55436706542969,
          69.44469451904297,
          177.00958251953125,
          -97.72977447509766,
          64.26567077636719,
          78.62368774414062,
          154.7018280029297,
          36.8463249206543,
          -84.43579864501953,
          -34.43209457397461,
          114.03952026367188,
          111.61466217041016,
          35.55836486816406,
          63.195587158203125,
          72.15953826904297,
          75.7642593383789,
          -13.156524658203125,
          44.79458236694336,
          30.01302719116211,
          63.982398986816406,
          -81.18478393554688,
          -102.18761444091797,
          94.73355102539062,
          121.69755554199219,
          -19.73787498474121,
          155.409423828125,
          37.47732925415039,
          105.11619567871094,
          85.11418151855469,
          25.28612518310547,
          43.75346374511719,
          121.54039001464844
         ]
        }
       ],
       "layout": {
        "coloraxis": {
         "colorbar": {
          "title": {
           "text": "color"
          }
         },
         "colorscale": [
          [
           0,
           "#0d0887"
          ],
          [
           0.1111111111111111,
           "#46039f"
          ],
          [
           0.2222222222222222,
           "#7201a8"
          ],
          [
           0.3333333333333333,
           "#9c179e"
          ],
          [
           0.4444444444444444,
           "#bd3786"
          ],
          [
           0.5555555555555556,
           "#d8576b"
          ],
          [
           0.6666666666666666,
           "#ed7953"
          ],
          [
           0.7777777777777778,
           "#fb9f3a"
          ],
          [
           0.8888888888888888,
           "#fdca26"
          ],
          [
           1,
           "#f0f921"
          ]
         ]
        },
        "height": 500,
        "legend": {
         "itemsizing": "constant",
         "tracegroupgap": 0
        },
        "scene": {
         "domain": {
          "x": [
           0,
           1
          ],
          "y": [
           0,
           1
          ]
         },
         "xaxis": {
          "title": {
           "text": "comp. 1"
          }
         },
         "yaxis": {
          "title": {
           "text": "comp. 2"
          }
         },
         "zaxis": {
          "title": {
           "text": "comp. 3"
          }
         }
        },
        "template": {
         "data": {
          "bar": [
           {
            "error_x": {
             "color": "#2a3f5f"
            },
            "error_y": {
             "color": "#2a3f5f"
            },
            "marker": {
             "line": {
              "color": "#E5ECF6",
              "width": 0.5
             },
             "pattern": {
              "fillmode": "overlay",
              "size": 10,
              "solidity": 0.2
             }
            },
            "type": "bar"
           }
          ],
          "barpolar": [
           {
            "marker": {
             "line": {
              "color": "#E5ECF6",
              "width": 0.5
             },
             "pattern": {
              "fillmode": "overlay",
              "size": 10,
              "solidity": 0.2
             }
            },
            "type": "barpolar"
           }
          ],
          "carpet": [
           {
            "aaxis": {
             "endlinecolor": "#2a3f5f",
             "gridcolor": "white",
             "linecolor": "white",
             "minorgridcolor": "white",
             "startlinecolor": "#2a3f5f"
            },
            "baxis": {
             "endlinecolor": "#2a3f5f",
             "gridcolor": "white",
             "linecolor": "white",
             "minorgridcolor": "white",
             "startlinecolor": "#2a3f5f"
            },
            "type": "carpet"
           }
          ],
          "choropleth": [
           {
            "colorbar": {
             "outlinewidth": 0,
             "ticks": ""
            },
            "type": "choropleth"
           }
          ],
          "contour": [
           {
            "colorbar": {
             "outlinewidth": 0,
             "ticks": ""
            },
            "colorscale": [
             [
              0,
              "#0d0887"
             ],
             [
              0.1111111111111111,
              "#46039f"
             ],
             [
              0.2222222222222222,
              "#7201a8"
             ],
             [
              0.3333333333333333,
              "#9c179e"
             ],
             [
              0.4444444444444444,
              "#bd3786"
             ],
             [
              0.5555555555555556,
              "#d8576b"
             ],
             [
              0.6666666666666666,
              "#ed7953"
             ],
             [
              0.7777777777777778,
              "#fb9f3a"
             ],
             [
              0.8888888888888888,
              "#fdca26"
             ],
             [
              1,
              "#f0f921"
             ]
            ],
            "type": "contour"
           }
          ],
          "contourcarpet": [
           {
            "colorbar": {
             "outlinewidth": 0,
             "ticks": ""
            },
            "type": "contourcarpet"
           }
          ],
          "heatmap": [
           {
            "colorbar": {
             "outlinewidth": 0,
             "ticks": ""
            },
            "colorscale": [
             [
              0,
              "#0d0887"
             ],
             [
              0.1111111111111111,
              "#46039f"
             ],
             [
              0.2222222222222222,
              "#7201a8"
             ],
             [
              0.3333333333333333,
              "#9c179e"
             ],
             [
              0.4444444444444444,
              "#bd3786"
             ],
             [
              0.5555555555555556,
              "#d8576b"
             ],
             [
              0.6666666666666666,
              "#ed7953"
             ],
             [
              0.7777777777777778,
              "#fb9f3a"
             ],
             [
              0.8888888888888888,
              "#fdca26"
             ],
             [
              1,
              "#f0f921"
             ]
            ],
            "type": "heatmap"
           }
          ],
          "heatmapgl": [
           {
            "colorbar": {
             "outlinewidth": 0,
             "ticks": ""
            },
            "colorscale": [
             [
              0,
              "#0d0887"
             ],
             [
              0.1111111111111111,
              "#46039f"
             ],
             [
              0.2222222222222222,
              "#7201a8"
             ],
             [
              0.3333333333333333,
              "#9c179e"
             ],
             [
              0.4444444444444444,
              "#bd3786"
             ],
             [
              0.5555555555555556,
              "#d8576b"
             ],
             [
              0.6666666666666666,
              "#ed7953"
             ],
             [
              0.7777777777777778,
              "#fb9f3a"
             ],
             [
              0.8888888888888888,
              "#fdca26"
             ],
             [
              1,
              "#f0f921"
             ]
            ],
            "type": "heatmapgl"
           }
          ],
          "histogram": [
           {
            "marker": {
             "pattern": {
              "fillmode": "overlay",
              "size": 10,
              "solidity": 0.2
             }
            },
            "type": "histogram"
           }
          ],
          "histogram2d": [
           {
            "colorbar": {
             "outlinewidth": 0,
             "ticks": ""
            },
            "colorscale": [
             [
              0,
              "#0d0887"
             ],
             [
              0.1111111111111111,
              "#46039f"
             ],
             [
              0.2222222222222222,
              "#7201a8"
             ],
             [
              0.3333333333333333,
              "#9c179e"
             ],
             [
              0.4444444444444444,
              "#bd3786"
             ],
             [
              0.5555555555555556,
              "#d8576b"
             ],
             [
              0.6666666666666666,
              "#ed7953"
             ],
             [
              0.7777777777777778,
              "#fb9f3a"
             ],
             [
              0.8888888888888888,
              "#fdca26"
             ],
             [
              1,
              "#f0f921"
             ]
            ],
            "type": "histogram2d"
           }
          ],
          "histogram2dcontour": [
           {
            "colorbar": {
             "outlinewidth": 0,
             "ticks": ""
            },
            "colorscale": [
             [
              0,
              "#0d0887"
             ],
             [
              0.1111111111111111,
              "#46039f"
             ],
             [
              0.2222222222222222,
              "#7201a8"
             ],
             [
              0.3333333333333333,
              "#9c179e"
             ],
             [
              0.4444444444444444,
              "#bd3786"
             ],
             [
              0.5555555555555556,
              "#d8576b"
             ],
             [
              0.6666666666666666,
              "#ed7953"
             ],
             [
              0.7777777777777778,
              "#fb9f3a"
             ],
             [
              0.8888888888888888,
              "#fdca26"
             ],
             [
              1,
              "#f0f921"
             ]
            ],
            "type": "histogram2dcontour"
           }
          ],
          "mesh3d": [
           {
            "colorbar": {
             "outlinewidth": 0,
             "ticks": ""
            },
            "type": "mesh3d"
           }
          ],
          "parcoords": [
           {
            "line": {
             "colorbar": {
              "outlinewidth": 0,
              "ticks": ""
             }
            },
            "type": "parcoords"
           }
          ],
          "pie": [
           {
            "automargin": true,
            "type": "pie"
           }
          ],
          "scatter": [
           {
            "fillpattern": {
             "fillmode": "overlay",
             "size": 10,
             "solidity": 0.2
            },
            "type": "scatter"
           }
          ],
          "scatter3d": [
           {
            "line": {
             "colorbar": {
              "outlinewidth": 0,
              "ticks": ""
             }
            },
            "marker": {
             "colorbar": {
              "outlinewidth": 0,
              "ticks": ""
             }
            },
            "type": "scatter3d"
           }
          ],
          "scattercarpet": [
           {
            "marker": {
             "colorbar": {
              "outlinewidth": 0,
              "ticks": ""
             }
            },
            "type": "scattercarpet"
           }
          ],
          "scattergeo": [
           {
            "marker": {
             "colorbar": {
              "outlinewidth": 0,
              "ticks": ""
             }
            },
            "type": "scattergeo"
           }
          ],
          "scattergl": [
           {
            "marker": {
             "colorbar": {
              "outlinewidth": 0,
              "ticks": ""
             }
            },
            "type": "scattergl"
           }
          ],
          "scattermapbox": [
           {
            "marker": {
             "colorbar": {
              "outlinewidth": 0,
              "ticks": ""
             }
            },
            "type": "scattermapbox"
           }
          ],
          "scatterpolar": [
           {
            "marker": {
             "colorbar": {
              "outlinewidth": 0,
              "ticks": ""
             }
            },
            "type": "scatterpolar"
           }
          ],
          "scatterpolargl": [
           {
            "marker": {
             "colorbar": {
              "outlinewidth": 0,
              "ticks": ""
             }
            },
            "type": "scatterpolargl"
           }
          ],
          "scatterternary": [
           {
            "marker": {
             "colorbar": {
              "outlinewidth": 0,
              "ticks": ""
             }
            },
            "type": "scatterternary"
           }
          ],
          "surface": [
           {
            "colorbar": {
             "outlinewidth": 0,
             "ticks": ""
            },
            "colorscale": [
             [
              0,
              "#0d0887"
             ],
             [
              0.1111111111111111,
              "#46039f"
             ],
             [
              0.2222222222222222,
              "#7201a8"
             ],
             [
              0.3333333333333333,
              "#9c179e"
             ],
             [
              0.4444444444444444,
              "#bd3786"
             ],
             [
              0.5555555555555556,
              "#d8576b"
             ],
             [
              0.6666666666666666,
              "#ed7953"
             ],
             [
              0.7777777777777778,
              "#fb9f3a"
             ],
             [
              0.8888888888888888,
              "#fdca26"
             ],
             [
              1,
              "#f0f921"
             ]
            ],
            "type": "surface"
           }
          ],
          "table": [
           {
            "cells": {
             "fill": {
              "color": "#EBF0F8"
             },
             "line": {
              "color": "white"
             }
            },
            "header": {
             "fill": {
              "color": "#C8D4E3"
             },
             "line": {
              "color": "white"
             }
            },
            "type": "table"
           }
          ]
         },
         "layout": {
          "annotationdefaults": {
           "arrowcolor": "#2a3f5f",
           "arrowhead": 0,
           "arrowwidth": 1
          },
          "autotypenumbers": "strict",
          "coloraxis": {
           "colorbar": {
            "outlinewidth": 0,
            "ticks": ""
           }
          },
          "colorscale": {
           "diverging": [
            [
             0,
             "#8e0152"
            ],
            [
             0.1,
             "#c51b7d"
            ],
            [
             0.2,
             "#de77ae"
            ],
            [
             0.3,
             "#f1b6da"
            ],
            [
             0.4,
             "#fde0ef"
            ],
            [
             0.5,
             "#f7f7f7"
            ],
            [
             0.6,
             "#e6f5d0"
            ],
            [
             0.7,
             "#b8e186"
            ],
            [
             0.8,
             "#7fbc41"
            ],
            [
             0.9,
             "#4d9221"
            ],
            [
             1,
             "#276419"
            ]
           ],
           "sequential": [
            [
             0,
             "#0d0887"
            ],
            [
             0.1111111111111111,
             "#46039f"
            ],
            [
             0.2222222222222222,
             "#7201a8"
            ],
            [
             0.3333333333333333,
             "#9c179e"
            ],
            [
             0.4444444444444444,
             "#bd3786"
            ],
            [
             0.5555555555555556,
             "#d8576b"
            ],
            [
             0.6666666666666666,
             "#ed7953"
            ],
            [
             0.7777777777777778,
             "#fb9f3a"
            ],
            [
             0.8888888888888888,
             "#fdca26"
            ],
            [
             1,
             "#f0f921"
            ]
           ],
           "sequentialminus": [
            [
             0,
             "#0d0887"
            ],
            [
             0.1111111111111111,
             "#46039f"
            ],
            [
             0.2222222222222222,
             "#7201a8"
            ],
            [
             0.3333333333333333,
             "#9c179e"
            ],
            [
             0.4444444444444444,
             "#bd3786"
            ],
            [
             0.5555555555555556,
             "#d8576b"
            ],
            [
             0.6666666666666666,
             "#ed7953"
            ],
            [
             0.7777777777777778,
             "#fb9f3a"
            ],
            [
             0.8888888888888888,
             "#fdca26"
            ],
            [
             1,
             "#f0f921"
            ]
           ]
          },
          "colorway": [
           "#636efa",
           "#EF553B",
           "#00cc96",
           "#ab63fa",
           "#FFA15A",
           "#19d3f3",
           "#FF6692",
           "#B6E880",
           "#FF97FF",
           "#FECB52"
          ],
          "font": {
           "color": "#2a3f5f"
          },
          "geo": {
           "bgcolor": "white",
           "lakecolor": "white",
           "landcolor": "#E5ECF6",
           "showlakes": true,
           "showland": true,
           "subunitcolor": "white"
          },
          "hoverlabel": {
           "align": "left"
          },
          "hovermode": "closest",
          "mapbox": {
           "style": "light"
          },
          "paper_bgcolor": "white",
          "plot_bgcolor": "#E5ECF6",
          "polar": {
           "angularaxis": {
            "gridcolor": "white",
            "linecolor": "white",
            "ticks": ""
           },
           "bgcolor": "#E5ECF6",
           "radialaxis": {
            "gridcolor": "white",
            "linecolor": "white",
            "ticks": ""
           }
          },
          "scene": {
           "xaxis": {
            "backgroundcolor": "#E5ECF6",
            "gridcolor": "white",
            "gridwidth": 2,
            "linecolor": "white",
            "showbackground": true,
            "ticks": "",
            "zerolinecolor": "white"
           },
           "yaxis": {
            "backgroundcolor": "#E5ECF6",
            "gridcolor": "white",
            "gridwidth": 2,
            "linecolor": "white",
            "showbackground": true,
            "ticks": "",
            "zerolinecolor": "white"
           },
           "zaxis": {
            "backgroundcolor": "#E5ECF6",
            "gridcolor": "white",
            "gridwidth": 2,
            "linecolor": "white",
            "showbackground": true,
            "ticks": "",
            "zerolinecolor": "white"
           }
          },
          "shapedefaults": {
           "line": {
            "color": "#2a3f5f"
           }
          },
          "ternary": {
           "aaxis": {
            "gridcolor": "white",
            "linecolor": "white",
            "ticks": ""
           },
           "baxis": {
            "gridcolor": "white",
            "linecolor": "white",
            "ticks": ""
           },
           "bgcolor": "#E5ECF6",
           "caxis": {
            "gridcolor": "white",
            "linecolor": "white",
            "ticks": ""
           }
          },
          "title": {
           "x": 0.05
          },
          "xaxis": {
           "automargin": true,
           "gridcolor": "white",
           "linecolor": "white",
           "ticks": "",
           "title": {
            "standoff": 15
           },
           "zerolinecolor": "white",
           "zerolinewidth": 2
          },
          "yaxis": {
           "automargin": true,
           "gridcolor": "white",
           "linecolor": "white",
           "ticks": "",
           "title": {
            "standoff": 15
           },
           "zerolinecolor": "white",
           "zerolinewidth": 2
          }
         }
        },
        "title": {
         "text": "t-SNE plot in 3D"
        },
        "width": 650
       }
      }
     },
     "metadata": {},
     "output_type": "display_data"
    }
   ],
   "source": [
    "tsne = TSNE(n_components=3)\n",
    "components_tsne = tsne.fit_transform(X)\n",
    "\n",
    "#3D scatterplot\n",
    "fig = px.scatter_3d(components_tsne, x=0, y=1, z=2, color=clusters, \n",
    "                    size= 0.1*np.ones(len(X)), opacity=1,\n",
    "                    title='t-SNE plot in 3D',\n",
    "                    labels = {'0': 'comp. 1', '1': 'comp. 2', '2': 'comp. 3'},\n",
    "                    width = 650, height=500)\n",
    "fig.show()\n"
   ]
  },
  {
   "cell_type": "markdown",
   "metadata": {},
   "source": [
    "## UMAP\n",
    "(Uniform Manifold Approximation and Proejection for demensionality reduction)\n",
    "- t-SNE보다 global structure를 더 잘 보존하는 경향"
   ]
  },
  {
   "cell_type": "code",
   "execution_count": 110,
   "metadata": {},
   "outputs": [
    {
     "name": "stderr",
     "output_type": "stream",
     "text": [
      "OMP: Info #276: omp_set_nested routine deprecated, please use omp_set_max_active_levels instead.\n"
     ]
    },
    {
     "data": {
      "text/html": [
       "<div>\n",
       "<style scoped>\n",
       "    .dataframe tbody tr th:only-of-type {\n",
       "        vertical-align: middle;\n",
       "    }\n",
       "\n",
       "    .dataframe tbody tr th {\n",
       "        vertical-align: top;\n",
       "    }\n",
       "\n",
       "    .dataframe thead th {\n",
       "        text-align: right;\n",
       "    }\n",
       "</style>\n",
       "<table border=\"1\" class=\"dataframe\">\n",
       "  <thead>\n",
       "    <tr style=\"text-align: right;\">\n",
       "      <th></th>\n",
       "      <th>umap comp.1</th>\n",
       "      <th>umap comp.2</th>\n",
       "    </tr>\n",
       "  </thead>\n",
       "  <tbody>\n",
       "    <tr>\n",
       "      <th>0</th>\n",
       "      <td>13.369818</td>\n",
       "      <td>4.392301</td>\n",
       "    </tr>\n",
       "    <tr>\n",
       "      <th>1</th>\n",
       "      <td>13.432783</td>\n",
       "      <td>5.659607</td>\n",
       "    </tr>\n",
       "    <tr>\n",
       "      <th>2</th>\n",
       "      <td>14.696325</td>\n",
       "      <td>5.811215</td>\n",
       "    </tr>\n",
       "    <tr>\n",
       "      <th>3</th>\n",
       "      <td>14.748272</td>\n",
       "      <td>4.725739</td>\n",
       "    </tr>\n",
       "    <tr>\n",
       "      <th>4</th>\n",
       "      <td>14.204013</td>\n",
       "      <td>6.909851</td>\n",
       "    </tr>\n",
       "  </tbody>\n",
       "</table>\n",
       "</div>"
      ],
      "text/plain": [
       "   umap comp.1  umap comp.2\n",
       "0    13.369818     4.392301\n",
       "1    13.432783     5.659607\n",
       "2    14.696325     5.811215\n",
       "3    14.748272     4.725739\n",
       "4    14.204013     6.909851"
      ]
     },
     "execution_count": 110,
     "metadata": {},
     "output_type": "execute_result"
    }
   ],
   "source": [
    "reducer = umap.umap_.UMAP()\n",
    "X_fit = reducer.fit(X)\n",
    "X_umap = reducer.transform(X)\n",
    "\n",
    "umap_df = pd.DataFrame(data= X_umap, columns = ['umap comp.1', 'umap comp.2'])\n",
    "umap_df.head()"
   ]
  },
  {
   "cell_type": "markdown",
   "metadata": {},
   "source": [
    "UMAP plot in 2D coloured by clusters"
   ]
  },
  {
   "cell_type": "code",
   "execution_count": 117,
   "metadata": {},
   "outputs": [
    {
     "data": {
      "image/png": "[encoded data removed]",
      "text/plain": [
       "<Figure size 800x600 with 1 Axes>"
      ]
     },
     "metadata": {},
     "output_type": "display_data"
    }
   ],
   "source": [
    "plt.figure(figsize=(8,6))\n",
    "plt.scatter(umap_df.iloc[:,0], umap_df.iloc[:,1], c=clusters, cmap=\"brg\", s=40)\n",
    "\n",
    "centroids_umap = reducer.transform(centroids)\n",
    "plt.scatter(x=centroids_umap[:,0], y=centroids_umap[:,1], marker='x', s=500, linewidth=3, color='black')\n",
    "plt.title('UMAP plot in 2D')\n",
    "plt.xlabel('umap component 1')\n",
    "plt.ylabel('umap component 2')\n",
    "plt.show()"
   ]
  },
  {
   "cell_type": "markdown",
   "metadata": {},
   "source": [
    "UMAP plot in 3D"
   ]
  },
  {
   "cell_type": "code",
   "execution_count": 132,
   "metadata": {},
   "outputs": [
    {
     "data": {
      "application/vnd.plotly.v1+json": {
       "config": {
        "plotlyServerURL": "https://plot.ly"
       },
       "data": [
        {
         "hovertemplate": "comp. 1=%{x}<br>comp. 2=%{y}<br>comp. 3=%{z}<br>size=%{marker.size}<br>color=%{marker.color}<extra></extra>",
         "legendgroup": "",
         "marker": {
          "color": [
           2,
           2,
           2,
           2,
           2,
           2,
           2,
           2,
           2,
           2,
           2,
           2,
           2,
           2,
           2,
           2,
           2,
           2,
           2,
           2,
           2,
           2,
           2,
           2,
           2,
           2,
           2,
           2,
           2,
           2,
           2,
           2,
           2,
           2,
           2,
           2,
           2,
           2,
           2,
           2,
           2,
           2,
           2,
           2,
           2,
           2,
           2,
           2,
           2,
           2,
           2,
           2,
           2,
           2,
           2,
           2,
           2,
           2,
           2,
           1,
           1,
           0,
           1,
           1,
           1,
           1,
           1,
           1,
           1,
           1,
           1,
           1,
           1,
           2,
           1,
           1,
           1,
           1,
           1,
           1,
           1,
           1,
           1,
           0,
           1,
           1,
           1,
           1,
           1,
           1,
           1,
           1,
           1,
           1,
           1,
           2,
           1,
           1,
           1,
           1,
           1,
           1,
           1,
           1,
           1,
           1,
           1,
           1,
           1,
           1,
           1,
           1,
           1,
           1,
           1,
           1,
           1,
           1,
           0,
           1,
           1,
           2,
           1,
           1,
           1,
           1,
           1,
           1,
           1,
           1,
           0,
           0,
           0,
           0,
           0,
           0,
           0,
           0,
           0,
           0,
           0,
           0,
           0,
           0,
           0,
           0,
           0,
           0,
           0,
           0,
           0,
           0,
           0,
           0,
           0,
           0,
           0,
           0,
           0,
           0,
           0,
           0,
           0,
           0,
           0,
           0,
           0,
           0,
           0,
           0,
           0,
           0,
           0,
           0,
           0,
           0,
           0,
           0
          ],
          "coloraxis": "coloraxis",
          "opacity": 1,
          "size": [
           0.1,
           0.1,
           0.1,
           0.1,
           0.1,
           0.1,
           0.1,
           0.1,
           0.1,
           0.1,
           0.1,
           0.1,
           0.1,
           0.1,
           0.1,
           0.1,
           0.1,
           0.1,
           0.1,
           0.1,
           0.1,
           0.1,
           0.1,
           0.1,
           0.1,
           0.1,
           0.1,
           0.1,
           0.1,
           0.1,
           0.1,
           0.1,
           0.1,
           0.1,
           0.1,
           0.1,
           0.1,
           0.1,
           0.1,
           0.1,
           0.1,
           0.1,
           0.1,
           0.1,
           0.1,
           0.1,
           0.1,
           0.1,
           0.1,
           0.1,
           0.1,
           0.1,
           0.1,
           0.1,
           0.1,
           0.1,
           0.1,
           0.1,
           0.1,
           0.1,
           0.1,
           0.1,
           0.1,
           0.1,
           0.1,
           0.1,
           0.1,
           0.1,
           0.1,
           0.1,
           0.1,
           0.1,
           0.1,
           0.1,
           0.1,
           0.1,
           0.1,
           0.1,
           0.1,
           0.1,
           0.1,
           0.1,
           0.1,
           0.1,
           0.1,
           0.1,
           0.1,
           0.1,
           0.1,
           0.1,
           0.1,
           0.1,
           0.1,
           0.1,
           0.1,
           0.1,
           0.1,
           0.1,
           0.1,
           0.1,
           0.1,
           0.1,
           0.1,
           0.1,
           0.1,
           0.1,
           0.1,
           0.1,
           0.1,
           0.1,
           0.1,
           0.1,
           0.1,
           0.1,
           0.1,
           0.1,
           0.1,
           0.1,
           0.1,
           0.1,
           0.1,
           0.1,
           0.1,
           0.1,
           0.1,
           0.1,
           0.1,
           0.1,
           0.1,
           0.1,
           0.1,
           0.1,
           0.1,
           0.1,
           0.1,
           0.1,
           0.1,
           0.1,
           0.1,
           0.1,
           0.1,
           0.1,
           0.1,
           0.1,
           0.1,
           0.1,
           0.1,
           0.1,
           0.1,
           0.1,
           0.1,
           0.1,
           0.1,
           0.1,
           0.1,
           0.1,
           0.1,
           0.1,
           0.1,
           0.1,
           0.1,
           0.1,
           0.1,
           0.1,
           0.1,
           0.1,
           0.1,
           0.1,
           0.1,
           0.1,
           0.1,
           0.1,
           0.1,
           0.1,
           0.1,
           0.1,
           0.1,
           0.1
          ],
          "sizemode": "area",
          "sizeref": 0.00025,
          "symbol": "circle"
         },
         "mode": "markers",
         "name": "",
         "scene": "scene",
         "showlegend": false,
         "type": "scatter3d",
         "x": [
          11.211627960205078,
          10.88326358795166,
          11.758073806762695,
          12.082627296447754,
          10.708575248718262,
          12.082856178283691,
          11.50135326385498,
          11.061976432800293,
          11.585911750793457,
          11.50117015838623,
          11.99549674987793,
          11.188169479370117,
          11.519061088562012,
          12.034202575683594,
          12.194809913635254,
          11.544221878051758,
          11.543057441711426,
          11.367143630981445,
          12.153914451599121,
          10.689957618713379,
          11.122293472290039,
          10.129088401794434,
          10.974557876586914,
          10.519729614257812,
          10.503838539123535,
          10.650484085083008,
          11.099555015563965,
          10.784078598022461,
          10.793892860412598,
          11.216464042663574,
          11.696255683898926,
          11.930608749389648,
          11.011298179626465,
          11.178145408630371,
          10.946742057800293,
          10.608834266662598,
          10.851394653320312,
          10.730161666870117,
          10.607758522033691,
          10.87730884552002,
          11.261414527893066,
          10.206384658813477,
          11.526785850524902,
          9.955902099609375,
          11.028495788574219,
          10.285094261169434,
          11.398566246032715,
          11.45545768737793,
          11.645533561706543,
          12.094992637634277,
          11.747502326965332,
          11.733911514282227,
          12.043191909790039,
          11.477383613586426,
          10.958361625671387,
          11.598079681396484,
          11.354363441467285,
          11.49242877960205,
          11.894244194030762,
          7.83674430847168,
          4.89781379699707,
          4.46901273727417,
          7.96276330947876,
          8.80300235748291,
          6.081129550933838,
          9.346351623535156,
          8.675288200378418,
          7.775247097015381,
          4.7578020095825195,
          10.332180976867676,
          5.363334655761719,
          10.200386047363281,
          7.451643943786621,
          10.70160961151123,
          8.774317741394043,
          7.641088485717773,
          7.973422050476074,
          5.463386058807373,
          10.262956619262695,
          7.788934230804443,
          8.032929420471191,
          8.348719596862793,
          6.498708248138428,
          3.13777232170105,
          8.402368545532227,
          8.12351131439209,
          6.39641809463501,
          6.4946393966674805,
          6.470634937286377,
          6.803545951843262,
          5.983954906463623,
          6.1897993087768555,
          5.908063888549805,
          8.252711296081543,
          8.443107604980469,
          10.465860366821289,
          3.9972031116485596,
          8.340714454650879,
          8.829294204711914,
          8.0652494430542,
          8.015870094299316,
          7.669882774353027,
          7.764400482177734,
          7.8547682762146,
          7.812755584716797,
          6.15903377532959,
          7.553185939788818,
          6.123538017272949,
          7.846728801727295,
          8.540715217590332,
          8.244172096252441,
          7.757863521575928,
          6.032446384429932,
          6.72697114944458,
          7.158441066741943,
          6.608773231506348,
          7.706202507019043,
          7.483689308166504,
          3.5377399921417236,
          7.685108661651611,
          8.187576293945312,
          10.335770606994629,
          7.241761684417725,
          8.185812950134277,
          8.223394393920898,
          7.777811050415039,
          7.8759684562683105,
          6.912759780883789,
          7.406322956085205,
          7.143124103546143,
          3.6321511268615723,
          3.4662327766418457,
          3.356729507446289,
          3.3873133659362793,
          3.961275100708008,
          3.49196720123291,
          2.8824098110198975,
          2.8848721981048584,
          3.2803287506103516,
          3.2688608169555664,
          3.432809352874756,
          3.3899292945861816,
          3.319361686706543,
          3.0443053245544434,
          3.1908109188079834,
          3.1451447010040283,
          2.8742122650146484,
          2.515573024749756,
          2.594782590866089,
          2.8974995613098145,
          2.809790849685669,
          2.838236093521118,
          2.810389518737793,
          2.4106037616729736,
          3.2967517375946045,
          2.331320285797119,
          2.307666778564453,
          3.0472006797790527,
          2.06347393989563,
          2.1298341751098633,
          2.582176685333252,
          3.2040905952453613,
          3.378957748413086,
          3.4213807582855225,
          2.4281179904937744,
          2.783224105834961,
          2.3130335807800293,
          2.6860883235931396,
          2.453578233718872,
          2.428030252456665,
          3.468621015548706,
          2.831292152404785,
          2.293994426727295,
          2.465662956237793,
          2.533172845840454,
          2.650730609893799,
          2.5545241832733154,
          2.2940871715545654
         ],
         "y": [
          5.2959303855896,
          6.584212779998779,
          5.866583347320557,
          5.06476354598999,
          6.013850688934326,
          5.235162258148193,
          6.32474946975708,
          5.571967601776123,
          6.134466648101807,
          5.808701038360596,
          5.77493143081665,
          6.620087146759033,
          6.393316745758057,
          5.695648193359375,
          5.505077838897705,
          5.5476179122924805,
          5.820530414581299,
          5.809265613555908,
          5.34178352355957,
          5.508457183837891,
          5.25936222076416,
          6.0034403800964355,
          6.316527366638184,
          6.530622482299805,
          6.247011661529541,
          5.921236515045166,
          6.276185989379883,
          6.689278602600098,
          6.054282188415527,
          6.242458343505859,
          5.886271953582764,
          5.628875732421875,
          6.503604412078857,
          5.756811141967773,
          6.15699577331543,
          6.158209800720215,
          6.3364105224609375,
          6.664561748504639,
          6.816945552825928,
          5.351315498352051,
          5.411355495452881,
          6.145873546600342,
          5.411693096160889,
          5.955528736114502,
          5.837764739990234,
          5.773208141326904,
          5.895885944366455,
          5.728967666625977,
          5.908880710601807,
          5.434077262878418,
          5.934535026550293,
          6.17914342880249,
          5.1270833015441895,
          5.602080821990967,
          5.575619697570801,
          5.671990871429443,
          5.427135944366455,
          5.744968414306641,
          5.250686168670654,
          8.307424545288086,
          9.027013778686523,
          9.195907592773438,
          8.429057121276855,
          7.577122688293457,
          8.67487621307373,
          7.176184177398682,
          7.711360931396484,
          8.150655746459961,
          9.139557838439941,
          5.653294086456299,
          9.05889892578125,
          6.20756196975708,
          8.170830726623535,
          5.878329277038574,
          7.647113800048828,
          8.459145545959473,
          8.26717472076416,
          8.945794105529785,
          5.730295181274414,
          7.540254592895508,
          7.889490127563477,
          7.478356838226318,
          8.718803405761719,
          10.234651565551758,
          7.858912944793701,
          7.733653545379639,
          8.680363655090332,
          8.548145294189453,
          8.517081260681152,
          8.559206008911133,
          8.815682411193848,
          8.68487548828125,
          8.807732582092285,
          7.738331317901611,
          7.767299652099609,
          5.558563709259033,
          9.713347434997559,
          7.8304123878479,
          7.612103462219238,
          7.561594486236572,
          8.015963554382324,
          8.375679969787598,
          8.025320053100586,
          8.438577651977539,
          8.088467597961426,
          8.587132453918457,
          8.187390327453613,
          8.678373336791992,
          8.293611526489258,
          7.6900482177734375,
          7.426205635070801,
          8.122342109680176,
          8.647497177124023,
          8.643237113952637,
          8.443879127502441,
          8.404298782348633,
          8.206899642944336,
          8.132746696472168,
          10.067395210266113,
          8.040653228759766,
          7.857140064239502,
          6.111499309539795,
          7.8082966804504395,
          7.202314376831055,
          7.489370346069336,
          8.30173397064209,
          8.318653106689453,
          8.204545021057129,
          8.35618782043457,
          7.85630989074707,
          9.936348915100098,
          10.104125022888184,
          10.040451049804688,
          10.004619598388672,
          9.331952095031738,
          9.485306739807129,
          10.502777099609375,
          10.637420654296875,
          10.11760139465332,
          10.798261642456055,
          10.691182136535645,
          10.371546745300293,
          10.606310844421387,
          10.237269401550293,
          9.997858047485352,
          10.24065113067627,
          10.114459037780762,
          10.163254737854004,
          10.015153884887695,
          9.979769706726074,
          10.177199363708496,
          10.057950973510742,
          10.202095985412598,
          9.82762622833252,
          9.494102478027344,
          10.393704414367676,
          10.056221961975098,
          10.82680606842041,
          10.063568115234375,
          9.955373764038086,
          9.91969108581543,
          10.586597442626953,
          10.643049240112305,
          10.21111011505127,
          9.732216835021973,
          10.23495101928711,
          10.149309158325195,
          9.617891311645508,
          10.305047035217285,
          10.29761028289795,
          9.926826477050781,
          9.545517921447754,
          9.82207202911377,
          10.300873756408691,
          10.334128379821777,
          9.936779975891113,
          9.88835620880127,
          10.289316177368164
         ],
         "z": [
          3.8515026569366455,
          4.179243087768555,
          4.897456169128418,
          4.89568567276001,
          5.620720863342285,
          5.082149505615234,
          4.33228063583374,
          5.377472877502441,
          3.949889659881592,
          4.15452241897583,
          4.747410297393799,
          4.49750280380249,
          4.548184394836426,
          4.385810375213623,
          4.609898567199707,
          5.692591667175293,
          5.5371246337890625,
          5.625697612762451,
          5.21193790435791,
          4.1630330085754395,
          3.9042961597442627,
          4.473109245300293,
          4.380472660064697,
          4.632671356201172,
          4.964260578155518,
          5.7779154777526855,
          4.94276762008667,
          4.437976837158203,
          5.507899284362793,
          4.13537073135376,
          5.194955825805664,
          5.043766975402832,
          4.8913373947143555,
          5.720510005950928,
          5.312870979309082,
          4.675111770629883,
          5.517440319061279,
          4.95525598526001,
          4.220148086547852,
          3.9584481716156006,
          3.8247625827789307,
          4.251980781555176,
          4.40731143951416,
          4.291109561920166,
          3.853247880935669,
          4.2752227783203125,
          3.7725982666015625,
          3.8929624557495117,
          4.867663860321045,
          4.916749477386475,
          4.090468883514404,
          4.658848285675049,
          4.8460798263549805,
          5.588006496429443,
          4.152896404266357,
          4.7970991134643555,
          4.03575325012207,
          5.369051933288574,
          4.730140686035156,
          3.3233988285064697,
          5.023120880126953,
          5.127704620361328,
          3.4584457874298096,
          4.019344329833984,
          4.875168323516846,
          4.740659713745117,
          3.814568281173706,
          3.6859922409057617,
          5.1121392250061035,
          3.238508462905884,
          4.326919078826904,
          5.133282661437988,
          4.360022068023682,
          5.624459743499756,
          4.299681663513184,
          3.5080604553222656,
          3.4115374088287354,
          4.594294548034668,
          3.2113418579101562,
          4.998493671417236,
          3.7516748905181885,
          3.9582672119140625,
          4.763235569000244,
          5.943868637084961,
          4.9215569496154785,
          3.920764684677124,
          4.789890289306641,
          4.915412425994873,
          4.600837230682373,
          4.638999938964844,
          4.420426845550537,
          4.466737270355225,
          4.319133281707764,
          4.306734085083008,
          4.196991920471191,
          3.3406600952148438,
          4.18972635269165,
          3.7420170307159424,
          3.9792873859405518,
          4.462451457977295,
          3.57566499710083,
          3.6324398517608643,
          5.03501033782959,
          4.196560859680176,
          3.9230337142944336,
          4.2752275466918945,
          4.060919284820557,
          4.346327304840088,
          4.300006866455078,
          4.948107719421387,
          4.8464250564575195,
          4.675110340118408,
          4.870692253112793,
          4.706297874450684,
          4.7748122215271,
          4.821802616119385,
          4.173080921173096,
          4.697107791900635,
          5.36844539642334,
          4.239598751068115,
          4.975847244262695,
          5.8090314865112305,
          5.07373046875,
          5.029054641723633,
          4.979222297668457,
          4.7947540283203125,
          4.9160261154174805,
          4.9518351554870605,
          4.872817516326904,
          4.8261260986328125,
          4.359951972961426,
          4.488465309143066,
          4.383265018463135,
          4.345703601837158,
          5.211392402648926,
          5.340127468109131,
          5.703872203826904,
          5.98818302154541,
          5.619307041168213,
          5.962752342224121,
          5.918557167053223,
          5.162258625030518,
          5.837862968444824,
          5.872621059417725,
          4.592897891998291,
          4.985565185546875,
          5.482157230377197,
          5.565431594848633,
          5.014159202575684,
          4.359517574310303,
          4.163410186767578,
          4.25998067855835,
          4.210836887359619,
          4.912605285644531,
          5.174663543701172,
          5.504438877105713,
          5.186388969421387,
          5.975726127624512,
          4.656283378601074,
          4.7945075035095215,
          5.4150800704956055,
          5.774299621582031,
          6.059263229370117,
          4.998225212097168,
          5.081613540649414,
          5.6460466384887695,
          4.408992290496826,
          5.12729024887085,
          4.483943462371826,
          4.4030985832214355,
          5.053451061248779,
          5.2290263175964355,
          5.051117897033691,
          5.5875244140625,
          4.894412517547607,
          4.610661029815674,
          4.624753952026367,
          4.853072643280029
         ]
        }
       ],
       "layout": {
        "coloraxis": {
         "colorbar": {
          "title": {
           "text": "color"
          }
         },
         "colorscale": [
          [
           0,
           "#0d0887"
          ],
          [
           0.1111111111111111,
           "#46039f"
          ],
          [
           0.2222222222222222,
           "#7201a8"
          ],
          [
           0.3333333333333333,
           "#9c179e"
          ],
          [
           0.4444444444444444,
           "#bd3786"
          ],
          [
           0.5555555555555556,
           "#d8576b"
          ],
          [
           0.6666666666666666,
           "#ed7953"
          ],
          [
           0.7777777777777778,
           "#fb9f3a"
          ],
          [
           0.8888888888888888,
           "#fdca26"
          ],
          [
           1,
           "#f0f921"
          ]
         ]
        },
        "legend": {
         "itemsizing": "constant",
         "tracegroupgap": 0
        },
        "scene": {
         "domain": {
          "x": [
           0,
           1
          ],
          "y": [
           0,
           1
          ]
         },
         "xaxis": {
          "title": {
           "text": "comp. 1"
          }
         },
         "yaxis": {
          "title": {
           "text": "comp. 2"
          }
         },
         "zaxis": {
          "title": {
           "text": "comp. 3"
          }
         }
        },
        "template": {
         "data": {
          "bar": [
           {
            "error_x": {
             "color": "#2a3f5f"
            },
            "error_y": {
             "color": "#2a3f5f"
            },
            "marker": {
             "line": {
              "color": "#E5ECF6",
              "width": 0.5
             },
             "pattern": {
              "fillmode": "overlay",
              "size": 10,
              "solidity": 0.2
             }
            },
            "type": "bar"
           }
          ],
          "barpolar": [
           {
            "marker": {
             "line": {
              "color": "#E5ECF6",
              "width": 0.5
             },
             "pattern": {
              "fillmode": "overlay",
              "size": 10,
              "solidity": 0.2
             }
            },
            "type": "barpolar"
           }
          ],
          "carpet": [
           {
            "aaxis": {
             "endlinecolor": "#2a3f5f",
             "gridcolor": "white",
             "linecolor": "white",
             "minorgridcolor": "white",
             "startlinecolor": "#2a3f5f"
            },
            "baxis": {
             "endlinecolor": "#2a3f5f",
             "gridcolor": "white",
             "linecolor": "white",
             "minorgridcolor": "white",
             "startlinecolor": "#2a3f5f"
            },
            "type": "carpet"
           }
          ],
          "choropleth": [
           {
            "colorbar": {
             "outlinewidth": 0,
             "ticks": ""
            },
            "type": "choropleth"
           }
          ],
          "contour": [
           {
            "colorbar": {
             "outlinewidth": 0,
             "ticks": ""
            },
            "colorscale": [
             [
              0,
              "#0d0887"
             ],
             [
              0.1111111111111111,
              "#46039f"
             ],
             [
              0.2222222222222222,
              "#7201a8"
             ],
             [
              0.3333333333333333,
              "#9c179e"
             ],
             [
              0.4444444444444444,
              "#bd3786"
             ],
             [
              0.5555555555555556,
              "#d8576b"
             ],
             [
              0.6666666666666666,
              "#ed7953"
             ],
             [
              0.7777777777777778,
              "#fb9f3a"
             ],
             [
              0.8888888888888888,
              "#fdca26"
             ],
             [
              1,
              "#f0f921"
             ]
            ],
            "type": "contour"
           }
          ],
          "contourcarpet": [
           {
            "colorbar": {
             "outlinewidth": 0,
             "ticks": ""
            },
            "type": "contourcarpet"
           }
          ],
          "heatmap": [
           {
            "colorbar": {
             "outlinewidth": 0,
             "ticks": ""
            },
            "colorscale": [
             [
              0,
              "#0d0887"
             ],
             [
              0.1111111111111111,
              "#46039f"
             ],
             [
              0.2222222222222222,
              "#7201a8"
             ],
             [
              0.3333333333333333,
              "#9c179e"
             ],
             [
              0.4444444444444444,
              "#bd3786"
             ],
             [
              0.5555555555555556,
              "#d8576b"
             ],
             [
              0.6666666666666666,
              "#ed7953"
             ],
             [
              0.7777777777777778,
              "#fb9f3a"
             ],
             [
              0.8888888888888888,
              "#fdca26"
             ],
             [
              1,
              "#f0f921"
             ]
            ],
            "type": "heatmap"
           }
          ],
          "heatmapgl": [
           {
            "colorbar": {
             "outlinewidth": 0,
             "ticks": ""
            },
            "colorscale": [
             [
              0,
              "#0d0887"
             ],
             [
              0.1111111111111111,
              "#46039f"
             ],
             [
              0.2222222222222222,
              "#7201a8"
             ],
             [
              0.3333333333333333,
              "#9c179e"
             ],
             [
              0.4444444444444444,
              "#bd3786"
             ],
             [
              0.5555555555555556,
              "#d8576b"
             ],
             [
              0.6666666666666666,
              "#ed7953"
             ],
             [
              0.7777777777777778,
              "#fb9f3a"
             ],
             [
              0.8888888888888888,
              "#fdca26"
             ],
             [
              1,
              "#f0f921"
             ]
            ],
            "type": "heatmapgl"
           }
          ],
          "histogram": [
           {
            "marker": {
             "pattern": {
              "fillmode": "overlay",
              "size": 10,
              "solidity": 0.2
             }
            },
            "type": "histogram"
           }
          ],
          "histogram2d": [
           {
            "colorbar": {
             "outlinewidth": 0,
             "ticks": ""
            },
            "colorscale": [
             [
              0,
              "#0d0887"
             ],
             [
              0.1111111111111111,
              "#46039f"
             ],
             [
              0.2222222222222222,
              "#7201a8"
             ],
             [
              0.3333333333333333,
              "#9c179e"
             ],
             [
              0.4444444444444444,
              "#bd3786"
             ],
             [
              0.5555555555555556,
              "#d8576b"
             ],
             [
              0.6666666666666666,
              "#ed7953"
             ],
             [
              0.7777777777777778,
              "#fb9f3a"
             ],
             [
              0.8888888888888888,
              "#fdca26"
             ],
             [
              1,
              "#f0f921"
             ]
            ],
            "type": "histogram2d"
           }
          ],
          "histogram2dcontour": [
           {
            "colorbar": {
             "outlinewidth": 0,
             "ticks": ""
            },
            "colorscale": [
             [
              0,
              "#0d0887"
             ],
             [
              0.1111111111111111,
              "#46039f"
             ],
             [
              0.2222222222222222,
              "#7201a8"
             ],
             [
              0.3333333333333333,
              "#9c179e"
             ],
             [
              0.4444444444444444,
              "#bd3786"
             ],
             [
              0.5555555555555556,
              "#d8576b"
             ],
             [
              0.6666666666666666,
              "#ed7953"
             ],
             [
              0.7777777777777778,
              "#fb9f3a"
             ],
             [
              0.8888888888888888,
              "#fdca26"
             ],
             [
              1,
              "#f0f921"
             ]
            ],
            "type": "histogram2dcontour"
           }
          ],
          "mesh3d": [
           {
            "colorbar": {
             "outlinewidth": 0,
             "ticks": ""
            },
            "type": "mesh3d"
           }
          ],
          "parcoords": [
           {
            "line": {
             "colorbar": {
              "outlinewidth": 0,
              "ticks": ""
             }
            },
            "type": "parcoords"
           }
          ],
          "pie": [
           {
            "automargin": true,
            "type": "pie"
           }
          ],
          "scatter": [
           {
            "fillpattern": {
             "fillmode": "overlay",
             "size": 10,
             "solidity": 0.2
            },
            "type": "scatter"
           }
          ],
          "scatter3d": [
           {
            "line": {
             "colorbar": {
              "outlinewidth": 0,
              "ticks": ""
             }
            },
            "marker": {
             "colorbar": {
              "outlinewidth": 0,
              "ticks": ""
             }
            },
            "type": "scatter3d"
           }
          ],
          "scattercarpet": [
           {
            "marker": {
             "colorbar": {
              "outlinewidth": 0,
              "ticks": ""
             }
            },
            "type": "scattercarpet"
           }
          ],
          "scattergeo": [
           {
            "marker": {
             "colorbar": {
              "outlinewidth": 0,
              "ticks": ""
             }
            },
            "type": "scattergeo"
           }
          ],
          "scattergl": [
           {
            "marker": {
             "colorbar": {
              "outlinewidth": 0,
              "ticks": ""
             }
            },
            "type": "scattergl"
           }
          ],
          "scattermapbox": [
           {
            "marker": {
             "colorbar": {
              "outlinewidth": 0,
              "ticks": ""
             }
            },
            "type": "scattermapbox"
           }
          ],
          "scatterpolar": [
           {
            "marker": {
             "colorbar": {
              "outlinewidth": 0,
              "ticks": ""
             }
            },
            "type": "scatterpolar"
           }
          ],
          "scatterpolargl": [
           {
            "marker": {
             "colorbar": {
              "outlinewidth": 0,
              "ticks": ""
             }
            },
            "type": "scatterpolargl"
           }
          ],
          "scatterternary": [
           {
            "marker": {
             "colorbar": {
              "outlinewidth": 0,
              "ticks": ""
             }
            },
            "type": "scatterternary"
           }
          ],
          "surface": [
           {
            "colorbar": {
             "outlinewidth": 0,
             "ticks": ""
            },
            "colorscale": [
             [
              0,
              "#0d0887"
             ],
             [
              0.1111111111111111,
              "#46039f"
             ],
             [
              0.2222222222222222,
              "#7201a8"
             ],
             [
              0.3333333333333333,
              "#9c179e"
             ],
             [
              0.4444444444444444,
              "#bd3786"
             ],
             [
              0.5555555555555556,
              "#d8576b"
             ],
             [
              0.6666666666666666,
              "#ed7953"
             ],
             [
              0.7777777777777778,
              "#fb9f3a"
             ],
             [
              0.8888888888888888,
              "#fdca26"
             ],
             [
              1,
              "#f0f921"
             ]
            ],
            "type": "surface"
           }
          ],
          "table": [
           {
            "cells": {
             "fill": {
              "color": "#EBF0F8"
             },
             "line": {
              "color": "white"
             }
            },
            "header": {
             "fill": {
              "color": "#C8D4E3"
             },
             "line": {
              "color": "white"
             }
            },
            "type": "table"
           }
          ]
         },
         "layout": {
          "annotationdefaults": {
           "arrowcolor": "#2a3f5f",
           "arrowhead": 0,
           "arrowwidth": 1
          },
          "autotypenumbers": "strict",
          "coloraxis": {
           "colorbar": {
            "outlinewidth": 0,
            "ticks": ""
           }
          },
          "colorscale": {
           "diverging": [
            [
             0,
             "#8e0152"
            ],
            [
             0.1,
             "#c51b7d"
            ],
            [
             0.2,
             "#de77ae"
            ],
            [
             0.3,
             "#f1b6da"
            ],
            [
             0.4,
             "#fde0ef"
            ],
            [
             0.5,
             "#f7f7f7"
            ],
            [
             0.6,
             "#e6f5d0"
            ],
            [
             0.7,
             "#b8e186"
            ],
            [
             0.8,
             "#7fbc41"
            ],
            [
             0.9,
             "#4d9221"
            ],
            [
             1,
             "#276419"
            ]
           ],
           "sequential": [
            [
             0,
             "#0d0887"
            ],
            [
             0.1111111111111111,
             "#46039f"
            ],
            [
             0.2222222222222222,
             "#7201a8"
            ],
            [
             0.3333333333333333,
             "#9c179e"
            ],
            [
             0.4444444444444444,
             "#bd3786"
            ],
            [
             0.5555555555555556,
             "#d8576b"
            ],
            [
             0.6666666666666666,
             "#ed7953"
            ],
            [
             0.7777777777777778,
             "#fb9f3a"
            ],
            [
             0.8888888888888888,
             "#fdca26"
            ],
            [
             1,
             "#f0f921"
            ]
           ],
           "sequentialminus": [
            [
             0,
             "#0d0887"
            ],
            [
             0.1111111111111111,
             "#46039f"
            ],
            [
             0.2222222222222222,
             "#7201a8"
            ],
            [
             0.3333333333333333,
             "#9c179e"
            ],
            [
             0.4444444444444444,
             "#bd3786"
            ],
            [
             0.5555555555555556,
             "#d8576b"
            ],
            [
             0.6666666666666666,
             "#ed7953"
            ],
            [
             0.7777777777777778,
             "#fb9f3a"
            ],
            [
             0.8888888888888888,
             "#fdca26"
            ],
            [
             1,
             "#f0f921"
            ]
           ]
          },
          "colorway": [
           "#636efa",
           "#EF553B",
           "#00cc96",
           "#ab63fa",
           "#FFA15A",
           "#19d3f3",
           "#FF6692",
           "#B6E880",
           "#FF97FF",
           "#FECB52"
          ],
          "font": {
           "color": "#2a3f5f"
          },
          "geo": {
           "bgcolor": "white",
           "lakecolor": "white",
           "landcolor": "#E5ECF6",
           "showlakes": true,
           "showland": true,
           "subunitcolor": "white"
          },
          "hoverlabel": {
           "align": "left"
          },
          "hovermode": "closest",
          "mapbox": {
           "style": "light"
          },
          "paper_bgcolor": "white",
          "plot_bgcolor": "#E5ECF6",
          "polar": {
           "angularaxis": {
            "gridcolor": "white",
            "linecolor": "white",
            "ticks": ""
           },
           "bgcolor": "#E5ECF6",
           "radialaxis": {
            "gridcolor": "white",
            "linecolor": "white",
            "ticks": ""
           }
          },
          "scene": {
           "xaxis": {
            "backgroundcolor": "#E5ECF6",
            "gridcolor": "white",
            "gridwidth": 2,
            "linecolor": "white",
            "showbackground": true,
            "ticks": "",
            "zerolinecolor": "white"
           },
           "yaxis": {
            "backgroundcolor": "#E5ECF6",
            "gridcolor": "white",
            "gridwidth": 2,
            "linecolor": "white",
            "showbackground": true,
            "ticks": "",
            "zerolinecolor": "white"
           },
           "zaxis": {
            "backgroundcolor": "#E5ECF6",
            "gridcolor": "white",
            "gridwidth": 2,
            "linecolor": "white",
            "showbackground": true,
            "ticks": "",
            "zerolinecolor": "white"
           }
          },
          "shapedefaults": {
           "line": {
            "color": "#2a3f5f"
           }
          },
          "ternary": {
           "aaxis": {
            "gridcolor": "white",
            "linecolor": "white",
            "ticks": ""
           },
           "baxis": {
            "gridcolor": "white",
            "linecolor": "white",
            "ticks": ""
           },
           "bgcolor": "#E5ECF6",
           "caxis": {
            "gridcolor": "white",
            "linecolor": "white",
            "ticks": ""
           }
          },
          "title": {
           "x": 0.05
          },
          "xaxis": {
           "automargin": true,
           "gridcolor": "white",
           "linecolor": "white",
           "ticks": "",
           "title": {
            "standoff": 15
           },
           "zerolinecolor": "white",
           "zerolinewidth": 2
          },
          "yaxis": {
           "automargin": true,
           "gridcolor": "white",
           "linecolor": "white",
           "ticks": "",
           "title": {
            "standoff": 15
           },
           "zerolinecolor": "white",
           "zerolinewidth": 2
          }
         }
        },
        "title": {
         "text": "UMAP plot in 3D"
        }
       }
      }
     },
     "metadata": {},
     "output_type": "display_data"
    }
   ],
   "source": [
    "reducer = umap.umap_.UMAP(n_components=3)\n",
    "components_umap = reducer.fit_transform(X)\n",
    "\n",
    "\n",
    "\n",
    "#3D scatterplot\n",
    "fig = px.scatter_3d(components_umap, x=0, y=1, z=2, color=clusters, size=0.1*np.ones(len(X)) ,opacity=1,\n",
    "                    title='UMAP plot in 3D',\n",
    "                    labels = {'0' : 'comp. 1', '1': 'comp. 2', '2': 'comp. 3'})\n",
    "fig.show()\n"
   ]
  },
  {
   "cell_type": "markdown",
   "metadata": {},
   "source": [
    "###  PCA vs t-SNE vs UMAP\n",
    "- PCA : 'linear embedding' , t-SNE, UMAP : 'non-linear embedding'\n",
    "- t-SNE :  transform 메서드 존재X, centroid시각화 불가능 , local한 structure를 caputre하는데 초점\n",
    "- UMAP : global and local structure를 유지하려는데 초점"
   ]
  }
 ],
 "metadata": {
  "kernelspec": {
   "display_name": "yeardream",
   "language": "python",
   "name": "python3"
  },
  "language_info": {
   "codemirror_mode": {
    "name": "ipython",
    "version": 3
   },
   "file_extension": ".py",
   "mimetype": "text/x-python",
   "name": "python",
   "nbconvert_exporter": "python",
   "pygments_lexer": "ipython3",
   "version": "3.9.16"
  }
 },
 "nbformat": 4,
 "nbformat_minor": 2
}
