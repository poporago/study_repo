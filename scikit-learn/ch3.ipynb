{
 "cells": [
  {
   "cell_type": "code",
   "execution_count": null,
   "metadata": {},
   "outputs": [],
   "source": [
    "from sklearn.base import BaseEstimator\n",
    "\n",
    "class MyDummyClassifier(BaseEstimator): #BaseEstimator 클래스의 상속으로 커스텀 Estimator를 제작할 수 있음\n",
    "    def fit(self,X, y=None):\n",
    "        pass\n",
    "    def predict(self,X):\n",
    "        pred = np.zeros(X.shape[0],1)\n",
    "        "
   ]
  }
 ],
 "metadata": {
  "language_info": {
   "name": "python"
  }
 },
 "nbformat": 4,
 "nbformat_minor": 2
}
