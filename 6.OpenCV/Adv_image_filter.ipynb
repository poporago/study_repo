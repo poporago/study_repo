{
 "cells": [
  {
   "cell_type": "code",
   "execution_count": 1,
   "metadata": {},
   "outputs": [
    {
     "name": "stdout",
     "output_type": "stream",
     "text": [
      "Collecting pygame\n",
      "  Downloading pygame-2.5.2-cp311-cp311-win_amd64.whl.metadata (13 kB)\n",
      "Downloading pygame-2.5.2-cp311-cp311-win_amd64.whl (10.8 MB)\n",
      "   ---------------------------------------- 0.0/10.8 MB ? eta -:--:--\n",
      "   ---------------------------------------- 0.0/10.8 MB ? eta -:--:--\n",
      "   ---------------------------------------- 0.0/10.8 MB 330.3 kB/s eta 0:00:33\n",
      "   ---------------------------------------- 0.1/10.8 MB 751.6 kB/s eta 0:00:15\n",
      "   ---- ----------------------------------- 1.2/10.8 MB 7.4 MB/s eta 0:00:02\n",
      "   ---- ----------------------------------- 1.2/10.8 MB 7.0 MB/s eta 0:00:02\n",
      "   ----- ---------------------------------- 1.4/10.8 MB 5.7 MB/s eta 0:00:02\n",
      "   ----- ---------------------------------- 1.6/10.8 MB 5.3 MB/s eta 0:00:02\n",
      "   -------- ------------------------------- 2.2/10.8 MB 6.4 MB/s eta 0:00:02\n",
      "   -------- ------------------------------- 2.3/10.8 MB 5.8 MB/s eta 0:00:02\n",
      "   -------- ------------------------------- 2.3/10.8 MB 5.2 MB/s eta 0:00:02\n",
      "   -------- ------------------------------- 2.4/10.8 MB 5.1 MB/s eta 0:00:02\n",
      "   --------- ------------------------------ 2.5/10.8 MB 4.9 MB/s eta 0:00:02\n",
      "   ---------- ----------------------------- 2.8/10.8 MB 4.9 MB/s eta 0:00:02\n",
      "   -------------- ------------------------- 3.8/10.8 MB 6.2 MB/s eta 0:00:02\n",
      "   ---------------- ----------------------- 4.5/10.8 MB 6.8 MB/s eta 0:00:01\n",
      "   ------------------- -------------------- 5.3/10.8 MB 7.5 MB/s eta 0:00:01\n",
      "   ----------------------------- ---------- 7.9/10.8 MB 10.6 MB/s eta 0:00:01\n",
      "   ---------------------------------------  10.6/10.8 MB 15.6 MB/s eta 0:00:01\n",
      "   ---------------------------------------- 10.8/10.8 MB 14.9 MB/s eta 0:00:00\n",
      "Installing collected packages: pygame\n",
      "Successfully installed pygame-2.5.2\n"
     ]
    }
   ],
   "source": [
    "!pip install pygame"
   ]
  },
  {
   "cell_type": "code",
   "execution_count": null,
   "metadata": {},
   "outputs": [],
   "source": []
  }
 ],
 "metadata": {
  "kernelspec": {
   "display_name": "pyeardream",
   "language": "python",
   "name": "python3"
  },
  "language_info": {
   "codemirror_mode": {
    "name": "ipython",
    "version": 3
   },
   "file_extension": ".py",
   "mimetype": "text/x-python",
   "name": "python",
   "nbconvert_exporter": "python",
   "pygments_lexer": "ipython3",
   "version": "3.11.5"
  }
 },
 "nbformat": 4,
 "nbformat_minor": 2
}
