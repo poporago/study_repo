{
 "cells": [
  {
   "cell_type": "markdown",
   "metadata": {},
   "source": [
    "## 실행 1번\n",
    "popeval 지표로 테스트시 추론 결과 변환을 위해 반드시 실행<br>\n",
    "pred folder txt파일만 추출하기"
   ]
  },
  {
   "cell_type": "code",
   "execution_count": 3,
   "metadata": {},
   "outputs": [
    {
     "name": "stdout",
     "output_type": "stream",
     "text": [
      "txt files copied successfully.\n"
     ]
    }
   ],
   "source": [
    "import os\n",
    "import shutil\n",
    "\n",
    "# 원본 txt 파일이 있는 폴더 경로\n",
    "pred_folder = 'C:/Users/ydsc/CustomCRAFT/result_test'\n",
    "\n",
    "# txdt 파일을 저장할 별도의 폴더 경로\n",
    "destination_folder = 'C:/Users/ydsc/CustomCRAFT/result_txt_for_popeval'\n",
    "\n",
    "# 목적 폴더가 존재하지 않으면 생성\n",
    "if not os.path.exists(destination_folder):\n",
    "    os.makedirs(destination_folder)\n",
    "\n",
    "# pred_folder 내의 모든 JSON 파일을 destination_folder로 복사\n",
    "for file_name in os.listdir(pred_folder):\n",
    "    if file_name.endswith('.json'):\n",
    "        src_file_path = os.path.join(pred_folder, file_name)\n",
    "        dst_file_path = os.path.join(destination_folder, file_name)\n",
    "        shutil.copy(src_file_path, dst_file_path)\n",
    "\n",
    "print(\"txt files copied successfully.\")\n"
   ]
  },
  {
   "cell_type": "markdown",
   "metadata": {},
   "source": [
    "각 파일의 이름 맞추기"
   ]
  },
  {
   "cell_type": "code",
   "execution_count": 27,
   "metadata": {},
   "outputs": [
    {
     "name": "stdout",
     "output_type": "stream",
     "text": [
      "File renaming completed.\n"
     ]
    }
   ],
   "source": [
    "import os\n",
    "\n",
    "# 폴더 경로 설정\n",
    "object_folder = 'C:\\\\Users\\\\ydsc\\\\CustomCRAFT\\\\result_test_for_popeval2'\n",
    "\n",
    "# 폴더 내 모든 파일에 대해 반복\n",
    "for file_name in os.listdir(object_folder):\n",
    "    if file_name.endswith('.txt'):\n",
    "        # 파일 이름을 '_'를 기준으로 분할\n",
    "        parts = file_name.split('_')\n",
    "        \n",
    "        # 새로운 이름 생성\n",
    "        if len(parts) == 4:\n",
    "            res, test, num, transcription = parts\n",
    "            new_name = f\"text_{num}\"\n",
    "            \n",
    "            # 파일 경로 설정\n",
    "            old_path = os.path.join(object_folder, file_name)\n",
    "            new_path = os.path.join(object_folder, new_name + '.txt')\n",
    "            \n",
    "            # 파일 이름 변경\n",
    "            os.rename(old_path, new_path)\n",
    "\n",
    "print(\"File renaming completed.\")\n"
   ]
  },
  {
   "cell_type": "markdown",
   "metadata": {},
   "source": [
    "json to txt with popeval format (upstage ocr json)"
   ]
  },
  {
   "cell_type": "code",
   "execution_count": 2,
   "metadata": {},
   "outputs": [
    {
     "ename": "TypeError",
     "evalue": "list indices must be integers or slices, not str",
     "output_type": "error",
     "traceback": [
      "\u001b[1;31m---------------------------------------------------------------------------\u001b[0m",
      "\u001b[1;31mTypeError\u001b[0m                                 Traceback (most recent call last)",
      "Cell \u001b[1;32mIn[2], line 25\u001b[0m\n\u001b[0;32m     23\u001b[0m \u001b[38;5;66;03m# bbox 정보와 텍스트 라벨 추출\u001b[39;00m\n\u001b[0;32m     24\u001b[0m result_lines \u001b[38;5;241m=\u001b[39m []\n\u001b[1;32m---> 25\u001b[0m \u001b[38;5;28;01mfor\u001b[39;00m word_info \u001b[38;5;129;01min\u001b[39;00m \u001b[43mdata\u001b[49m\u001b[43m[\u001b[49m\u001b[38;5;124;43m'\u001b[39;49m\u001b[38;5;124;43mwords\u001b[39;49m\u001b[38;5;124;43m'\u001b[39;49m\u001b[43m]\u001b[49m:\n\u001b[0;32m     26\u001b[0m     bbox \u001b[38;5;241m=\u001b[39m word_info[\u001b[38;5;124m'\u001b[39m\u001b[38;5;124mbox\u001b[39m\u001b[38;5;124m'\u001b[39m]\n\u001b[0;32m     27\u001b[0m     text \u001b[38;5;241m=\u001b[39m word_info[\u001b[38;5;124m'\u001b[39m\u001b[38;5;124mtext\u001b[39m\u001b[38;5;124m'\u001b[39m]\n",
      "\u001b[1;31mTypeError\u001b[0m: list indices must be integers or slices, not str"
     ]
    }
   ],
   "source": [
    "import os\n",
    "import json\n",
    "\n",
    "################################ 폴더 경로 설정 #################################\n",
    "json_folder = \"C:\\\\Users\\\\ydsc\\\\CustomCRAFT\\\\result_test_for_popeval\"\n",
    "text_folder = \"C:\\\\Users\\\\ydsc\\\\CustomCRAFT\\result_test_for_popeval\"\n",
    "\n",
    "##################################################################################\n",
    "\n",
    "# text_folder가 존재하지 않으면 생성\n",
    "if not os.path.exists(text_folder):\n",
    "    os.makedirs(text_folder)\n",
    "\n",
    "# json 폴더의 모든 파일에 대해 반복\n",
    "for json_file in os.listdir(json_folder):\n",
    "    if json_file.endswith('.json'):\n",
    "        json_path = os.path.join(json_folder, json_file)\n",
    "        \n",
    "        # json 파일 열기\n",
    "        with open(json_path, 'r', encoding='utf-8') as f:\n",
    "            data = json.load(f)\n",
    "        \n",
    "        # bbox 정보와 텍스트 라벨 추출\n",
    "        result_lines = []\n",
    "        for word_info in data['words']:\n",
    "            bbox = word_info['boundingBox']['vertices']\n",
    "            text = word_info['text']\n",
    "            label = '::' + text\n",
    "\n",
    "            # bbox 좌표 추출 및 형식에 맞게 변환\n",
    "            coords = []\n",
    "            for point in bbox:\n",
    "                coords.append(f\"{point['x']} {point['y']}\")\n",
    "            \n",
    "            coords_str = ' '.join(coords)\n",
    "            result_line = f\"{coords_str}##{label}\"\n",
    "            result_lines.append(result_line)\n",
    "        \n",
    "        # txt 파일 경로 설정\n",
    "        txt_file_name = os.path.splitext(json_file)[0] + '.txt'\n",
    "        txt_path = os.path.join(text_folder, txt_file_name)\n",
    "\n",
    "        \n",
    "        # txt 파일에 bbox 정보와 텍스트 라벨 쓰기\n",
    "        with open(txt_path, 'w', encoding='utf-8') as f:\n",
    "            for line in result_lines:\n",
    "                f.write(line + '\\n')\n",
    "\n",
    "print(\"Conversion completed.\")"
   ]
  },
  {
   "cell_type": "markdown",
   "metadata": {},
   "source": [
    "json to txt with popeval format (my prediction result json)"
   ]
  },
  {
   "cell_type": "code",
   "execution_count": 22,
   "metadata": {},
   "outputs": [
    {
     "name": "stdout",
     "output_type": "stream",
     "text": [
      "Conversion completed.\n"
     ]
    }
   ],
   "source": [
    "import os\n",
    "import json\n",
    "\n",
    "################################ 폴더 경로 설정 #################################\n",
    "json_folder = \"C:\\\\Users\\\\ydsc\\\\CustomCRAFT\\\\result_test_for_popeval\"\n",
    "text_folder = \"C:\\\\Users\\\\ydsc\\\\CustomCRAFT\\\\result_test_for_popeval2\"\n",
    "\n",
    "##################################################################################\n",
    "\n",
    "# text_folder가 존재하지 않으면 생성\n",
    "if not os.path.exists(text_folder):\n",
    "    os.makedirs(text_folder)\n",
    "\n",
    "# json 폴더의 모든 파일에 대해 반복\n",
    "for json_file in os.listdir(json_folder):\n",
    "    if json_file.endswith('.json'):\n",
    "        json_path = os.path.join(json_folder, json_file)        \n",
    "\n",
    "        # json 파일 열기\n",
    "        with open(json_path, 'r', encoding='utf-8') as f:\n",
    "            data = json.load(f)\n",
    "        \n",
    "        result_lines = []\n",
    "        for result in data:\n",
    "            bbox = result['box']\n",
    "            text = result['text']\n",
    "            label = '::' + text\n",
    "\n",
    "            # bbox 좌표 추출 및 형식에 맞게 변환\n",
    "            coords = []\n",
    "            for point in bbox:\n",
    "                coords.append(f\"{point[0]} {point[1]}\")\n",
    "            \n",
    "            coords_str = ' '.join(coords)\n",
    "            result_line = f\"{coords_str}##{label}\"\n",
    "            result_lines.append(result_line)\n",
    "        \n",
    "        # txt 파일 경로 설정\n",
    "        txt_file_name = os.path.splitext(json_file)[0] + '.txt'\n",
    "        txt_path = os.path.join(text_folder, txt_file_name)\n",
    "        \n",
    "        # txt 파일에 bbox 정보와 텍스트 라벨 쓰기\n",
    "        with open(txt_path, 'w', encoding='utf-8') as f:\n",
    "            for line in result_lines:\n",
    "                f.write(line + '\\n')\n",
    "\n",
    "print(\"Conversion completed.\")\n"
   ]
  },
  {
   "cell_type": "code",
   "execution_count": null,
   "metadata": {},
   "outputs": [],
   "source": []
  }
 ],
 "metadata": {
  "kernelspec": {
   "display_name": "ydsc",
   "language": "python",
   "name": "python3"
  },
  "language_info": {
   "codemirror_mode": {
    "name": "ipython",
    "version": 3
   },
   "file_extension": ".py",
   "mimetype": "text/x-python",
   "name": "python",
   "nbconvert_exporter": "python",
   "pygments_lexer": "ipython3",
   "version": "3.8.19"
  }
 },
 "nbformat": 4,
 "nbformat_minor": 2
}
