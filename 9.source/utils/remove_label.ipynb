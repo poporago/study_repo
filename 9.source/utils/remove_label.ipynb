{
 "cells": [
  {
   "cell_type": "code",
   "execution_count": null,
   "metadata": {},
   "outputs": [],
   "source": [
    "import os\n",
    "\n",
    "def remove_invalid_gts(img_dir_path, gt_file_path):\n",
    "    \"\"\"\n",
    "    gt 파일에서 이미지 디렉토리에 존재하지 않는 파일의 gt를 제거하는 함수.\n",
    "    \n",
    "    Parameters:\n",
    "    img_dir_path (str): 이미지 파일들이 저장된 디렉토리 경로\n",
    "    gt_file_path (str): ground truth 파일 경로\n",
    "    \n",
    "    Returns:\n",
    "    None\n",
    "    \"\"\"\n",
    "    # 이미지 디렉토리의 파일 목록 가져오기\n",
    "    image_list = os.listdir(img_dir_path)\n",
    "\n",
    "    # gt 파일 읽기\n",
    "    with open(gt_file_path, 'r') as gt_file:\n",
    "        lines = gt_file.readlines()\n",
    "\n",
    "    # 파일 이름과 ground truths 분리\n",
    "    file_names = []\n",
    "    ground_truths = []\n",
    "    for line in lines:\n",
    "        parts = line.split('\\t')\n",
    "        file_names.append(parts[0])\n",
    "        ground_truths.append(parts[1])\n",
    "\n",
    "    # 파일이 존재하지 않는 gt 제거\n",
    "    new_lines = []\n",
    "    for file_name, gt in zip(file_names, ground_truths):\n",
    "        if file_name in image_list:\n",
    "            new_lines.append(f\"{file_name},{gt}\")\n",
    "\n",
    "    # 새로운 gt 파일로 저장\n",
    "    with open(gt_file_path, 'w') as gt_file:\n",
    "        gt_file.write('\\n'.join(new_lines))\n",
    "\n",
    "    print(\"필요 없는 gt가 제거되었습니다.\")\n"
   ]
  },
  {
   "cell_type": "code",
   "execution_count": null,
   "metadata": {},
   "outputs": [],
   "source": [
    "####### 조심할 것 실행시 파일 수정 ##########\n",
    "img_dir_path =\n",
    "gt_file_path = \n",
    "\n",
    "def remove_invalid_gts(img_dir_path, gt_file_path):"
   ]
  }
 ],
 "metadata": {
  "language_info": {
   "name": "python"
  }
 },
 "nbformat": 4,
 "nbformat_minor": 2
}
