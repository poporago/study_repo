{
 "cells": [
  {
   "cell_type": "code",
   "execution_count": 9,
   "metadata": {},
   "outputs": [],
   "source": [
    "# gt_file 혹은 합성 데이터 생성용 target_list의 vocab수를 체크합니다. -> 모델 cappa가 커야 모든 시퀀스당 글자를 커버할 수 있음\n",
    "gt_txt = \"C:/Users/ydsc/target_list.txt\""
   ]
  },
  {
   "cell_type": "code",
   "execution_count": 32,
   "metadata": {},
   "outputs": [],
   "source": [
    "def check_vocab_size(gt_txt):\n",
    "    dash = '=' * 50\n",
    "    vocab = []\n",
    "    with open(gt_txt, 'r') as txt : \n",
    "        texts = txt.readlines()\n",
    "        for text in texts:\n",
    "            text.replace('\\n', '')\n",
    "            \n",
    "            for char in text :\n",
    "                if char not in vocab :\n",
    "                    vocab.append(char)\n",
    "    print(dash)\n",
    "    print(f'vocab 내 총 글자 수 : {len(vocab)}')\n",
    "    print(dash)\n"
   ]
  },
  {
   "cell_type": "code",
   "execution_count": 33,
   "metadata": {},
   "outputs": [
    {
     "name": "stdout",
     "output_type": "stream",
     "text": [
      "==================================================\n",
      "vocab 내 총 글자 수 : 138\n",
      "==================================================\n"
     ]
    }
   ],
   "source": [
    "check_vocab_size(gt_txt)"
   ]
  },
  {
   "cell_type": "code",
   "execution_count": null,
   "metadata": {},
   "outputs": [],
   "source": []
  }
 ],
 "metadata": {
  "kernelspec": {
   "display_name": "ydsc",
   "language": "python",
   "name": "python3"
  },
  "language_info": {
   "codemirror_mode": {
    "name": "ipython",
    "version": 3
   },
   "file_extension": ".py",
   "mimetype": "text/x-python",
   "name": "python",
   "nbconvert_exporter": "python",
   "pygments_lexer": "ipython3",
   "version": "3.8.19"
  }
 },
 "nbformat": 4,
 "nbformat_minor": 2
}
