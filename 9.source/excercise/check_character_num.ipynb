{
 "cells": [
  {
   "cell_type": "code",
   "execution_count": 9,
   "metadata": {},
   "outputs": [
    {
     "name": "stdout",
     "output_type": "stream",
     "text": [
      "나트륨탄수화물당류지방랜스포콜레테롤단백질식이섬유비타민ABCDEK6아연셀렌늄 총내용량10gml개()5위회섭취참고제공컵팩봉2없음kca%μRα-T.34789\n"
     ]
    },
    {
     "name": "stderr",
     "output_type": "stream",
     "text": [
      "<>:3: SyntaxWarning: invalid escape sequence '\\d'\n",
      "<>:3: SyntaxWarning: invalid escape sequence '\\d'\n",
      "C:\\Users\\Inbody\\AppData\\Local\\Temp\\ipykernel_19128\\2224716617.py:3: SyntaxWarning: invalid escape sequence '\\d'\n",
      "  with open(\"C:\\\\Users\\\\ydsc\\\\TextRecognitionDataGenerator\\\\trdg\\dicts\\\\custom\\\\merged_file.txt\", \"r\") as f:\n"
     ]
    }
   ],
   "source": [
    "word_list = []\n",
    "\n",
    "with open(\"C:\\\\Users\\\\ydsc\\\\TextRecognitionDataGenerator\\\\trdg\\dicts\\\\custom\\\\merged_file.txt\", \"r\") as f:\n",
    "    word = f.read()\n",
    "    if word not in word_list:\n",
    "        word_list.append(word)\n",
    "\n",
    "\n",
    "opt = []\n",
    "for word in word_list:\n",
    "    for char in word:\n",
    "        if char not in opt:\n",
    "            opt.append(char)\n",
    "\n",
    "opt.remove('\\n')\n",
    "result = ''.join(opt)\n",
    "print(result)"
   ]
  },
  {
   "cell_type": "code",
   "execution_count": 10,
   "metadata": {},
   "outputs": [
    {
     "name": "stdout",
     "output_type": "stream",
     "text": [
      "83\n"
     ]
    }
   ],
   "source": [
    "print(len(result))"
   ]
  },
  {
   "cell_type": "code",
   "execution_count": 1,
   "metadata": {},
   "outputs": [
    {
     "data": {
      "text/plain": [
       "81"
      ]
     },
     "execution_count": 1,
     "metadata": {},
     "output_type": "execute_result"
    }
   ],
   "source": [
    "len('나트륨탄수화물당류지방랜스포콜레테롤단백질식이섬유비타민ABCDEK6아연셀렌늄 총내용량10gml개()5위회섭취참고제공컵팩봉2없음kca%R-T.34789')"
   ]
  },
  {
   "cell_type": "code",
   "execution_count": 3,
   "metadata": {},
   "outputs": [],
   "source": [
    "temp = (32,15,15)"
   ]
  },
  {
   "cell_type": "code",
   "execution_count": 5,
   "metadata": {},
   "outputs": [
    {
     "data": {
      "text/plain": [
       "(32, 15, 15)"
      ]
     },
     "execution_count": 5,
     "metadata": {},
     "output_type": "execute_result"
    }
   ],
   "source": [
    "[temp][0]"
   ]
  },
  {
   "cell_type": "code",
   "execution_count": 6,
   "metadata": {},
   "outputs": [],
   "source": [
    "head = f'{\"image_path\":25s}\\t{\"predicted_labels\":25s}\\tconfidence score'"
   ]
  },
  {
   "cell_type": "code",
   "execution_count": 7,
   "metadata": {},
   "outputs": [
    {
     "data": {
      "text/plain": [
       "'image_path               \\tpredicted_labels         \\tconfidence score'"
      ]
     },
     "execution_count": 7,
     "metadata": {},
     "output_type": "execute_result"
    }
   ],
   "source": [
    "head"
   ]
  },
  {
   "cell_type": "code",
   "execution_count": 8,
   "metadata": {},
   "outputs": [
    {
     "name": "stdout",
     "output_type": "stream",
     "text": [
      "True\n"
     ]
    }
   ],
   "source": [
    "print(True)"
   ]
  },
  {
   "cell_type": "code",
   "execution_count": 13,
   "metadata": {},
   "outputs": [
    {
     "name": "stdout",
     "output_type": "stream",
     "text": [
      "-1\n",
      "0\n",
      "-1\n"
     ]
    }
   ],
   "source": [
    "temp1 = ['a','b','c']\n",
    "temp2 = ['가','나','다']\n",
    "\n",
    "for a,b in zip(temp1,temp2):\n",
    "    EOS = a.find('b')\n",
    "    print(EOS)"
   ]
  },
  {
   "cell_type": "code",
   "execution_count": null,
   "metadata": {},
   "outputs": [],
   "source": [
    "pred_EOS = pred.find('[s]')\n",
    "pred = pred[:pred_EOS]  # prune after \"end of sentence\" token ([s])\n",
    "pred_max_prob = pred_max_prob[:pred_EOS]"
   ]
  }
 ],
 "metadata": {
  "kernelspec": {
   "display_name": "base",
   "language": "python",
   "name": "python3"
  },
  "language_info": {
   "codemirror_mode": {
    "name": "ipython",
    "version": 3
   },
   "file_extension": ".py",
   "mimetype": "text/x-python",
   "name": "python",
   "nbconvert_exporter": "python",
   "pygments_lexer": "ipython3",
   "version": "3.7.12"
  }
 },
 "nbformat": 4,
 "nbformat_minor": 2
}
