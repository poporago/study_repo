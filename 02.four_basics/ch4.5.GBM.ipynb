{
 "cells": [
  {
   "cell_type": "code",
   "execution_count": 5,
   "metadata": {},
   "outputs": [],
   "source": [
    "import pandas as pd"
   ]
  },
  {
   "cell_type": "code",
   "execution_count": 6,
   "metadata": {},
   "outputs": [],
   "source": [
    "# 중복 칼럼 제거\n",
    "def get_new_feature_name_df(old_feature_name_df):\n",
    "    feature_dup_df = pd.DataFrame(data=old_feature_name_df.groupby('column_name').cumcount(),\n",
    "                                  columns=['dup_cnt'])\n",
    "    feature_dup_df = feature_dup_df.reset_index()\n",
    "    new_feature_name_df = pd.merge(old_feature_name_df.reset_index(), feature_dup_df, how='outer')\n",
    "    new_feature_name_df['column_name'] = new_feature_name_df[['column_name','dup_cnt']]\\\n",
    "        .apply(lambda x : x[0] + '_'+str(x[1]) if x[1]>0 else x[0], axis=1)   # 칼럼에 대한 조건부 , axis=1(column이 증가하는방향,row방향 적용)\n",
    "    new_feature_name_df = new_feature_name_df.drop(['index'], axis=1)   \n",
    "    \n",
    "    return new_feature_name_df"
   ]
  },
  {
   "cell_type": "code",
   "execution_count": 12,
   "metadata": {},
   "outputs": [],
   "source": [
    "def get_human_dataset():\n",
    "    \n",
    "    feature_name_df = pd.read_csv('/Users/b12/Desktop/dailystudycode/data/UCI HAR Dataset/features.txt', sep='\\s+',\n",
    "                                  header=None, names=['column_index','column_name'])\n",
    "    \n",
    "    new_feature_name_df = get_new_feature_name_df(feature_name_df)\n",
    "    \n",
    "    #데이터프레임에 피처명을 칼럼으로 부여하기 위해 리스트 객체로 변환\n",
    "    feature_name = new_feature_name_df.iloc[:,1].values.tolist()\n",
    "    \n",
    "    #학습 피쳐 데이터세트와 테스트 피쳐 데이터를 DataFrame으로 로딩, 칼럼명은 feature_name 적용\n",
    "    X_train = pd.read_csv('../../data/UCI HAR Dataset/train/X_train.txt', sep='\\s+', names=feature_name)\n",
    "    X_test = pd.read_csv('../../data/UCI HAR Dataset/test/X_test.txt', sep='\\s+', names=feature_name)\n",
    "    \n",
    "    y_train = pd.read_csv('../../data/UCI HAR Dataset/train/y_train.txt', sep='\\s+', header=None, names=['action'])\n",
    "    y_test = pd.read_csv('../../data/UCI HAR Dataset/test/y_test.txt', sep='\\s+', header=None, names=['action'])\n",
    "    \n",
    "    return X_train, X_test , y_train, y_test"
   ]
  },
  {
   "cell_type": "code",
   "execution_count": 13,
   "metadata": {},
   "outputs": [
    {
     "ename": "NameError",
     "evalue": "name 'accuracy_score' is not defined",
     "output_type": "error",
     "traceback": [
      "\u001b[0;31m---------------------------------------------------------------------------\u001b[0m",
      "\u001b[0;31mNameError\u001b[0m                                 Traceback (most recent call last)",
      "\u001b[1;32m/Users/b12/Desktop/dailystudycode/study_repo/scikit-learn/ch4.5-GBM.ipynb Cell 5\u001b[0m line \u001b[0;36m1\n\u001b[1;32m     <a href='vscode-notebook-cell:/Users/b12/Desktop/dailystudycode/study_repo/scikit-learn/ch4.5-GBM.ipynb#W0sZmlsZQ%3D%3D?line=10'>11</a>\u001b[0m gb_clf\u001b[39m.\u001b[39mfit(X_train,y_train)\n\u001b[1;32m     <a href='vscode-notebook-cell:/Users/b12/Desktop/dailystudycode/study_repo/scikit-learn/ch4.5-GBM.ipynb#W0sZmlsZQ%3D%3D?line=11'>12</a>\u001b[0m gb_pred \u001b[39m=\u001b[39m gb_clf\u001b[39m.\u001b[39mpredict(X_test)\n\u001b[0;32m---> <a href='vscode-notebook-cell:/Users/b12/Desktop/dailystudycode/study_repo/scikit-learn/ch4.5-GBM.ipynb#W0sZmlsZQ%3D%3D?line=12'>13</a>\u001b[0m gb_accuracy \u001b[39m=\u001b[39m accuracy_score(y_test, gb_pred)\n\u001b[1;32m     <a href='vscode-notebook-cell:/Users/b12/Desktop/dailystudycode/study_repo/scikit-learn/ch4.5-GBM.ipynb#W0sZmlsZQ%3D%3D?line=14'>15</a>\u001b[0m \u001b[39mprint\u001b[39m(\u001b[39m'\u001b[39m\u001b[39mGBM 정확도 :\u001b[39m\u001b[39m{:4f}\u001b[39;00m\u001b[39m'\u001b[39m\u001b[39m.\u001b[39mformat(gb_accuracy))\n\u001b[1;32m     <a href='vscode-notebook-cell:/Users/b12/Desktop/dailystudycode/study_repo/scikit-learn/ch4.5-GBM.ipynb#W0sZmlsZQ%3D%3D?line=15'>16</a>\u001b[0m \u001b[39mprint\u001b[39m(\u001b[39m'\u001b[39m\u001b[39mGBM 수행시간\u001b[39m\u001b[39m'\u001b[39m ,time\u001b[39m.\u001b[39mtime() \u001b[39m-\u001b[39m start_time)\n",
      "\u001b[0;31mNameError\u001b[0m: name 'accuracy_score' is not defined"
     ]
    }
   ],
   "source": [
    "from sklearn.ensemble import GradientBoostingClassifier\n",
    "import time\n",
    "import warnings\n",
    "warnings.filterwarnings('ignore')\n",
    "\n",
    "X_train, X_test, y_train, y_test = get_human_dataset()\n",
    "\n",
    "#시간 측정\n",
    "start_time = time.time()\n",
    "gb_clf = GradientBoostingClassifier(random_state=0)\n",
    "gb_clf.fit(X_train,y_train)\n",
    "gb_pred = gb_clf.predict(X_test)\n",
    "gb_accuracy = accuracy_score(y_test, gb_pred)\n",
    "\n",
    "print('GBM 정확도 :{:4f}'.format(gb_accuracy))\n",
    "print('GBM 수행시간' ,time.time() - start_time)"
   ]
  },
  {
   "cell_type": "code",
   "execution_count": null,
   "metadata": {},
   "outputs": [],
   "source": []
  },
  {
   "cell_type": "code",
   "execution_count": null,
   "metadata": {},
   "outputs": [],
   "source": []
  }
 ],
 "metadata": {
  "kernelspec": {
   "display_name": "yeardream",
   "language": "python",
   "name": "python3"
  },
  "language_info": {
   "codemirror_mode": {
    "name": "ipython",
    "version": 3
   },
   "file_extension": ".py",
   "mimetype": "text/x-python",
   "name": "python",
   "nbconvert_exporter": "python",
   "pygments_lexer": "ipython3",
   "version": "3.9.16"
  }
 },
 "nbformat": 4,
 "nbformat_minor": 2
}
