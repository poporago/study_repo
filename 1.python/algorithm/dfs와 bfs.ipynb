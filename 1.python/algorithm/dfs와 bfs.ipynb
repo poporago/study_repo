{
 "cells": [
  {
   "cell_type": "markdown",
   "metadata": {},
   "source": [
    "DFS(깊이 우선 탐색), BFS(너비 우선 탐색)\n",
    "대표적 문제 유형\n",
    "1. 경로탐색 유형 (최단거리, 시간)\n",
    "2. 네트워크 유형 (연결)\n",
    "3. 조합 유형 (모든 조합 만들기)\n",
    "<br>\n",
    "\n",
    "DFS -> 한놈만 패는 방식 :  재귀함수를 통해 구현하며, 재귀함수를 탈출조건 까지 타고 들어가서 탈출뒤 파라미터를 바꿔가며 정답을 찾는 방식<br>\n",
    "BFS -> 한명씩 잽날리는 방식 : Queue / LinkedList를 통해 구현, 가장 먼저 넣었던 것을 꺼내서 연결된 점을 Queue에 넣는다. 순서가 보장되어야 하는 특징<br>\n",
    "정답을 탐색하는 알고리즘이기 때문에 어떤 것을 사용하여도 정답을 구할 수 있다."
   ]
  },
  {
   "cell_type": "code",
   "execution_count": 1,
   "metadata": {},
   "outputs": [],
   "source": [
    "graph = [[],   #노드는 보통 1번부터 시작하기때문에 0번인덱스는 비워둔다.\n",
    "[2,3,8],\n",
    "[1,7],\n",
    "[1,4,5],\n",
    "[3,5],\n",
    "[3,4,],\n",
    "[7],\n",
    "[2,6,8],\n",
    "[1,7]\n",
    "]\n",
    "\n",
    "# 각 노드가 방문된 정보를 표현 [방문처리] (1차원 리스트)\n",
    "visited = [False] * 9 "
   ]
  },
  {
   "cell_type": "code",
   "execution_count": 1,
   "metadata": {},
   "outputs": [],
   "source": [
    "def dfs(graph, v, visited):\n",
    "    # 현재 노드를 방문 처리\n",
    "    visited[v] = True\n",
    "    print(v, end='')\n",
    "    # 현재 노드와 연결된 다른 노드를 재귀적으로 방문\n",
    "    for i in graph[v]:\n",
    "        if not visited[i]:\n",
    "            dfs(graph, i, visited)"
   ]
  },
  {
   "cell_type": "code",
   "execution_count": null,
   "metadata": {},
   "outputs": [],
   "source": [
    "from collections import deque\n",
    "\n",
    "def bfs(graph, start, visited):\n",
    "    # 큐(Queue)의 구현을 위해 deque 라이브러리 사용\n",
    "    queue = deque([start])\n",
    "    # 현재 노드를 방문 처리\n",
    "    visited[start] = True\n",
    "    # 큐가 빌 때까지 반복\n",
    "    while queue:\n",
    "        v = queue.popleft()\n",
    "        print(v, end='')\n",
    "        # 아직 방문하지 않은 인접한 원소들을 큐에 삽입\n",
    "        for i in graph[v]:\n",
    "            if not visited[i]:\n",
    "                queue.append(i)\n",
    "                visited[i] = True"
   ]
  }
 ],
 "metadata": {
  "kernelspec": {
   "display_name": "pyeardream",
   "language": "python",
   "name": "python3"
  },
  "language_info": {
   "codemirror_mode": {
    "name": "ipython",
    "version": 3
   },
   "file_extension": ".py",
   "mimetype": "text/x-python",
   "name": "python",
   "nbconvert_exporter": "python",
   "pygments_lexer": "ipython3",
   "version": "3.11.5"
  }
 },
 "nbformat": 4,
 "nbformat_minor": 2
}
