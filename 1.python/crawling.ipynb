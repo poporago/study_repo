{
 "cells": [
  {
   "cell_type": "code",
   "execution_count": 2,
   "id": "f7c056b2",
   "metadata": {},
   "outputs": [
    {
     "name": "stdout",
     "output_type": "stream",
     "text": [
      "Requirement already satisfied: webdriver_manager in /opt/homebrew/Caskroom/miniconda/base/envs/yeardream/lib/python3.9/site-packages (4.0.0)\n",
      "Requirement already satisfied: requests in /opt/homebrew/Caskroom/miniconda/base/envs/yeardream/lib/python3.9/site-packages (from webdriver_manager) (2.28.1)\n",
      "Requirement already satisfied: python-dotenv in /opt/homebrew/Caskroom/miniconda/base/envs/yeardream/lib/python3.9/site-packages (from webdriver_manager) (1.0.0)\n",
      "Requirement already satisfied: packaging in /opt/homebrew/Caskroom/miniconda/base/envs/yeardream/lib/python3.9/site-packages (from webdriver_manager) (23.0)\n",
      "Requirement already satisfied: charset-normalizer<3,>=2 in /opt/homebrew/Caskroom/miniconda/base/envs/yeardream/lib/python3.9/site-packages (from requests->webdriver_manager) (2.0.4)\n",
      "Requirement already satisfied: idna<4,>=2.5 in /opt/homebrew/Caskroom/miniconda/base/envs/yeardream/lib/python3.9/site-packages (from requests->webdriver_manager) (3.4)\n",
      "Requirement already satisfied: urllib3<1.27,>=1.21.1 in /opt/homebrew/Caskroom/miniconda/base/envs/yeardream/lib/python3.9/site-packages (from requests->webdriver_manager) (1.26.14)\n",
      "Requirement already satisfied: certifi>=2017.4.17 in /opt/homebrew/Caskroom/miniconda/base/envs/yeardream/lib/python3.9/site-packages (from requests->webdriver_manager) (2023.7.22)\n",
      "\u001b[33mDEPRECATION: mecab-python 0.996-ko-0.9.2 has a non-standard version number. pip 23.3 will enforce this behaviour change. A possible replacement is to upgrade to a newer version of mecab-python or contact the author to suggest that they release a version with a conforming version number. Discussion can be found at https://github.com/pypa/pip/issues/12063\u001b[0m\u001b[33m\n",
      "\u001b[0m"
     ]
    }
   ],
   "source": [
    "!pip install webdriver_manager"
   ]
  },
  {
   "cell_type": "code",
   "execution_count": 9,
   "id": "96ed9122",
   "metadata": {},
   "outputs": [
    {
     "ename": "TypeError",
     "evalue": "implicitly_wait() got an unexpected keyword argument 'imte_to_wait'",
     "output_type": "error",
     "traceback": [
      "\u001b[0;31m---------------------------------------------------------------------------\u001b[0m",
      "\u001b[0;31mTypeError\u001b[0m                                 Traceback (most recent call last)",
      "\u001b[1;32m/Users/b12/Desktop/dailystudycode/제목을입력하세요/구글이미지크롤링.ipynb Cell 2\u001b[0m line \u001b[0;36m9\n\u001b[1;32m      <a href='vscode-notebook-cell:/Users/b12/Desktop/dailystudycode/%EC%A0%9C%EB%AA%A9%EC%9D%84%EC%9E%85%EB%A0%A5%ED%95%98%EC%84%B8%EC%9A%94/%EA%B5%AC%EA%B8%80%EC%9D%B4%EB%AF%B8%EC%A7%80%ED%81%AC%EB%A1%A4%EB%A7%81.ipynb#W0sZmlsZQ%3D%3D?line=5'>6</a>\u001b[0m URL \u001b[39m=\u001b[39m \u001b[39m\"\u001b[39m\u001b[39mhttps://www.google.co.kr/imghp?hl=ko\u001b[39m\u001b[39m\"\u001b[39m\n\u001b[1;32m      <a href='vscode-notebook-cell:/Users/b12/Desktop/dailystudycode/%EC%A0%9C%EB%AA%A9%EC%9D%84%EC%9E%85%EB%A0%A5%ED%95%98%EC%84%B8%EC%9A%94/%EA%B5%AC%EA%B8%80%EC%9D%B4%EB%AF%B8%EC%A7%80%ED%81%AC%EB%A1%A4%EB%A7%81.ipynb#W0sZmlsZQ%3D%3D?line=6'>7</a>\u001b[0m driver\u001b[39m.\u001b[39mget(url\u001b[39m=\u001b[39mURL)\n\u001b[0;32m----> <a href='vscode-notebook-cell:/Users/b12/Desktop/dailystudycode/%EC%A0%9C%EB%AA%A9%EC%9D%84%EC%9E%85%EB%A0%A5%ED%95%98%EC%84%B8%EC%9A%94/%EA%B5%AC%EA%B8%80%EC%9D%B4%EB%AF%B8%EC%A7%80%ED%81%AC%EB%A1%A4%EB%A7%81.ipynb#W0sZmlsZQ%3D%3D?line=8'>9</a>\u001b[0m driver\u001b[39m.\u001b[39;49mimplicitly_wait(imte_to_wait\u001b[39m=\u001b[39;49m\u001b[39m10\u001b[39;49m)\n",
      "\u001b[0;31mTypeError\u001b[0m: implicitly_wait() got an unexpected keyword argument 'imte_to_wait'"
     ]
    }
   ],
   "source": [
    "from webdriver_manager.chrome import ChromeDriverManager\n",
    "from selenium import webdriver\n",
    "\n",
    "driver = webdriver.Chrome(ChromeDriverManager().install())\n",
    "\n",
    "URL = \"https://www.google.co.kr/imghp?hl=ko\"\n",
    "driver.get(url=URL)\n",
    "\n",
    "driver.implicitly_wait(time_to_wait=10)ㅎ"
   ]
  },
  {
   "cell_type": "code",
   "execution_count": null,
   "id": "9a788565",
   "metadata": {},
   "outputs": [],
   "source": [
    "from selenium.webdriver.common.keys import Keys\n",
    "\n",
    "elem = driver.find_element_by_css_selector('#islrg > div.islrc > div.isv-r.PNCib.MSM1fd.BUooTd.fT6ABc > a.wXeWr.islib.nfEiy > div.bRMDJf.islir > img')\n",
    "elem.send_keys('바다')\n",
    "elem.send_keys(Keys.RETURN)"
   ]
  },
  {
   "cell_type": "code",
   "execution_count": null,
   "id": "55a7f5bd",
   "metadata": {},
   "outputs": [],
   "source": [
    "import time\n",
    "elem = driver.find_element_by_tag_name(\"body\")\n",
    "for i in range(60):\n",
    "    elem.send_keys(Keys.PAGE_DOWN)\n",
    "    time.sleep(0.1)\n",
    "    \n",
    "try:\n",
    "    driver.find_elements_by_css_selector('css selector 들 입력').click()\n",
    "    \n",
    "    for i in range(60):\n",
    "        elem.send_keys(Keys.PAGE_DOWN)\n",
    "        time.sleep(0.1)\n",
    "        \n",
    "\n",
    "except:\n",
    "    pass\n",
    "    \n"
   ]
  },
  {
   "cell_type": "code",
   "execution_count": null,
   "id": "31ef0401",
   "metadata": {},
   "outputs": [],
   "source": [
    "links = []\n",
    "images = driver.find_element_by_css_selector('')\n",
    "\n",
    "for image in images:\n",
    "    if image.get_attribute('src') in not None:\n",
    "        links.append(image.get_attribute('src'))\n",
    "        \n",
    "        \n",
    "print(\"찾은 이미지 개수:\", len(links))    "
   ]
  },
  {
   "cell_type": "code",
   "execution_count": null,
   "id": "b9d484f8",
   "metadata": {},
   "outputs": [],
   "source": [
    "import urllib.request\n",
    "\n",
    "for k,i in enumerate(links):\n",
    "    url = i\n",
    "    urllib.request.urlretrieve(url,\"save path is here\")\n",
    "    \n",
    "print(\"다운로드 완료\")\n",
    "    "
   ]
  }
 ],
 "metadata": {
  "kernelspec": {
   "display_name": "Python 3 (ipykernel)",
   "language": "python",
   "name": "python3"
  },
  "language_info": {
   "codemirror_mode": {
    "name": "ipython",
    "version": 3
   },
   "file_extension": ".py",
   "mimetype": "text/x-python",
   "name": "python",
   "nbconvert_exporter": "python",
   "pygments_lexer": "ipython3",
   "version": "3.9.16"
  }
 },
 "nbformat": 4,
 "nbformat_minor": 5
}
