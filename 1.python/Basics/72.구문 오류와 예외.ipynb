{
 "cells": [
  {
   "cell_type": "markdown",
   "metadata": {},
   "source": [
    "### 오류(Error)\n",
    "- Syntax Error(Compile Error) : 프로그램 실행 전에 발생하는 오류\n",
    "- Runtime Error(Exception) : 프로그램 실행 중에 발생하는 오류"
   ]
  },
  {
   "cell_type": "code",
   "execution_count": 4,
   "metadata": {},
   "outputs": [
    {
     "ename": "SyntaxError",
     "evalue": "incomplete input (1130382422.py, line 3)",
     "output_type": "error",
     "traceback": [
      "\u001b[1;36m  Cell \u001b[1;32mIn[4], line 3\u001b[1;36m\u001b[0m\n\u001b[1;33m    print(\"구문 오류를 강제로 발생시켜본다.\"\u001b[0m\n\u001b[1;37m                              ^\u001b[0m\n\u001b[1;31mSyntaxError\u001b[0m\u001b[1;31m:\u001b[0m incomplete input\n"
     ]
    }
   ],
   "source": [
    "# Syntax Error(구문 오류)\n",
    "print(\"프로그램이 시작되었습니다!\")\n",
    "print(\"구문 오류를 강제로 발생시켜본다.\"\n",
    "\n",
    "\n",
    "##프로그램 시작전 발생(첫째줄 출력X)하는 것을 알 수 있음, 상대적으로 디버깅이 쉬움"
   ]
  },
  {
   "cell_type": "code",
   "execution_count": 5,
   "metadata": {},
   "outputs": [
    {
     "name": "stdout",
     "output_type": "stream",
     "text": [
      "프로그램이 시작되었습니다!\n"
     ]
    },
    {
     "ename": "NameError",
     "evalue": "name '리스트' is not defined",
     "output_type": "error",
     "traceback": [
      "\u001b[1;31m---------------------------------------------------------------------------\u001b[0m",
      "\u001b[1;31mNameError\u001b[0m                                 Traceback (most recent call last)",
      "Cell \u001b[1;32mIn[5], line 3\u001b[0m\n\u001b[0;32m      1\u001b[0m \u001b[38;5;66;03m# 예외(Exception)\u001b[39;00m\n\u001b[0;32m      2\u001b[0m \u001b[38;5;28mprint\u001b[39m(\u001b[38;5;124m\"\u001b[39m\u001b[38;5;124m프로그램이 시작되었습니다!\u001b[39m\u001b[38;5;124m\"\u001b[39m)\n\u001b[1;32m----> 3\u001b[0m 리스트[\u001b[38;5;241m1\u001b[39m]\n",
      "\u001b[1;31mNameError\u001b[0m: name '리스트' is not defined"
     ]
    }
   ],
   "source": [
    "# 예외(Exception)\n",
    "print(\"프로그램이 시작되었습니다!\")\n",
    "리스트[1]\n",
    "\n",
    "## NameError, ValueError등 의도와 다른 입력이 있을때 발생 , 첫째줄은 실행되는 것을 알 수 있음"
   ]
  }
 ],
 "metadata": {
  "kernelspec": {
   "display_name": "pyeardream",
   "language": "python",
   "name": "python3"
  },
  "language_info": {
   "codemirror_mode": {
    "name": "ipython",
    "version": 3
   },
   "file_extension": ".py",
   "mimetype": "text/x-python",
   "name": "python",
   "nbconvert_exporter": "python",
   "pygments_lexer": "ipython3",
   "version": "3.11.5"
  }
 },
 "nbformat": 4,
 "nbformat_minor": 2
}
