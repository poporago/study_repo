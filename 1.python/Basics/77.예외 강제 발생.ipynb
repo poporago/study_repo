{
 "cells": [
  {
   "cell_type": "code",
   "execution_count": 1,
   "metadata": {},
   "outputs": [
    {
     "ename": "Exception",
     "evalue": "",
     "output_type": "error",
     "traceback": [
      "\u001b[1;31m---------------------------------------------------------------------------\u001b[0m",
      "\u001b[1;31mException\u001b[0m                                 Traceback (most recent call last)",
      "Cell \u001b[1;32mIn[1], line 1\u001b[0m\n\u001b[1;32m----> 1\u001b[0m \u001b[38;5;28;01mraise\u001b[39;00m \u001b[38;5;167;01mException\u001b[39;00m()\n",
      "\u001b[1;31mException\u001b[0m: "
     ]
    }
   ],
   "source": [
    "raise Exception()   #()는 \"생성자\" 라고한다."
   ]
  },
  {
   "cell_type": "code",
   "execution_count": 2,
   "metadata": {},
   "outputs": [
    {
     "ename": "Exception",
     "evalue": "예외를 강제로 발생시킵니다",
     "output_type": "error",
     "traceback": [
      "\u001b[1;31m---------------------------------------------------------------------------\u001b[0m",
      "\u001b[1;31mException\u001b[0m                                 Traceback (most recent call last)",
      "Cell \u001b[1;32mIn[2], line 1\u001b[0m\n\u001b[1;32m----> 1\u001b[0m \u001b[38;5;28;01mraise\u001b[39;00m \u001b[38;5;167;01mException\u001b[39;00m(\u001b[38;5;124m\"\u001b[39m\u001b[38;5;124m예외를 강제로 발생시킵니다\u001b[39m\u001b[38;5;124m\"\u001b[39m)\n",
      "\u001b[1;31mException\u001b[0m: 예외를 강제로 발생시킵니다"
     ]
    }
   ],
   "source": [
    "raise Exception(\"예외를 강제로 발생시킵니다\")"
   ]
  },
  {
   "cell_type": "markdown",
   "metadata": {},
   "source": [
    "예외를 강제로 발생시키는 이유는, 다른 개발자에게 '정보'를 전달하기 위해서이다."
   ]
  },
  {
   "cell_type": "code",
   "execution_count": null,
   "metadata": {},
   "outputs": [],
   "source": [
    "# 미구현 정보 전달의 예\n",
    "\n",
    "num = input(\"정수를 입력해주세요 :\")\n",
    "num = int(num)\n",
    "\n",
    "if num > 0 :\n",
    "    print(\"양수입니다\")\n",
    "elif num == 0 :\n",
    "    raise Exception(\"아직 구현되지 않았습니다\")\n",
    "else :\n",
    "    raise Exception(\"아직 구현되지 않았습니다\")\n"
   ]
  },
  {
   "cell_type": "code",
   "execution_count": null,
   "metadata": {},
   "outputs": [],
   "source": [
    "# NotImplementedError를 사용함으로써 좀 더 명시적으로 전달 할 수 있다.\n",
    "\n",
    "num = input(\"정수를 입력해주세요 :\")\n",
    "num = int(num)\n",
    "\n",
    "if num > 0 :\n",
    "    print(\"양수입니다\")\n",
    "elif num == 0 :\n",
    "    raise NotImplementedError(\"아직 구현되지 않았습니다\")\n",
    "else :\n",
    "    raise NotImplementedError(\"아직 구현되지 않았습니다\")"
   ]
  },
  {
   "cell_type": "code",
   "execution_count": 3,
   "metadata": {},
   "outputs": [
    {
     "ename": "Exception",
     "evalue": "너비와 높이는 양수여야 합니다.",
     "output_type": "error",
     "traceback": [
      "\u001b[1;31m---------------------------------------------------------------------------\u001b[0m",
      "\u001b[1;31mException\u001b[0m                                 Traceback (most recent call last)",
      "Cell \u001b[1;32mIn[3], line 8\u001b[0m\n\u001b[0;32m      5\u001b[0m         \u001b[38;5;28;01mraise\u001b[39;00m \u001b[38;5;167;01mException\u001b[39;00m(\u001b[38;5;124m\"\u001b[39m\u001b[38;5;124m너비와 높이는 양수여야 합니다.\u001b[39m\u001b[38;5;124m\"\u001b[39m)\n\u001b[0;32m      6\u001b[0m     \u001b[38;5;28;01mreturn\u001b[39;00m 너비 \u001b[38;5;241m*\u001b[39m 높이\n\u001b[1;32m----> 8\u001b[0m \u001b[38;5;28mprint\u001b[39m(사각형넓이구하기(\u001b[38;5;241m0\u001b[39m,\u001b[38;5;241m-\u001b[39m\u001b[38;5;241m1\u001b[39m))\n",
      "Cell \u001b[1;32mIn[3], line 5\u001b[0m, in \u001b[0;36m사각형넓이구하기\u001b[1;34m(너비, 높이)\u001b[0m\n\u001b[0;32m      3\u001b[0m \u001b[38;5;28;01mdef\u001b[39;00m \u001b[38;5;21m사각형넓이구하기\u001b[39m(너비, 높이):\n\u001b[0;32m      4\u001b[0m     \u001b[38;5;28;01mif\u001b[39;00m 너비 \u001b[38;5;241m<\u001b[39m\u001b[38;5;241m=\u001b[39m \u001b[38;5;241m0\u001b[39m \u001b[38;5;129;01mor\u001b[39;00m 높이 \u001b[38;5;241m<\u001b[39m\u001b[38;5;241m=\u001b[39m \u001b[38;5;241m0\u001b[39m :\n\u001b[1;32m----> 5\u001b[0m         \u001b[38;5;28;01mraise\u001b[39;00m \u001b[38;5;167;01mException\u001b[39;00m(\u001b[38;5;124m\"\u001b[39m\u001b[38;5;124m너비와 높이는 양수여야 합니다.\u001b[39m\u001b[38;5;124m\"\u001b[39m)\n\u001b[0;32m      6\u001b[0m     \u001b[38;5;28;01mreturn\u001b[39;00m 너비 \u001b[38;5;241m*\u001b[39m 높이\n",
      "\u001b[1;31mException\u001b[0m: 너비와 높이는 양수여야 합니다."
     ]
    }
   ],
   "source": [
    "# 이렇게 하면 안된다의 예\n",
    "\n",
    "def 사각형넓이구하기(너비, 높이):\n",
    "    if 너비 <= 0 or 높이 <= 0 :\n",
    "        raise Exception(\"너비와 높이는 양수여야 합니다.\")\n",
    "    return 너비 * 높이\n",
    "\n",
    "print(사각형넓이구하기(0,-1))"
   ]
  },
  {
   "cell_type": "code",
   "execution_count": 4,
   "metadata": {},
   "outputs": [
    {
     "ename": "ValueError",
     "evalue": "너비와 높이는 양수여야 합니다.",
     "output_type": "error",
     "traceback": [
      "\u001b[1;31m---------------------------------------------------------------------------\u001b[0m",
      "\u001b[1;31mValueError\u001b[0m                                Traceback (most recent call last)",
      "Cell \u001b[1;32mIn[4], line 6\u001b[0m\n\u001b[0;32m      3\u001b[0m         \u001b[38;5;28;01mraise\u001b[39;00m \u001b[38;5;167;01mValueError\u001b[39;00m(\u001b[38;5;124m\"\u001b[39m\u001b[38;5;124m너비와 높이는 양수여야 합니다.\u001b[39m\u001b[38;5;124m\"\u001b[39m)\n\u001b[0;32m      4\u001b[0m     \u001b[38;5;28;01mreturn\u001b[39;00m 너비 \u001b[38;5;241m*\u001b[39m 높이\n\u001b[1;32m----> 6\u001b[0m \u001b[38;5;28mprint\u001b[39m(사각형넓이구하기(\u001b[38;5;241m0\u001b[39m,\u001b[38;5;241m-\u001b[39m\u001b[38;5;241m1\u001b[39m))\n",
      "Cell \u001b[1;32mIn[4], line 3\u001b[0m, in \u001b[0;36m사각형넓이구하기\u001b[1;34m(너비, 높이)\u001b[0m\n\u001b[0;32m      1\u001b[0m \u001b[38;5;28;01mdef\u001b[39;00m \u001b[38;5;21m사각형넓이구하기\u001b[39m(너비, 높이):\n\u001b[0;32m      2\u001b[0m     \u001b[38;5;28;01mif\u001b[39;00m 너비 \u001b[38;5;241m<\u001b[39m\u001b[38;5;241m=\u001b[39m \u001b[38;5;241m0\u001b[39m \u001b[38;5;129;01mor\u001b[39;00m 높이 \u001b[38;5;241m<\u001b[39m\u001b[38;5;241m=\u001b[39m \u001b[38;5;241m0\u001b[39m :\n\u001b[1;32m----> 3\u001b[0m         \u001b[38;5;28;01mraise\u001b[39;00m \u001b[38;5;167;01mValueError\u001b[39;00m(\u001b[38;5;124m\"\u001b[39m\u001b[38;5;124m너비와 높이는 양수여야 합니다.\u001b[39m\u001b[38;5;124m\"\u001b[39m)\n\u001b[0;32m      4\u001b[0m     \u001b[38;5;28;01mreturn\u001b[39;00m 너비 \u001b[38;5;241m*\u001b[39m 높이\n",
      "\u001b[1;31mValueError\u001b[0m: 너비와 높이는 양수여야 합니다."
     ]
    },
    {
     "ename": "",
     "evalue": "",
     "output_type": "error",
     "traceback": [
      "\u001b[1;31mThe Kernel crashed while executing code in the current cell or a previous cell. \n",
      "\u001b[1;31mPlease review the code in the cell(s) to identify a possible cause of the failure. \n",
      "\u001b[1;31mClick <a href='https://aka.ms/vscodeJupyterKernelCrash'>here</a> for more info. \n",
      "\u001b[1;31mView Jupyter <a href='command:jupyter.viewOutput'>log</a> for further details."
     ]
    }
   ],
   "source": [
    "def 사각형넓이구하기(너비, 높이):\n",
    "    if 너비 <= 0 or 높이 <= 0 :\n",
    "        raise ValueError(\"너비와 높이는 양수여야 합니다.\")\n",
    "    return 너비 * 높이\n",
    "\n",
    "print(사각형넓이구하기(0,-1))"
   ]
  }
 ],
 "metadata": {
  "kernelspec": {
   "display_name": "pyeardream",
   "language": "python",
   "name": "python3"
  },
  "language_info": {
   "codemirror_mode": {
    "name": "ipython",
    "version": 3
   },
   "file_extension": ".py",
   "mimetype": "text/x-python",
   "name": "python",
   "nbconvert_exporter": "python",
   "pygments_lexer": "ipython3",
   "version": "undefined.undefined.undefined"
  }
 },
 "nbformat": 4,
 "nbformat_minor": 2
}
