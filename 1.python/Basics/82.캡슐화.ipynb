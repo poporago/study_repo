{
 "cells": [
  {
   "cell_type": "code",
   "execution_count": 3,
   "metadata": {},
   "outputs": [],
   "source": [
    "# 캡슐화\n",
    "# 객체를 사용하는 사람이 허튼짓 못하게 변수와 함수를 숨기는 작업\n",
    "# 인스턴수 변수와 인스턴스 함수 앞에 __를 붙이면 된다.\n",
    "\n",
    "class Circle:\n",
    "    def __init__(self,반지름):\n",
    "        self.반지름 = 반지름\n",
    "        self.파이 = 3.14\n",
    "    def 둘레(self):\n",
    "        return 2 * 3.14 * self.반지름\n",
    "    def 넓이(self):\n",
    "        return self.파이 * ( self.반지름 ** 2)"
   ]
  },
  {
   "cell_type": "code",
   "execution_count": 5,
   "metadata": {},
   "outputs": [
    {
     "name": "stdout",
     "output_type": "stream",
     "text": [
      "62.800000000000004\n",
      "314.0\n"
     ]
    }
   ],
   "source": [
    "circle = Circle(10)\n",
    "print(circle.둘레())\n",
    "print(circle.넓이())"
   ]
  },
  {
   "cell_type": "code",
   "execution_count": 6,
   "metadata": {},
   "outputs": [
    {
     "name": "stdout",
     "output_type": "stream",
     "text": [
      "-62.800000000000004\n",
      "314.0\n"
     ]
    }
   ],
   "source": [
    "circle = Circle(-10)  # -10은 입력받지 않아야 하는데 가능한 상황\n",
    "print(circle.둘레())\n",
    "print(circle.넓이())"
   ]
  },
  {
   "cell_type": "code",
   "execution_count": 7,
   "metadata": {},
   "outputs": [],
   "source": [
    "class Circle:\n",
    "    def __init__(self,반지름):\n",
    "        if 반지름 < 0 :\n",
    "            raise TypeError(\"반지름은 0이상이여야 합니다.\")\n",
    "        self.반지름 = 반지름\n",
    "        self.파이 = 3.14\n",
    "    def 둘레(self):\n",
    "        return 2 * 3.14 * self.반지름\n",
    "    def 넓이(self):\n",
    "        return self.파이 * ( self.반지름 ** 2)"
   ]
  },
  {
   "cell_type": "code",
   "execution_count": 8,
   "metadata": {},
   "outputs": [
    {
     "ename": "TypeError",
     "evalue": "반지름은 0이상이여야 합니다.",
     "output_type": "error",
     "traceback": [
      "\u001b[1;31m---------------------------------------------------------------------------\u001b[0m",
      "\u001b[1;31mTypeError\u001b[0m                                 Traceback (most recent call last)",
      "Cell \u001b[1;32mIn[8], line 1\u001b[0m\n\u001b[1;32m----> 1\u001b[0m circle \u001b[38;5;241m=\u001b[39m Circle(\u001b[38;5;241m-\u001b[39m\u001b[38;5;241m10\u001b[39m)  \u001b[38;5;66;03m# -10은 입력받지 않아야 하는데 가능한 상황\u001b[39;00m\n\u001b[0;32m      2\u001b[0m \u001b[38;5;28mprint\u001b[39m(circle\u001b[38;5;241m.\u001b[39m둘레())\n\u001b[0;32m      3\u001b[0m \u001b[38;5;28mprint\u001b[39m(circle\u001b[38;5;241m.\u001b[39m넓이())\n",
      "Cell \u001b[1;32mIn[7], line 4\u001b[0m, in \u001b[0;36mCircle.__init__\u001b[1;34m(self, 반지름)\u001b[0m\n\u001b[0;32m      2\u001b[0m \u001b[38;5;28;01mdef\u001b[39;00m \u001b[38;5;21m__init__\u001b[39m(\u001b[38;5;28mself\u001b[39m,반지름):\n\u001b[0;32m      3\u001b[0m     \u001b[38;5;28;01mif\u001b[39;00m 반지름 \u001b[38;5;241m<\u001b[39m \u001b[38;5;241m0\u001b[39m :\n\u001b[1;32m----> 4\u001b[0m         \u001b[38;5;28;01mraise\u001b[39;00m \u001b[38;5;167;01mTypeError\u001b[39;00m(\u001b[38;5;124m\"\u001b[39m\u001b[38;5;124m반지름은 0이상이여야 합니다.\u001b[39m\u001b[38;5;124m\"\u001b[39m)\n\u001b[0;32m      5\u001b[0m     \u001b[38;5;28mself\u001b[39m\u001b[38;5;241m.\u001b[39m반지름 \u001b[38;5;241m=\u001b[39m 반지름\n\u001b[0;32m      6\u001b[0m     \u001b[38;5;28mself\u001b[39m\u001b[38;5;241m.\u001b[39m파이 \u001b[38;5;241m=\u001b[39m \u001b[38;5;241m3.14\u001b[39m\n",
      "\u001b[1;31mTypeError\u001b[0m: 반지름은 0이상이여야 합니다."
     ]
    }
   ],
   "source": [
    "circle = Circle(-10)  # -10은 입력받지 않아야 하는데 가능한 상황\n",
    "print(circle.둘레())\n",
    "print(circle.넓이())"
   ]
  },
  {
   "cell_type": "code",
   "execution_count": 10,
   "metadata": {},
   "outputs": [
    {
     "name": "stdout",
     "output_type": "stream",
     "text": [
      "-62.800000000000004\n",
      "314.0\n"
     ]
    }
   ],
   "source": [
    "circle = Circle(10) \n",
    "circle.반지름 = -10  #그러나 여전히 인스턴스 변수를 할당함으로써 음수에 대한 접근이 가능하게 됨.\n",
    "print(circle.둘레())\n",
    "print(circle.넓이())"
   ]
  },
  {
   "cell_type": "code",
   "execution_count": 11,
   "metadata": {},
   "outputs": [],
   "source": [
    "class Circle:\n",
    "    def __init__(self,반지름):\n",
    "        if 반지름 < 0 :\n",
    "            raise TypeError(\"반지름은 0이상이여야 합니다.\")\n",
    "        self.__반지름 = 반지름   # private 변수 정의\n",
    "        self.파이 = 3.14\n",
    "    def 둘레(self):\n",
    "        return 2 * 3.14 * self.__반지름\n",
    "    def 넓이(self):\n",
    "        return self.파이 * ( self.__반지름 ** 2)"
   ]
  },
  {
   "cell_type": "code",
   "execution_count": 12,
   "metadata": {},
   "outputs": [
    {
     "name": "stdout",
     "output_type": "stream",
     "text": [
      "62.800000000000004\n",
      "314.0\n"
     ]
    }
   ],
   "source": [
    "circle = Circle(10) \n",
    "circle.반지름 = -10  ## __반지름과는 다른 녀석임\n",
    "print(circle.둘레())\n",
    "print(circle.넓이())"
   ]
  },
  {
   "cell_type": "code",
   "execution_count": 13,
   "metadata": {},
   "outputs": [],
   "source": [
    "# __반지름에 대한 접근과 확인은 어떻게 할까? -> 변수에 대한 접근은 불가능하지만 함수를 사용해서 접근은 가능하다 :  겟터와 셋터\n",
    "\n",
    "class Circle:\n",
    "    def __init__(self,반지름):\n",
    "        if 반지름 < 0 :\n",
    "            raise TypeError(\"반지름은 0이상이여야 합니다.\")\n",
    "        self.__반지름 = 반지름   # private 변수 정의\n",
    "        self.__파이 = 3.14\n",
    "\n",
    "    def get_반지름(self):\n",
    "        return self.__반지름\n",
    "    \n",
    "    def set_반지름(self,value):\n",
    "        self.__반지름 = value\n",
    "            \n",
    "    def 둘레(self):\n",
    "        return 2 * 3.14 * self.__반지름\n",
    "    def 넓이(self):\n",
    "        return self.__파이 * ( self.__반지름 ** 2)"
   ]
  },
  {
   "cell_type": "code",
   "execution_count": 14,
   "metadata": {},
   "outputs": [
    {
     "name": "stdout",
     "output_type": "stream",
     "text": [
      "125.60000000000001\n",
      "1256.0\n"
     ]
    }
   ],
   "source": [
    "circle = Circle(10) \n",
    "circle.set_반지름(20)\n",
    "print(circle.둘레())\n",
    "print(circle.넓이())\n",
    "\n",
    "# 게터와 세터는 필요에 따라서 구현하면 된다. 아예 빼버려서 접근이 불가능하게 할 수도 있는 것"
   ]
  },
  {
   "cell_type": "code",
   "execution_count": null,
   "metadata": {},
   "outputs": [],
   "source": [
    "# 정리 \n",
    "# (1) 인스턴스 변수와 함수 앞에 __를 붙이면 외부로부터 숨길 수 있다.\n",
    "# (2) 그러면 외부에서 \"부정한 값\"이 들어오는 것을 막을 수 있다.\n",
    "# (3) 즉 \"잘못된 객체\"가 존재하는 것 자체를 막을 수 있다.\n",
    "# (4) 그러면 버그의 발생을 차단할 수 있다.\n",
    "# (5) 유지보수성이 좋아진다."
   ]
  }
 ],
 "metadata": {
  "kernelspec": {
   "display_name": "pyeardream",
   "language": "python",
   "name": "python3"
  },
  "language_info": {
   "codemirror_mode": {
    "name": "ipython",
    "version": 3
   },
   "file_extension": ".py",
   "mimetype": "text/x-python",
   "name": "python",
   "nbconvert_exporter": "python",
   "pygments_lexer": "ipython3",
   "version": "3.11.5"
  }
 },
 "nbformat": 4,
 "nbformat_minor": 2
}
