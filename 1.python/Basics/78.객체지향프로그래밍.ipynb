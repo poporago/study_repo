{
 "cells": [
  {
   "cell_type": "code",
   "execution_count": null,
   "metadata": {},
   "outputs": [],
   "source": [
    "# 1. 프로그래밍 패러다임이란 무엇인가?\n",
    "# 2. 어떤 패러다임들이 있는가?\n",
    "# 3. 어떤 문제를 해결하기 위해 객체지향 프로그래밍이 등장했는가?"
   ]
  },
  {
   "cell_type": "code",
   "execution_count": null,
   "metadata": {},
   "outputs": [],
   "source": [
    "# 1. 프로그래밍 패러다임이란 무엇인가?\n",
    "## 더 좋은 프로그래밍이란 무엇인가? 라는 이상적인 것에 대해 다가가는 방법"
   ]
  },
  {
   "cell_type": "code",
   "execution_count": null,
   "metadata": {},
   "outputs": [],
   "source": [
    "# 2. 어떤 패러다임들이 있는가?\n",
    "\n",
    "# 명령형 프로그래밍\n",
    "##  명령문을 사용해서\n",
    "## 프로그램이 어떠한 동작을 할지 순서대로 나열하여 프로그램을 만들면 더 좋은 프로그램을 만들 수 있을 것이다.\n",
    "\n",
    "# 선언형 프로그래밍\n",
    "## HTML \n",
    "## <h1> 제목</h1> \n",
    "## cf) \"저는 HTML을 이용해서 프로그래밍을 해요.\"\"\n",
    "\n",
    "# 절차적 프로그래밍\n",
    "## 서브루틴, 프로시저, 함수\n",
    "## 같은 코드를 여러 번 작성하지 말고 함수를 만들어서 사용하자!\n",
    "## GOTO 구문, JUMP 구문을 사용하지 말고 함수를 사용하자.!\n",
    "\n",
    "# 함수형 프로그래밍\n",
    "## 함수는 수학적 개념임으로 순수 함수를 사용해야 한다.\n",
    "\n",
    "# 객체 지향 프로그래밍\n",
    "## - 더 좋은 프로그램 : 규모가 큰 프로그램\n",
    "## - 변수와 함수를 묶어서 하나의 묶음으로 만들면 더 좋은 프로그램을 만들 수 있을 것이다.\n",
    "\n",
    "\n",
    "\n",
    "### ->파이썬은 패러다임을 섞어서 만든 프로그래밍 언어"
   ]
  },
  {
   "cell_type": "code",
   "execution_count": null,
   "metadata": {},
   "outputs": [],
   "source": [
    "# 함수가 너무 많아서 발생한 폐해\n",
    "\n",
    "## - 무엇이 어떤 기능을 하는 함수인지 모름\n",
    "## - 어떤 함수가 존재하는지 찾기도 힘듦\n",
    "## - 함수를 변경하려는데, 영향 범위를 추적하는 것이 힘듦\n",
    "## - 대규모로 만드는 것이 아주 힘들었다.\n",
    "\n",
    "\n",
    "## 서점의 예 - > 카테고리를 묶어서 책을 소개\n",
    "## 함수를 -> 카테고리로 묶자. 영향범위도 추적하기 용이"
   ]
  },
  {
   "cell_type": "code",
   "execution_count": null,
   "metadata": {},
   "outputs": [],
   "source": [
    "# 카테고리를 묶는 방법\n",
    "## 관심사 기반 \n",
    "## Math.PI\n",
    "## Math.abs()\n",
    "## Math.sin()\n",
    "## Math.cos()\n",
    "\n",
    "## 주어를 기반으로 변수/함수를 모으면 어떨까?\n",
    "## I.Love(YoU)   주어(객체)"
   ]
  }
 ],
 "metadata": {
  "kernelspec": {
   "display_name": "pyeardream",
   "language": "python",
   "name": "python3"
  },
  "language_info": {
   "name": "python",
   "version": "3.11.5"
  }
 },
 "nbformat": 4,
 "nbformat_minor": 2
}
