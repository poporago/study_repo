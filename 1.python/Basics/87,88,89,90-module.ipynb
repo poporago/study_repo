{
 "cells": [
  {
   "cell_type": "code",
   "execution_count": 1,
   "metadata": {},
   "outputs": [
    {
     "name": "stdout",
     "output_type": "stream",
     "text": [
      "['c:\\\\Users\\\\dideo\\\\yeardreamsc\\\\study_repo\\\\python', 'c:\\\\Users\\\\dideo\\\\.conda\\\\envs\\\\pyeardream\\\\python311.zip', 'c:\\\\Users\\\\dideo\\\\.conda\\\\envs\\\\pyeardream\\\\DLLs', 'c:\\\\Users\\\\dideo\\\\.conda\\\\envs\\\\pyeardream\\\\Lib', 'c:\\\\Users\\\\dideo\\\\.conda\\\\envs\\\\pyeardream', '', 'c:\\\\Users\\\\dideo\\\\.conda\\\\envs\\\\pyeardream\\\\Lib\\\\site-packages', 'c:\\\\Users\\\\dideo\\\\.conda\\\\envs\\\\pyeardream\\\\Lib\\\\site-packages\\\\win32', 'c:\\\\Users\\\\dideo\\\\.conda\\\\envs\\\\pyeardream\\\\Lib\\\\site-packages\\\\win32\\\\lib', 'c:\\\\Users\\\\dideo\\\\.conda\\\\envs\\\\pyeardream\\\\Lib\\\\site-packages\\\\Pythonwin']\n"
     ]
    }
   ],
   "source": [
    "import sys\n",
    "import math\n",
    "\n",
    "print(sys.path) # 1.파일 경로  2.환경 변수에 등록된 모듈의 경로"
   ]
  },
  {
   "cell_type": "code",
   "execution_count": null,
   "metadata": {},
   "outputs": [],
   "source": []
  }
 ],
 "metadata": {
  "kernelspec": {
   "display_name": "pyeardream",
   "language": "python",
   "name": "python3"
  },
  "language_info": {
   "codemirror_mode": {
    "name": "ipython",
    "version": 3
   },
   "file_extension": ".py",
   "mimetype": "text/x-python",
   "name": "python",
   "nbconvert_exporter": "python",
   "pygments_lexer": "ipython3",
   "version": "3.11.5"
  }
 },
 "nbformat": 4,
 "nbformat_minor": 2
}
