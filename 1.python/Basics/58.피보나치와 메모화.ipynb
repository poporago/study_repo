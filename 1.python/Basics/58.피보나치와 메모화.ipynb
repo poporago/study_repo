{
 "cells": [
  {
   "cell_type": "code",
   "execution_count": 1,
   "metadata": {},
   "outputs": [],
   "source": [
    "# 피보나치 수열\n",
    "\n",
    "def f(n):\n",
    "    if n ==1 :\n",
    "        return 1\n",
    "    elif n ==2 :\n",
    "        return 1\n",
    "    else : \n",
    "        return f(n-1) + f(n-2)"
   ]
  },
  {
   "cell_type": "code",
   "execution_count": 2,
   "metadata": {},
   "outputs": [],
   "source": [
    "# 피보나치 수열 -> 재귀함수에서 반복되는 계산을 메모화로 처리한다.\n",
    "\n",
    "memo = {}\n",
    "def f(n):\n",
    "\n",
    "    if n in memo:\n",
    "        return memo[n]\n",
    "\n",
    "    if n ==1 : \n",
    "        return 1\n",
    "    elif n ==2 :\n",
    "        return 1 \n",
    "    else : \n",
    "        temp = f(n-1) + f(n-2)\n",
    "        memo[n] = temp\n",
    "        return temp"
   ]
  },
  {
   "cell_type": "code",
   "execution_count": 3,
   "metadata": {},
   "outputs": [],
   "source": [
    "# 간결한 처리를 위해 미리 메모를 적어주기\n",
    "\n",
    "memo = {1 : 1, 2: 1}\n",
    "def f(n):\n",
    "    if n in memo:\n",
    "        return memo[n]\n",
    "    else : \n",
    "        temp = f(n-1) + f(n-2)\n",
    "        memo[n] = temp\n",
    "        return temp"
   ]
  },
  {
   "cell_type": "code",
   "execution_count": null,
   "metadata": {},
   "outputs": [],
   "source": []
  }
 ],
 "metadata": {
  "kernelspec": {
   "display_name": "pyeardream",
   "language": "python",
   "name": "python3"
  },
  "language_info": {
   "codemirror_mode": {
    "name": "ipython",
    "version": 3
   },
   "file_extension": ".py",
   "mimetype": "text/x-python",
   "name": "python",
   "nbconvert_exporter": "python",
   "pygments_lexer": "ipython3",
   "version": "3.11.5"
  }
 },
 "nbformat": 4,
 "nbformat_minor": 2
}
