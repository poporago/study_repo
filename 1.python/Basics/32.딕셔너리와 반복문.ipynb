{
 "cells": [
  {
   "cell_type": "markdown",
   "metadata": {},
   "source": [
    "딕셔너리도 반복문을 활용할 수 있다."
   ]
  },
  {
   "cell_type": "code",
   "execution_count": 1,
   "metadata": {},
   "outputs": [],
   "source": [
    "product = {\n",
    "    \"제품명\" : \"건망고 슬라이스\",\n",
    "    \"가격\" : 4000,\n",
    "    \"분류\" : \"식품\",\n",
    "    \"원산지\" : \"태국\"\n",
    "}"
   ]
  },
  {
   "cell_type": "code",
   "execution_count": 2,
   "metadata": {},
   "outputs": [
    {
     "name": "stdout",
     "output_type": "stream",
     "text": [
      "제품명\n",
      "건망고 슬라이스\n",
      "--------------------\n",
      "가격\n",
      "4000\n",
      "--------------------\n",
      "분류\n",
      "식품\n",
      "--------------------\n",
      "원산지\n",
      "태국\n",
      "--------------------\n"
     ]
    }
   ],
   "source": [
    "for key in product:\n",
    "    print(key)\n",
    "    print(product[key])\n",
    "    print(\"-\" * 20)"
   ]
  },
  {
   "cell_type": "code",
   "execution_count": null,
   "metadata": {},
   "outputs": [],
   "source": []
  }
 ],
 "metadata": {
  "kernelspec": {
   "display_name": "pyeardream",
   "language": "python",
   "name": "python3"
  },
  "language_info": {
   "codemirror_mode": {
    "name": "ipython",
    "version": 3
   },
   "file_extension": ".py",
   "mimetype": "text/x-python",
   "name": "python",
   "nbconvert_exporter": "python",
   "pygments_lexer": "ipython3",
   "version": "3.11.5"
  }
 },
 "nbformat": 4,
 "nbformat_minor": 2
}
