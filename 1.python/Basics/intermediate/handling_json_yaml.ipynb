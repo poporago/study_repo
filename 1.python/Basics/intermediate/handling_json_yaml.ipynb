{
 "cells": [
  {
   "cell_type": "markdown",
   "metadata": {},
   "source": [
    "JSON(JavaScript Object Notation)은 XML, YAML과 함께 효율적으로 데이터를 저장하고 교환하는데 사용하는 텍스트 데이터 포맷중 하나이다. JSON은 사람이 읽고 쓰기에 쉬우며, 또한 기계가 파싱하고 생성하기에도 매우 쉽다. JSON은 그 이름에서 유추할 수 있듯이 JavaScript의 프로그래밍 언어의 부분에 기반하고 있으며, C-family 프로그래밍 언어 (C, C++, C#, Java, JavaScript, Perl, Python 등)의 규약을 따르고 있어서 C-family 프로그래밍 언어 간 데이터를 교환하는데 적합하다.\n",
    "\n",
    "<br>\n",
    "JSON은 아래의 두개의 구조로 이루어져 있다 <br>\n",
    "- 이름/값 쌍의 집합(A collection of name/value paris) <br>\n",
    "- 정렬된 값의 리스트 (An ordered list of values)"
   ]
  },
  {
   "cell_type": "code",
   "execution_count": 1,
   "metadata": {},
   "outputs": [],
   "source": [
    "# (1) Python 객체를 JSOn 데이터로 쓰기, 직렬화, 인코딩 (Write Python object to JSON, Serialization, Encoding)\n",
    "# (2) JSON 포맷 데이터를 Python 객체로 읽기, 역직렬화, 디코딩 (Read JSON to Python, Deserialization, Decoding)"
   ]
  },
  {
   "cell_type": "code",
   "execution_count": 1,
   "metadata": {},
   "outputs": [],
   "source": [
    "py_dict = {    \"1.FirstName\": \"Gildong\",\n",
    "    \"2.LastName\": \"Hong\",\n",
    "    \"3.Age\": 20,\n",
    "    \"4.University\": \"Awesome University\",\n",
    "    \"5.Courses\": [\n",
    "        {\n",
    "            \"Classes\": [\n",
    "                \"Probability\",\n",
    "                \"Generalized Linear Model\",\n",
    "                \"Categorical Data Analysis\"\n",
    "            ],\n",
    "            \"Major\": \"Statistics\"\n",
    "        },\n",
    "        {\n",
    "            \"Classes\": [\n",
    "                \"Data Structure\",\n",
    "                \"Programming\",\n",
    "                \"Algorithms\"\n",
    "            ],\n",
    "            \"Minor\": \"ComputerScience\"\n",
    "        }\n",
    "    ]\n",
    "}\n"
   ]
  },
  {
   "cell_type": "code",
   "execution_count": 5,
   "metadata": {},
   "outputs": [],
   "source": [
    "# 1-1 json.dump()를 사용해서 파이썬 객체를 json포맷 데이터를 디스크에 json 파일로 쓰기 \n",
    "## 주의 dump! not dumps ##\n",
    "\n",
    "import json\n",
    "\n",
    "with open('./my_json.json','w') as json_file:\n",
    "    json.dump(py_dict, json_file)"
   ]
  },
  {
   "cell_type": "code",
   "execution_count": 9,
   "metadata": {},
   "outputs": [
    {
     "name": "stdout",
     "output_type": "stream",
     "text": [
      "<class 'str'>\n",
      "=======\n",
      "{\"1.FirstName\": \"Gildong\", \"2.LastName\": \"Hong\", \"3.Age\": 20, \"4.University\": \"Awesome University\", \"5.Courses\": [{\"Classes\": [\"Probability\", \"Generalized Linear Model\", \"Categorical Data Analysis\"], \"Major\": \"Statistics\"}, {\"Classes\": [\"Data Structure\", \"Programming\", \"Algorithms\"], \"Minor\": \"ComputerScience\"}]}\n"
     ]
    }
   ],
   "source": [
    "# 1-2. json.dumps()를 사용해서 JSON 포맷 데이터를 메모리에 만들기\n",
    "import json\n",
    "\n",
    "json_object = json.dumps(py_dict)  # json.dumps()는 1 argument를 받고 python object를 json_object <'str'>로 만든다., s는 string의 약자임\n",
    "print(type(json_object))\n",
    "print('=======')\n",
    "print(json_object) # type <'str'>"
   ]
  },
  {
   "cell_type": "code",
   "execution_count": 7,
   "metadata": {},
   "outputs": [
    {
     "name": "stdout",
     "output_type": "stream",
     "text": [
      "{\n",
      "    \"1.FirstName\": \"Gildong\",\n",
      "    \"2.LastName\": \"Hong\",\n",
      "    \"3.Age\": 20,\n",
      "    \"4.University\": \"Awesome University\",\n",
      "    \"5.Courses\": [\n",
      "        {\n",
      "            \"Classes\": [\n",
      "                \"Probability\",\n",
      "                \"Generalized Linear Model\",\n",
      "                \"Categorical Data Analysis\"\n",
      "            ],\n",
      "            \"Major\": \"Statistics\"\n",
      "        },\n",
      "        {\n",
      "            \"Classes\": [\n",
      "                \"Data Structure\",\n",
      "                \"Programming\",\n",
      "                \"Algorithms\"\n",
      "            ],\n",
      "            \"Minor\": \"ComputerScience\"\n",
      "        }\n",
      "    ]\n",
      "}\n"
     ]
    }
   ],
   "source": [
    "# json.dumps 의 indent option\n",
    "\n",
    "import json\n",
    "\n",
    "json_object = json.dumps(my_dict, indent=4)\n",
    "print(json_object) # type <'str'>"
   ]
  },
  {
   "cell_type": "code",
   "execution_count": 10,
   "metadata": {},
   "outputs": [
    {
     "name": "stdout",
     "output_type": "stream",
     "text": [
      "{\n",
      "    \"1.FirstName\": \"Gildong\",\n",
      "    \"2.LastName\": \"Hong\",\n",
      "    \"3.Age\": 20,\n",
      "    \"4.University\": \"Awesome University\",\n",
      "    \"5.Courses\": [\n",
      "        {\n",
      "            \"Classes\": [\n",
      "                \"Probability\",\n",
      "                \"Generalized Linear Model\",\n",
      "                \"Categorical Data Analysis\"\n",
      "            ],\n",
      "            \"Major\": \"Statistics\"\n",
      "        },\n",
      "        {\n",
      "            \"Classes\": [\n",
      "                \"Data Structure\",\n",
      "                \"Programming\",\n",
      "                \"Algorithms\"\n",
      "            ],\n",
      "            \"Minor\": \"ComputerScience\"\n",
      "        }\n",
      "    ]\n",
      "}\n"
     ]
    }
   ],
   "source": [
    "# 또한 sort_keys=True 옵션을 통해 키(keys)를 기준으로 정렬해서 직렬화 하여 내보닐 수도 있다.\n",
    "import json\n",
    "json_object2 = json.dumps(my_dict, indent=4, sort_keys=True)\n",
    "print(json_object2)"
   ]
  },
  {
   "cell_type": "markdown",
   "metadata": {},
   "source": [
    "정리하면 json.dump()는 JSON문자열을 파일에 직접 쓰기 위해 사용하고, \n",
    "<br>json.dumps()는 JSON 문자열을 생성한 뒤 반환하여 파이썬 내 다른 곳에서 이용하기 위해서 쓴다."
   ]
  },
  {
   "cell_type": "code",
   "execution_count": 13,
   "metadata": {},
   "outputs": [
    {
     "data": {
      "text/plain": [
       "{'1.FirstName': 'Gildong',\n",
       " '2.LastName': 'Hong',\n",
       " '3.Age': 20,\n",
       " '4.University': 'Awesome University',\n",
       " '5.Courses': [{'Classes': ['Probability',\n",
       "    'Generalized Linear Model',\n",
       "    'Categorical Data Analysis'],\n",
       "   'Major': 'Statistics'},\n",
       "  {'Classes': ['Data Structure', 'Programming', 'Algorithms'],\n",
       "   'Minor': 'ComputerScience'}]}"
      ]
     },
     "execution_count": 13,
     "metadata": {},
     "output_type": "execute_result"
    }
   ],
   "source": [
    "# (2) JSON 포맷 데이터를 Python 객체로 읽기, 역직렬화, 디코딩 : json.loads()\n",
    "import json\n",
    "\n",
    "with open(\"my_json.json\", 'r') as json_file:\n",
    "    json_dict = json.load(json_file)\n",
    "\n",
    "json_dict"
   ]
  },
  {
   "cell_type": "code",
   "execution_count": 18,
   "metadata": {},
   "outputs": [
    {
     "name": "stdout",
     "output_type": "stream",
     "text": [
      "<class 'str'>\n",
      "============\n"
     ]
    },
    {
     "data": {
      "text/plain": [
       "'{\\n    \"1.FirstName\": \"Gildong\",\\n    \"2.LastName\": \"Hong\",\\n    \"3.Age\": 20,\\n    \"4.University\": \"Awesome University\",\\n    \"5.Courses\": [\\n        {\\n            \"Classes\": [\\n                \"Probability\",\\n                \"Generalized Linear Model\",\\n                \"Categorical Data Analysis\"\\n            ],\\n            \"Major\": \"Statistics\"\\n        },\\n        {\\n            \"Classes\": [\\n                \"Data Structure\",\\n                \"Programming\",\\n                \"Algorithms\"\\n            ],\\n            \"Minor\": \"ComputerScience\"\\n        }\\n    ]\\n}'"
      ]
     },
     "execution_count": 18,
     "metadata": {},
     "output_type": "execute_result"
    }
   ],
   "source": [
    "# 메모리에 저장된 json_object는 <'str'> 자료형이다. 이를 json.loads()를 이용하여 파이썬 객체로 읽는다. (json포맷 데이터 -> Python객체)\n",
    "\n",
    "print(type(json_object))\n",
    "print('============')\n",
    "json_object"
   ]
  },
  {
   "cell_type": "code",
   "execution_count": 21,
   "metadata": {},
   "outputs": [
    {
     "data": {
      "text/plain": [
       "{'1.FirstName': 'Gildong',\n",
       " '2.LastName': 'Hong',\n",
       " '3.Age': 20,\n",
       " '4.University': 'Awesome University',\n",
       " '5.Courses': [{'Classes': ['Probability',\n",
       "    'Generalized Linear Model',\n",
       "    'Categorical Data Analysis'],\n",
       "   'Major': 'Statistics'},\n",
       "  {'Classes': ['Data Structure', 'Programming', 'Algorithms'],\n",
       "   'Minor': 'ComputerScience'}]}"
      ]
     },
     "execution_count": 21,
     "metadata": {},
     "output_type": "execute_result"
    }
   ],
   "source": [
    "import json\n",
    "\n",
    "json_dict2 = json.loads(json_object)\n",
    "json_dict2"
   ]
  },
  {
   "cell_type": "markdown",
   "metadata": {},
   "source": [
    "# YAML 파일 다루기"
   ]
  },
  {
   "cell_type": "markdown",
   "metadata": {},
   "source": [
    "YAML은 \"YAML Ain't Markup Language\"의 약어로서, 인간이 읽을 수 있는 데이터 직렬화 언어(human-readable data-serialization language) 입니다.<br>\n",
    "YAML은 데이터가 저장되거나 전송되는 구성 파일(configuration file)과 애플리케이션에서 종종 사용됩니다.<br>\n",
    "YAML은 XML과 동일한 커뮤니케이션 애플리케이션을 대상으로 하지만 최소한의 구문을 가지고 있습니다."
   ]
  },
  {
   "cell_type": "code",
   "execution_count": 25,
   "metadata": {},
   "outputs": [
    {
     "name": "stdout",
     "output_type": "stream",
     "text": [
      "{'Vegetables': ['Pepper', 'Tomato', 'Garlic']}\n"
     ]
    }
   ],
   "source": [
    "import yaml\n",
    "\n",
    "with open('./vegetables.yaml') as f:\n",
    "    vegetables = yaml.load(f, Loader=yaml.FullLoader)\n",
    "    print(vegetables)"
   ]
  },
  {
   "cell_type": "markdown",
   "metadata": {},
   "source": [
    "key, value(list)로 구성된 Dictionary로 YAML을 파싱함"
   ]
  },
  {
   "cell_type": "code",
   "execution_count": 27,
   "metadata": {},
   "outputs": [
    {
     "data": {
      "text/plain": [
       "{'apiVersion': 'apps/v1',\n",
       " 'kind': 'Deployment',\n",
       " 'metadata': {'name': 'frontend',\n",
       "  'labels': {'app': 'mywebsite', 'tier': 'frontend'}},\n",
       " 'spec': {'replicas': 3,\n",
       "  'template': {'metadata': {'name': 'myapp-pod', 'labels': {'app': 'myapp'}},\n",
       "   'spec': {'containers': [{'name': 'nginx', 'image': 'nginx'}]}},\n",
       "  'selector': {'matchLabels': {'app': 'myapp'}}}}"
      ]
     },
     "execution_count": 27,
     "metadata": {},
     "output_type": "execute_result"
    }
   ],
   "source": [
    "with open('./k8s_deployment.yaml') as f:\n",
    "    k8s = yaml.load(f, Loader=yaml.FullLoader)\n",
    "\n",
    "k8s"
   ]
  },
  {
   "cell_type": "code",
   "execution_count": null,
   "metadata": {},
   "outputs": [],
   "source": [
    "# 2. 여러개의 YAML 파일들을 파싱하여 읽어오기 : yaml.load_all()"
   ]
  },
  {
   "cell_type": "code",
   "execution_count": null,
   "metadata": {},
   "outputs": [],
   "source": [
    "# 3. 읽어온 YAML 파일을 정렬하기"
   ]
  },
  {
   "cell_type": "code",
   "execution_count": 28,
   "metadata": {},
   "outputs": [
    {
     "name": "stdout",
     "output_type": "stream",
     "text": [
      "{'hyundai': 45000, 'tesla': 65000, 'chevrolet': 42000, 'audi': 51000, 'mercedesbenz': 80000}\n",
      "==================\n",
      "audi: 51000\n",
      "chevrolet: 42000\n",
      "hyundai: 45000\n",
      "mercedesbenz: 80000\n",
      "tesla: 65000\n",
      "\n"
     ]
    }
   ],
   "source": [
    "with open('cars.yaml') as f:\n",
    "    cars_original = yaml.load(f, Loader=yaml.FullLoader)\n",
    "    print(cars_original)\n",
    "\n",
    "    print('==================')\n",
    "\n",
    "    # sorting by key\n",
    "    cars_sorted = yaml.dump(cars_original, sort_keys=True)\n",
    "    print(cars_sorted)"
   ]
  },
  {
   "cell_type": "code",
   "execution_count": 30,
   "metadata": {},
   "outputs": [],
   "source": [
    "import yaml\n",
    "\n",
    "data = {\n",
    "    \"name\": \"John\",\n",
    "    \"age\": 30,\n",
    "    \"city\": \"New York\"\n",
    "}\n",
    "\n",
    "with open('data.yaml', 'w') as yaml_file:\n",
    "    yaml.dump(data, yaml_file)\n"
   ]
  },
  {
   "cell_type": "markdown",
   "metadata": {},
   "source": [
    "json.dump(), yaml.dump()는 직렬화 함수임을 명시!"
   ]
  },
  {
   "cell_type": "markdown",
   "metadata": {},
   "source": []
  }
 ],
 "metadata": {
  "kernelspec": {
   "display_name": "pyeardream",
   "language": "python",
   "name": "python3"
  },
  "language_info": {
   "codemirror_mode": {
    "name": "ipython",
    "version": 3
   },
   "file_extension": ".py",
   "mimetype": "text/x-python",
   "name": "python",
   "nbconvert_exporter": "python",
   "pygments_lexer": "ipython3",
   "version": "3.11.5"
  }
 },
 "nbformat": 4,
 "nbformat_minor": 2
}
