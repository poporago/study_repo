{
 "cells": [
  {
   "cell_type": "code",
   "execution_count": 1,
   "metadata": {},
   "outputs": [],
   "source": [
    "# 포맷\n",
    "\n",
    "try : \n",
    "    # 예외가 발생할 가능성이 있는 코드\n",
    "    pass\n",
    "except : \n",
    "    # 예외가 발생했을 때 실행할 코드\n",
    "    pass\n",
    "else : \n",
    "    # 예외가 발생하지 않았을 때 실행할 코드\n",
    "    pass\n",
    "finally : \n",
    "    # 무조건 실행하는 코드\n",
    "    pass"
   ]
  },
  {
   "cell_type": "code",
   "execution_count": null,
   "metadata": {},
   "outputs": [],
   "source": [
    "try :\n",
    "    입력 = int(input(\"정수 입력 > \"))\n",
    "except :\n",
    "    print(\"정수를 입력하지 않았습니다.\")\n",
    "else : \n",
    "    print(f\"원의 반지름 : {숫자입력}\")\n",
    "    print(f\"원의 둘레 : {2 * 3.14 * 숫자입력}\")\n",
    "    print(f\"원의 넓이 : {3.14 * 숫자입력 * 숫자입력}\")\n",
    "\n",
    "## 사실 else구문 내용을 try구문에 넣어도 상관이 없음, else구문을 일부러 사용할 필요는 없다. (현대언어중 python과 ruby만 있는 문법, c,c#, c++,java등에는 없음)"
   ]
  },
  {
   "cell_type": "code",
   "execution_count": null,
   "metadata": {},
   "outputs": [],
   "source": [
    "try :\n",
    "    입력 = int(input(\"정수 입력 > \"))\n",
    "    print(f\"원의 반지름 : {숫자입력}\")\n",
    "    print(f\"원의 둘레 : {2 * 3.14 * 숫자입력}\")\n",
    "    print(f\"원의 넓이 : {3.14 * 숫자입력 * 숫자입력}\")\n",
    "except :\n",
    "    print(\"정수를 입력하지 않았습니다.\")"
   ]
  },
  {
   "cell_type": "code",
   "execution_count": null,
   "metadata": {},
   "outputs": [],
   "source": [
    "# finally 구문 , 예외처리를 지원하는 모든 프로그래밍 언어가 지원하는 문법\n",
    "# 예외와 상관없이 \"\"무조건\"\" 실행하는 블럭\n",
    "\n",
    "try :\n",
    "    입력 = int(input(\"정수 입력 > \"))\n",
    "    print(f\"원의 반지름 : {숫자입력}\")\n",
    "    print(f\"원의 둘레 : {2 * 3.14 * 숫자입력}\")\n",
    "    print(f\"원의 넓이 : {3.14 * 숫자입력 * 숫자입력}\")\n",
    "except :\n",
    "    print(\"정수를 입력하지 않았습니다.\")\n",
    "\n",
    "finally : \n",
    "    print(\"무조건적으로 실행되는 코드 입니다\")\n",
    "\n",
    "## finally 부분이 예외를 잡는 것은 아님 -> 예외를 잡는 것은 무조건 try구문\n",
    "## 그러나 fianally 없이 indentation을 앞으로 써도 동일한 기능을 갖지만, 반복문 내부나 함수 내부에서는 다르게 작동."
   ]
  },
  {
   "cell_type": "code",
   "execution_count": 2,
   "metadata": {},
   "outputs": [
    {
     "name": "stdout",
     "output_type": "stream",
     "text": [
      "함수()에 진입했습니다.\n",
      "try 구문에 진입했습니다.\n",
      "finally 구문에 진입했습니다.\n"
     ]
    }
   ],
   "source": [
    "def f():\n",
    "    print(\"함수()에 진입했습니다.\")\n",
    "    try :\n",
    "        print(\"try 구문에 진입했습니다.\")\n",
    "        return\n",
    "        print(\"try 구문이 끝났습니다.\")\n",
    "    except : \n",
    "        print(\"except 구문에 진입했습니다.\")\n",
    "    finally :\n",
    "        print(\"finally 구문에 진입했습니다.\")  # try구문 내에 return이 있더라도 fially구문은 무조건 실행되는 것을 알 수 있음\n",
    "    print(\"함수가 끝났습니다\")\n",
    "\n",
    "f()"
   ]
  },
  {
   "cell_type": "code",
   "execution_count": 3,
   "metadata": {},
   "outputs": [],
   "source": [
    "# 사용자로부터 파일 이름을 입력받고\n",
    "# 그 파일의 내용을 int() 함수로 정수 변환한 뒤 출력하는 프로그램\n",
    "\n",
    "def g(파일주소):\n",
    "    \n",
    "    file = open(파일주소,'r')\n",
    "    line = file.read()\n",
    "    line = int(line)\n",
    "    file.close()\n",
    "    return line\n"
   ]
  },
  {
   "cell_type": "code",
   "execution_count": 4,
   "metadata": {},
   "outputs": [],
   "source": [
    "# 예외처리 적용\n",
    "\n",
    "def g(파일주소):\n",
    "    try:\n",
    "        file = open(파일주소,'r')\n",
    "        line = file.read()\n",
    "        try :\n",
    "            line = int(line)\n",
    "            return line\n",
    "        except : \n",
    "             print('숫자로 변환할 수 없는 파일입니다')\n",
    "        finally: \n",
    "            file.close()\n",
    "    except : \n",
    "        print(\"존재하지 않는 파일입니다\")"
   ]
  },
  {
   "cell_type": "code",
   "execution_count": 5,
   "metadata": {},
   "outputs": [],
   "source": [
    "def g(파일주소):\n",
    "    try:\n",
    "        file = open(파일주소,'r')\n",
    "        line = file.read()\n",
    "        try :\n",
    "            line = int(line)\n",
    "            return line\n",
    "        except FileNotFoundError:\n",
    "            print(\"존재하지 않는 파일 입니다.\")\n",
    "        except ValueError: \n",
    "            print('숫자로 변환할 수 없는 파일입니다')\n",
    "        finally: \n",
    "            if 파일 != None:\n",
    "                file.close()\n",
    "    except : \n",
    "        print(\"존재하지 않는 파일입니다\")"
   ]
  }
 ],
 "metadata": {
  "kernelspec": {
   "display_name": "pyeardream",
   "language": "python",
   "name": "python3"
  },
  "language_info": {
   "codemirror_mode": {
    "name": "ipython",
    "version": 3
   },
   "file_extension": ".py",
   "mimetype": "text/x-python",
   "name": "python",
   "nbconvert_exporter": "python",
   "pygments_lexer": "ipython3",
   "version": "3.11.5"
  }
 },
 "nbformat": 4,
 "nbformat_minor": 2
}
