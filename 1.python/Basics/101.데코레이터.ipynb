{
 "cells": [
  {
   "cell_type": "markdown",
   "metadata": {},
   "source": [
    "## Arguments & keyword Arguments"
   ]
  },
  {
   "cell_type": "code",
   "execution_count": 38,
   "metadata": {},
   "outputs": [],
   "source": [
    "def arg_function(*args):\n",
    "    print(f\"len of arguments: {len(args)}\")\n",
    "    print(type(args))\n",
    "    for item in args:\n",
    "        print(item)"
   ]
  },
  {
   "cell_type": "code",
   "execution_count": 39,
   "metadata": {},
   "outputs": [
    {
     "name": "stdout",
     "output_type": "stream",
     "text": [
      "len of arguments: 0\n",
      "<class 'tuple'>\n"
     ]
    }
   ],
   "source": [
    "arg_function()"
   ]
  },
  {
   "cell_type": "code",
   "execution_count": 40,
   "metadata": {},
   "outputs": [
    {
     "name": "stdout",
     "output_type": "stream",
     "text": [
      "len of arguments: 3\n",
      "<class 'tuple'>\n",
      "arg1\n",
      "arg2\n",
      "arg3\n"
     ]
    }
   ],
   "source": [
    "arg_function('arg1','arg2','arg3')"
   ]
  },
  {
   "cell_type": "code",
   "execution_count": 64,
   "metadata": {},
   "outputs": [],
   "source": [
    "def kwarg_function(**kwargs):\n",
    "    print(f'len of kwargs: {len(kwargs)}')\n",
    "    for key, value in kwargs.items():\n",
    "        print(f'key : {key}, value : {value}')"
   ]
  },
  {
   "cell_type": "code",
   "execution_count": 65,
   "metadata": {},
   "outputs": [
    {
     "name": "stdout",
     "output_type": "stream",
     "text": [
      "len of kwargs: 1\n",
      "key : args1, value : good\n"
     ]
    }
   ],
   "source": [
    "kwarg_function(args1='good')"
   ]
  },
  {
   "cell_type": "code",
   "execution_count": 66,
   "metadata": {},
   "outputs": [
    {
     "name": "stdout",
     "output_type": "stream",
     "text": [
      "len of kwargs: 2\n",
      "key : args1, value : good\n",
      "key : args2, value : bad\n"
     ]
    }
   ],
   "source": [
    "kwarg_function(args1='good', args2='bad')"
   ]
  },
  {
   "cell_type": "markdown",
   "metadata": {},
   "source": [
    "## Decorator function"
   ]
  },
  {
   "cell_type": "code",
   "execution_count": 55,
   "metadata": {},
   "outputs": [],
   "source": [
    "def trace(func):                             # 호출할 함수를 매개변수로 받음\n",
    "    def wrapper():\n",
    "        print(func.__name__, '함수 시작')    # __name__으로 함수 이름 출력\n",
    "        func()                               # 매개변수로 받은 함수를 호출\n",
    "        print(func.__name__, '함수 끝')\n",
    "    return wrapper                           # wrapper 함수 반환\n",
    " \n",
    "@trace    # @데코레이터\n",
    "def hello():\n",
    "    print('hello')\n",
    " \n",
    "@trace    # @데코레이터\n",
    "def world():\n",
    "    print('world')"
   ]
  },
  {
   "cell_type": "code",
   "execution_count": 56,
   "metadata": {},
   "outputs": [
    {
     "name": "stdout",
     "output_type": "stream",
     "text": [
      "hello 함수 시작\n",
      "hello\n",
      "hello 함수 끝\n",
      "world 함수 시작\n",
      "world\n",
      "world 함수 끝\n"
     ]
    }
   ],
   "source": [
    "hello()    # 함수를 그대로 호출\n",
    "world()    # 함수를 그대로 호출"
   ]
  },
  {
   "cell_type": "code",
   "execution_count": 42,
   "metadata": {},
   "outputs": [],
   "source": [
    "def decofunc(func):\n",
    "    def wrapper(*args, **kwargs):\n",
    "        print(\"my pre-process\")\n",
    "        print(func(*args, **kwargs))\n",
    "        print(\"my post-process\")\n",
    "    return wrapper"
   ]
  },
  {
   "cell_type": "code",
   "execution_count": 47,
   "metadata": {},
   "outputs": [],
   "source": [
    "@decofunc\n",
    "def demo():\n",
    "    print(\"im demo\")"
   ]
  },
  {
   "cell_type": "code",
   "execution_count": 48,
   "metadata": {},
   "outputs": [
    {
     "name": "stdout",
     "output_type": "stream",
     "text": [
      "my pre-process\n",
      "im demo\n",
      "None\n",
      "my post-process\n"
     ]
    }
   ],
   "source": [
    "demo()  # demo에 리턴값이 있으면 None 대신 어떤 작업을 할 수 있음"
   ]
  },
  {
   "cell_type": "code",
   "execution_count": 49,
   "metadata": {},
   "outputs": [
    {
     "name": "stdout",
     "output_type": "stream",
     "text": [
      "my pre-process\n",
      "im demo\n",
      "5\n",
      "my post-process\n"
     ]
    }
   ],
   "source": [
    "@decofunc\n",
    "def demo():\n",
    "    print(\"im demo\")\n",
    "    return 5\n",
    "\n",
    "demo()"
   ]
  },
  {
   "cell_type": "code",
   "execution_count": 60,
   "metadata": {},
   "outputs": [],
   "source": [
    "def decofunc(func):\n",
    "    def wrapper():\n",
    "        print(\"my pre-process\")\n",
    "        print(func())\n",
    "        print(\"my post-process\")\n",
    "    return wrapper"
   ]
  },
  {
   "cell_type": "code",
   "execution_count": 61,
   "metadata": {},
   "outputs": [],
   "source": [
    "@decofunc\n",
    "def demo():\n",
    "    print('데코레이터를 적용한 데모 함수입니다')"
   ]
  },
  {
   "cell_type": "code",
   "execution_count": 62,
   "metadata": {},
   "outputs": [
    {
     "name": "stdout",
     "output_type": "stream",
     "text": [
      "my pre-process\n",
      "데코레이터를 적용한 데모 함수입니다\n",
      "None\n",
      "my post-process\n"
     ]
    }
   ],
   "source": [
    "demo()   #print(func())의 경우 func()의 값의 리턴값을 print하게 되는데 return이 비어있거나 None이면 None을 출력하는 구조"
   ]
  },
  {
   "cell_type": "markdown",
   "metadata": {},
   "source": [
    "## 데코레이터 팩토리"
   ]
  },
  {
   "cell_type": "code",
   "execution_count": 67,
   "metadata": {},
   "outputs": [],
   "source": [
    "def decoarg(arg):\n",
    "    print('decoarg실행')\n",
    "    print(f'decoarg함수의 인자: {arg}')\n",
    "    def decofunc(func):\n",
    "        def wrapper(*args, **kwargs):\n",
    "            print(f'wrapper: {arg}')\n",
    "            decovalue = func(*args, **kwargs)\n",
    "            print(decovalue * 5)\n",
    "        return wrapper\n",
    "    return decofunc"
   ]
  },
  {
   "cell_type": "code",
   "execution_count": 68,
   "metadata": {},
   "outputs": [
    {
     "name": "stdout",
     "output_type": "stream",
     "text": [
      "decoarg실행\n",
      "decoarg함수의 인자: deco arg\n"
     ]
    }
   ],
   "source": [
    "@decoarg(\"deco arg\")\n",
    "def demo(arg1):\n",
    "    return arg1"
   ]
  },
  {
   "cell_type": "code",
   "execution_count": 69,
   "metadata": {},
   "outputs": [
    {
     "name": "stdout",
     "output_type": "stream",
     "text": [
      "wrapper: deco arg\n",
      "15\n"
     ]
    }
   ],
   "source": [
    "demo(3)"
   ]
  },
  {
   "cell_type": "code",
   "execution_count": 70,
   "metadata": {},
   "outputs": [
    {
     "name": "stdout",
     "output_type": "stream",
     "text": [
      "decoarg실행\n",
      "decoarg함수의 인자: 10\n",
      "wrapper: 10\n",
      "150\n"
     ]
    }
   ],
   "source": [
    "@decoarg(10)\n",
    "def multiply(x, y):\n",
    "    return x* y\n",
    "\n",
    "multiply(5,6)"
   ]
  },
  {
   "cell_type": "markdown",
   "metadata": {},
   "source": [
    "## Decorator Class"
   ]
  },
  {
   "cell_type": "code",
   "execution_count": 18,
   "metadata": {},
   "outputs": [],
   "source": [
    "class DecoClass:\n",
    "    def __init__(self, func):\n",
    "        self.func = func\n",
    "\n",
    "    def __call__(self, *args, **kwargs):\n",
    "        print(\"my pre-process\")\n",
    "        print(self.func(*args, **kwargs))\n",
    "        print(\"my post-process\")"
   ]
  },
  {
   "cell_type": "code",
   "execution_count": 19,
   "metadata": {},
   "outputs": [],
   "source": [
    "@DecoClass\n",
    "def demo():\n",
    "    return \"i'm demo\""
   ]
  },
  {
   "cell_type": "code",
   "execution_count": 20,
   "metadata": {},
   "outputs": [
    {
     "name": "stdout",
     "output_type": "stream",
     "text": [
      "my pre-process\n",
      "i'm demo\n",
      "my post-process\n"
     ]
    }
   ],
   "source": [
    "demo()"
   ]
  },
  {
   "cell_type": "code",
   "execution_count": 21,
   "metadata": {},
   "outputs": [],
   "source": [
    "class DecoClass:\n",
    "    def __init__(self,arg):\n",
    "        self.arg= arg  #클래스가 생성되는 즉시 만들어진다.\n",
    "        print('생성자 테스트')\n",
    "\n",
    "    def __call__(self, func, *args, **kwargs): #클래스를 호출할때는 매직메서드 call을 이용한다.\n",
    "        def wrapper(*args):\n",
    "            print(f'wrapper : {self.arg}')\n",
    "            decovalue = func(*args)\n",
    "            print(decovalue * 5)\n",
    "        return wrapper\n",
    "\n"
   ]
  },
  {
   "cell_type": "code",
   "execution_count": 22,
   "metadata": {},
   "outputs": [
    {
     "name": "stdout",
     "output_type": "stream",
     "text": [
      "생성자 테스트\n"
     ]
    }
   ],
   "source": [
    "@DecoClass(\"deco arg\")\n",
    "def demo(val):\n",
    "    return val+10"
   ]
  },
  {
   "cell_type": "code",
   "execution_count": 23,
   "metadata": {},
   "outputs": [
    {
     "name": "stdout",
     "output_type": "stream",
     "text": [
      "wrapper : deco arg\n",
      "65\n"
     ]
    }
   ],
   "source": [
    "demo(3)"
   ]
  },
  {
   "cell_type": "markdown",
   "metadata": {},
   "source": [
    "## 데코레이터 예시"
   ]
  },
  {
   "cell_type": "code",
   "execution_count": 30,
   "metadata": {},
   "outputs": [],
   "source": [
    "# 타이머 데코레이터\n",
    "\n",
    "import time\n",
    "\n",
    "def timing_decorator(func):\n",
    "    def wrapper(*args, **kwargs):\n",
    "        # 함수 실행 전 시간 측정\n",
    "        start_time = time.time()\n",
    "        result = func(*args, **kwargs)\n",
    "        # 함수 실행 후 시간 측정\n",
    "        end_time = time.time()\n",
    "        # 함수 실행 시간 출력\n",
    "        print(f'함수의 작동 시간은 {end_time-start_time} 입니다.')\n",
    "\n",
    "    return wrapper\n",
    "\n",
    "\n",
    "@timing_decorator\n",
    "def sample_function(n):\n",
    "    sum = 0\n",
    "    for i in range(n):\n",
    "        sum += i\n",
    "    return sum\n",
    " "
   ]
  },
  {
   "cell_type": "code",
   "execution_count": 31,
   "metadata": {},
   "outputs": [
    {
     "name": "stdout",
     "output_type": "stream",
     "text": [
      "함수의 작동 시간은 0.3768444061279297 입니다.\n"
     ]
    }
   ],
   "source": [
    "sample_function(10000000)"
   ]
  },
  {
   "cell_type": "code",
   "execution_count": 75,
   "metadata": {},
   "outputs": [
    {
     "name": "stdout",
     "output_type": "stream",
     "text": [
      "예제 함수 실행\n"
     ]
    }
   ],
   "source": [
    "# 로깅 데코레이터\n",
    "import logging\n",
    "\n",
    "def logging_decroator(func):\n",
    "    def wrapper(*args, **kwargs):\n",
    "        logging.info(f\"{func.__name__} 호출됨\")\n",
    "        result = func(*args, **kwargs)\n",
    "        logging.info(f\"{func.__name__} 종료됨\")\n",
    "        return result\n",
    "    return wrapper\n",
    "\n",
    "\n",
    "@logging_decroator\n",
    "def example_function():\n",
    "    print(\"예제 함수 실행\")\n",
    "\n",
    "example_function()"
   ]
  },
  {
   "cell_type": "code",
   "execution_count": null,
   "metadata": {},
   "outputs": [],
   "source": []
  }
 ],
 "metadata": {
  "kernelspec": {
   "display_name": "pyeardream",
   "language": "python",
   "name": "python3"
  },
  "language_info": {
   "codemirror_mode": {
    "name": "ipython",
    "version": 3
   },
   "file_extension": ".py",
   "mimetype": "text/x-python",
   "name": "python",
   "nbconvert_exporter": "python",
   "pygments_lexer": "ipython3",
   "version": "3.11.5"
  }
 },
 "nbformat": 4,
 "nbformat_minor": 2
}
