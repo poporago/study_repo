{
 "cells": [
  {
   "cell_type": "code",
   "execution_count": null,
   "metadata": {},
   "outputs": [],
   "source": [
    "# 예외 객체 : 예외와 관련된 정보를 담고 있는 객체\n",
    "\n",
    "try  : \n",
    "    [사용자로부터 어떤 입력을 받고, 네트워크로 전송하는 프로그램]\n",
    "\n",
    "except Exception as e :\n",
    "    if type(e) == ValueError:\n",
    "        print(\"값을 다시 입력해주세요.\")\n",
    "    elif type(e) == ConnectionError:\n",
    "        print(\"인터넷 연결에 문제가 있습니다.\")\n",
    "    else:\n",
    "        i = input(\"오류 내용을 전송하시겠습니까? [Y/N]\")\n",
    "        if i in [\"Y\", \"y\"]:\n",
    "            메일보내기(type(e),str(e))"
   ]
  },
  {
   "cell_type": "code",
   "execution_count": null,
   "metadata": {},
   "outputs": [],
   "source": [
    "try  : \n",
    "    [사용자로부터 어떤 입력을 받고, 네트워크로 전송하는 프로그램]\n",
    "\n",
    "#except는 if문처럼 순차적으로 진행된다.\n",
    "\n",
    "except ValueError:\n",
    "    print(\"값을 다시 입력해주세요.\")\n",
    "except ConnectionError:\n",
    "    print(\"인터넷 연결에 문제가 있습니다.\")\n",
    "except Exception as e:              # 모든 오류의 부모로서, 반드시 마지막에 위치해야 한다.\n",
    "    i = input(\"오류 내용을 전송하시겠습니까? [Y/N]\")\n",
    "    if i in [\"Y\", \"y\"]:\n",
    "          메일보내기(type(e),str(e))"
   ]
  },
  {
   "cell_type": "code",
   "execution_count": null,
   "metadata": {},
   "outputs": [],
   "source": []
  }
 ],
 "metadata": {
  "language_info": {
   "name": "python"
  }
 },
 "nbformat": 4,
 "nbformat_minor": 2
}
