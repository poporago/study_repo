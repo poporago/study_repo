{
 "cells": [
  {
   "cell_type": "code",
   "execution_count": 1,
   "id": "72a12237-7f42-474b-b599-9f77c0cece8c",
   "metadata": {
    "tags": []
   },
   "outputs": [],
   "source": [
    "import datetime\n",
    "import pytz\n",
    "\n",
    "seoul = pytz.timezone(\"Asia/Seoul\")\n",
    "now = datetime.datetime.now(seoul)"
   ]
  },
  {
   "cell_type": "code",
   "execution_count": 17,
   "id": "ee5f3915-535b-49e3-994a-dcfcac0db64f",
   "metadata": {
    "tags": []
   },
   "outputs": [
    {
     "name": "stdout",
     "output_type": "stream",
     "text": [
      "2023년 12월 17일 1시 46분 3초\n"
     ]
    }
   ],
   "source": [
    "print(\"{}년 {}월 {}일 {}시 {}분 {}초\".format(\n",
    "now.year,\n",
    "now.month,\n",
    "now.day,\n",
    "now.hour,\n",
    "now.minute,\n",
    "now.second))"
   ]
  }
 ],
 "metadata": {
  "kernelspec": {
   "display_name": "Python 3 (ipykernel)",
   "language": "python",
   "name": "python3"
  },
  "language_info": {
   "codemirror_mode": {
    "name": "ipython",
    "version": 3
   },
   "file_extension": ".py",
   "mimetype": "text/x-python",
   "name": "python",
   "nbconvert_exporter": "python",
   "pygments_lexer": "ipython3",
   "version": "3.11.5"
  }
 },
 "nbformat": 4,
 "nbformat_minor": 5
}
